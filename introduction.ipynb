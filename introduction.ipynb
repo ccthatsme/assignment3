{
 "cells": [
  {
   "cell_type": "markdown",
   "metadata": {},
   "source": [
    "# Electric Vehicle Population Data for Washington State\n",
    "\n",
    "### Current registered EVs in the State of Washington according to Washington State Department of Licensing (DOL)\n"
   ]
  },
  {
   "cell_type": "markdown",
   "metadata": {},
   "source": [
    "## <ins>Introduction: Cleaning and exploring the dataset</ins>"
   ]
  },
  {
   "cell_type": "code",
   "execution_count": 1,
   "metadata": {},
   "outputs": [
    {
     "data": {
      "application/javascript": "(function(root) {\n  function now() {\n    return new Date();\n  }\n\n  var force = true;\n  var py_version = '3.4.3'.replace('rc', '-rc.').replace('.dev', '-dev.');\n  var reloading = false;\n  var Bokeh = root.Bokeh;\n\n  if (typeof (root._bokeh_timeout) === \"undefined\" || force) {\n    root._bokeh_timeout = Date.now() + 5000;\n    root._bokeh_failed_load = false;\n  }\n\n  function run_callbacks() {\n    try {\n      root._bokeh_onload_callbacks.forEach(function(callback) {\n        if (callback != null)\n          callback();\n      });\n    } finally {\n      delete root._bokeh_onload_callbacks;\n    }\n    console.debug(\"Bokeh: all callbacks have finished\");\n  }\n\n  function load_libs(css_urls, js_urls, js_modules, js_exports, callback) {\n    if (css_urls == null) css_urls = [];\n    if (js_urls == null) js_urls = [];\n    if (js_modules == null) js_modules = [];\n    if (js_exports == null) js_exports = {};\n\n    root._bokeh_onload_callbacks.push(callback);\n\n    if (root._bokeh_is_loading > 0) {\n      console.debug(\"Bokeh: BokehJS is being loaded, scheduling callback at\", now());\n      return null;\n    }\n    if (js_urls.length === 0 && js_modules.length === 0 && Object.keys(js_exports).length === 0) {\n      run_callbacks();\n      return null;\n    }\n    if (!reloading) {\n      console.debug(\"Bokeh: BokehJS not loaded, scheduling load and callback at\", now());\n    }\n\n    function on_load() {\n      root._bokeh_is_loading--;\n      if (root._bokeh_is_loading === 0) {\n        console.debug(\"Bokeh: all BokehJS libraries/stylesheets loaded\");\n        run_callbacks()\n      }\n    }\n    window._bokeh_on_load = on_load\n\n    function on_error() {\n      console.error(\"failed to load \" + url);\n    }\n\n    var skip = [];\n    if (window.requirejs) {\n      window.requirejs.config({'packages': {}, 'paths': {}, 'shim': {}});\n      root._bokeh_is_loading = css_urls.length + 0;\n    } else {\n      root._bokeh_is_loading = css_urls.length + js_urls.length + js_modules.length + Object.keys(js_exports).length;\n    }\n\n    var existing_stylesheets = []\n    var links = document.getElementsByTagName('link')\n    for (var i = 0; i < links.length; i++) {\n      var link = links[i]\n      if (link.href != null) {\n\texisting_stylesheets.push(link.href)\n      }\n    }\n    for (var i = 0; i < css_urls.length; i++) {\n      var url = css_urls[i];\n      if (existing_stylesheets.indexOf(url) !== -1) {\n\ton_load()\n\tcontinue;\n      }\n      const element = document.createElement(\"link\");\n      element.onload = on_load;\n      element.onerror = on_error;\n      element.rel = \"stylesheet\";\n      element.type = \"text/css\";\n      element.href = url;\n      console.debug(\"Bokeh: injecting link tag for BokehJS stylesheet: \", url);\n      document.body.appendChild(element);\n    }    var existing_scripts = []\n    var scripts = document.getElementsByTagName('script')\n    for (var i = 0; i < scripts.length; i++) {\n      var script = scripts[i]\n      if (script.src != null) {\n\texisting_scripts.push(script.src)\n      }\n    }\n    for (var i = 0; i < js_urls.length; i++) {\n      var url = js_urls[i];\n      if (skip.indexOf(url) !== -1 || existing_scripts.indexOf(url) !== -1) {\n\tif (!window.requirejs) {\n\t  on_load();\n\t}\n\tcontinue;\n      }\n      var element = document.createElement('script');\n      element.onload = on_load;\n      element.onerror = on_error;\n      element.async = false;\n      element.src = url;\n      console.debug(\"Bokeh: injecting script tag for BokehJS library: \", url);\n      document.head.appendChild(element);\n    }\n    for (var i = 0; i < js_modules.length; i++) {\n      var url = js_modules[i];\n      if (skip.indexOf(url) !== -1 || existing_scripts.indexOf(url) !== -1) {\n\tif (!window.requirejs) {\n\t  on_load();\n\t}\n\tcontinue;\n      }\n      var element = document.createElement('script');\n      element.onload = on_load;\n      element.onerror = on_error;\n      element.async = false;\n      element.src = url;\n      element.type = \"module\";\n      console.debug(\"Bokeh: injecting script tag for BokehJS library: \", url);\n      document.head.appendChild(element);\n    }\n    for (const name in js_exports) {\n      var url = js_exports[name];\n      if (skip.indexOf(url) >= 0 || root[name] != null) {\n\tif (!window.requirejs) {\n\t  on_load();\n\t}\n\tcontinue;\n      }\n      var element = document.createElement('script');\n      element.onerror = on_error;\n      element.async = false;\n      element.type = \"module\";\n      console.debug(\"Bokeh: injecting script tag for BokehJS library: \", url);\n      element.textContent = `\n      import ${name} from \"${url}\"\n      window.${name} = ${name}\n      window._bokeh_on_load()\n      `\n      document.head.appendChild(element);\n    }\n    if (!js_urls.length && !js_modules.length) {\n      on_load()\n    }\n  };\n\n  function inject_raw_css(css) {\n    const element = document.createElement(\"style\");\n    element.appendChild(document.createTextNode(css));\n    document.body.appendChild(element);\n  }\n\n  var js_urls = [\"https://cdn.bokeh.org/bokeh/release/bokeh-3.4.3.min.js\", \"https://cdn.bokeh.org/bokeh/release/bokeh-gl-3.4.3.min.js\", \"https://cdn.bokeh.org/bokeh/release/bokeh-widgets-3.4.3.min.js\", \"https://cdn.bokeh.org/bokeh/release/bokeh-tables-3.4.3.min.js\", \"https://cdn.holoviz.org/panel/1.4.5/dist/panel.min.js\"];\n  var js_modules = [];\n  var js_exports = {};\n  var css_urls = [];\n  var inline_js = [    function(Bokeh) {\n      Bokeh.set_log_level(\"info\");\n    },\nfunction(Bokeh) {} // ensure no trailing comma for IE\n  ];\n\n  function run_inline_js() {\n    if ((root.Bokeh !== undefined) || (force === true)) {\n      for (var i = 0; i < inline_js.length; i++) {\n\ttry {\n          inline_js[i].call(root, root.Bokeh);\n\t} catch(e) {\n\t  if (!reloading) {\n\t    throw e;\n\t  }\n\t}\n      }\n      // Cache old bokeh versions\n      if (Bokeh != undefined && !reloading) {\n\tvar NewBokeh = root.Bokeh;\n\tif (Bokeh.versions === undefined) {\n\t  Bokeh.versions = new Map();\n\t}\n\tif (NewBokeh.version !== Bokeh.version) {\n\t  Bokeh.versions.set(NewBokeh.version, NewBokeh)\n\t}\n\troot.Bokeh = Bokeh;\n      }} else if (Date.now() < root._bokeh_timeout) {\n      setTimeout(run_inline_js, 100);\n    } else if (!root._bokeh_failed_load) {\n      console.log(\"Bokeh: BokehJS failed to load within specified timeout.\");\n      root._bokeh_failed_load = true;\n    }\n    root._bokeh_is_initializing = false\n  }\n\n  function load_or_wait() {\n    // Implement a backoff loop that tries to ensure we do not load multiple\n    // versions of Bokeh and its dependencies at the same time.\n    // In recent versions we use the root._bokeh_is_initializing flag\n    // to determine whether there is an ongoing attempt to initialize\n    // bokeh, however for backward compatibility we also try to ensure\n    // that we do not start loading a newer (Panel>=1.0 and Bokeh>3) version\n    // before older versions are fully initialized.\n    if (root._bokeh_is_initializing && Date.now() > root._bokeh_timeout) {\n      root._bokeh_is_initializing = false;\n      root._bokeh_onload_callbacks = undefined;\n      console.log(\"Bokeh: BokehJS was loaded multiple times but one version failed to initialize.\");\n      load_or_wait();\n    } else if (root._bokeh_is_initializing || (typeof root._bokeh_is_initializing === \"undefined\" && root._bokeh_onload_callbacks !== undefined)) {\n      setTimeout(load_or_wait, 100);\n    } else {\n      root._bokeh_is_initializing = true\n      root._bokeh_onload_callbacks = []\n      var bokeh_loaded = Bokeh != null && (Bokeh.version === py_version || (Bokeh.versions !== undefined && Bokeh.versions.has(py_version)));\n      if (!reloading && !bokeh_loaded) {\n\troot.Bokeh = undefined;\n      }\n      load_libs(css_urls, js_urls, js_modules, js_exports, function() {\n\tconsole.debug(\"Bokeh: BokehJS plotting callback run at\", now());\n\trun_inline_js();\n      });\n    }\n  }\n  // Give older versions of the autoload script a head-start to ensure\n  // they initialize before we start loading newer version.\n  setTimeout(load_or_wait, 100)\n}(window));",
      "application/vnd.holoviews_load.v0+json": ""
     },
     "metadata": {},
     "output_type": "display_data"
    },
    {
     "data": {
      "application/javascript": "\nif ((window.PyViz === undefined) || (window.PyViz instanceof HTMLElement)) {\n  window.PyViz = {comms: {}, comm_status:{}, kernels:{}, receivers: {}, plot_index: []}\n}\n\n\n    function JupyterCommManager() {\n    }\n\n    JupyterCommManager.prototype.register_target = function(plot_id, comm_id, msg_handler) {\n      if (window.comm_manager || ((window.Jupyter !== undefined) && (Jupyter.notebook.kernel != null))) {\n        var comm_manager = window.comm_manager || Jupyter.notebook.kernel.comm_manager;\n        comm_manager.register_target(comm_id, function(comm) {\n          comm.on_msg(msg_handler);\n        });\n      } else if ((plot_id in window.PyViz.kernels) && (window.PyViz.kernels[plot_id])) {\n        window.PyViz.kernels[plot_id].registerCommTarget(comm_id, function(comm) {\n          comm.onMsg = msg_handler;\n        });\n      } else if (typeof google != 'undefined' && google.colab.kernel != null) {\n        google.colab.kernel.comms.registerTarget(comm_id, (comm) => {\n          var messages = comm.messages[Symbol.asyncIterator]();\n          function processIteratorResult(result) {\n            var message = result.value;\n            var content = {data: message.data, comm_id};\n            var buffers = []\n            for (var buffer of message.buffers || []) {\n              buffers.push(new DataView(buffer))\n            }\n            var metadata = message.metadata || {};\n            var msg = {content, buffers, metadata}\n            msg_handler(msg);\n            return messages.next().then(processIteratorResult);\n          }\n          return messages.next().then(processIteratorResult);\n        })\n      }\n    }\n\n    JupyterCommManager.prototype.get_client_comm = function(plot_id, comm_id, msg_handler) {\n      if (comm_id in window.PyViz.comms) {\n        return window.PyViz.comms[comm_id];\n      } else if (window.comm_manager || ((window.Jupyter !== undefined) && (Jupyter.notebook.kernel != null))) {\n        var comm_manager = window.comm_manager || Jupyter.notebook.kernel.comm_manager;\n        var comm = comm_manager.new_comm(comm_id, {}, {}, {}, comm_id);\n        if (msg_handler) {\n          comm.on_msg(msg_handler);\n        }\n      } else if ((plot_id in window.PyViz.kernels) && (window.PyViz.kernels[plot_id])) {\n        var comm = window.PyViz.kernels[plot_id].connectToComm(comm_id);\n        let retries = 0;\n        const open = () => {\n          if (comm.active) {\n            comm.open();\n          } else if (retries > 3) {\n            console.warn('Comm target never activated')\n          } else {\n            retries += 1\n            setTimeout(open, 500)\n          }\n        }\n        if (comm.active) {\n          comm.open();\n        } else {\n          setTimeout(open, 500)\n        }\n        if (msg_handler) {\n          comm.onMsg = msg_handler;\n        }\n      } else if (typeof google != 'undefined' && google.colab.kernel != null) {\n        var comm_promise = google.colab.kernel.comms.open(comm_id)\n        comm_promise.then((comm) => {\n          window.PyViz.comms[comm_id] = comm;\n          if (msg_handler) {\n            var messages = comm.messages[Symbol.asyncIterator]();\n            function processIteratorResult(result) {\n              var message = result.value;\n              var content = {data: message.data};\n              var metadata = message.metadata || {comm_id};\n              var msg = {content, metadata}\n              msg_handler(msg);\n              return messages.next().then(processIteratorResult);\n            }\n            return messages.next().then(processIteratorResult);\n          }\n        })\n        var sendClosure = (data, metadata, buffers, disposeOnDone) => {\n          return comm_promise.then((comm) => {\n            comm.send(data, metadata, buffers, disposeOnDone);\n          });\n        };\n        var comm = {\n          send: sendClosure\n        };\n      }\n      window.PyViz.comms[comm_id] = comm;\n      return comm;\n    }\n    window.PyViz.comm_manager = new JupyterCommManager();\n    \n\n\nvar JS_MIME_TYPE = 'application/javascript';\nvar HTML_MIME_TYPE = 'text/html';\nvar EXEC_MIME_TYPE = 'application/vnd.holoviews_exec.v0+json';\nvar CLASS_NAME = 'output';\n\n/**\n * Render data to the DOM node\n */\nfunction render(props, node) {\n  var div = document.createElement(\"div\");\n  var script = document.createElement(\"script\");\n  node.appendChild(div);\n  node.appendChild(script);\n}\n\n/**\n * Handle when a new output is added\n */\nfunction handle_add_output(event, handle) {\n  var output_area = handle.output_area;\n  var output = handle.output;\n  if ((output.data == undefined) || (!output.data.hasOwnProperty(EXEC_MIME_TYPE))) {\n    return\n  }\n  var id = output.metadata[EXEC_MIME_TYPE][\"id\"];\n  var toinsert = output_area.element.find(\".\" + CLASS_NAME.split(' ')[0]);\n  if (id !== undefined) {\n    var nchildren = toinsert.length;\n    var html_node = toinsert[nchildren-1].children[0];\n    html_node.innerHTML = output.data[HTML_MIME_TYPE];\n    var scripts = [];\n    var nodelist = html_node.querySelectorAll(\"script\");\n    for (var i in nodelist) {\n      if (nodelist.hasOwnProperty(i)) {\n        scripts.push(nodelist[i])\n      }\n    }\n\n    scripts.forEach( function (oldScript) {\n      var newScript = document.createElement(\"script\");\n      var attrs = [];\n      var nodemap = oldScript.attributes;\n      for (var j in nodemap) {\n        if (nodemap.hasOwnProperty(j)) {\n          attrs.push(nodemap[j])\n        }\n      }\n      attrs.forEach(function(attr) { newScript.setAttribute(attr.name, attr.value) });\n      newScript.appendChild(document.createTextNode(oldScript.innerHTML));\n      oldScript.parentNode.replaceChild(newScript, oldScript);\n    });\n    if (JS_MIME_TYPE in output.data) {\n      toinsert[nchildren-1].children[1].textContent = output.data[JS_MIME_TYPE];\n    }\n    output_area._hv_plot_id = id;\n    if ((window.Bokeh !== undefined) && (id in Bokeh.index)) {\n      window.PyViz.plot_index[id] = Bokeh.index[id];\n    } else {\n      window.PyViz.plot_index[id] = null;\n    }\n  } else if (output.metadata[EXEC_MIME_TYPE][\"server_id\"] !== undefined) {\n    var bk_div = document.createElement(\"div\");\n    bk_div.innerHTML = output.data[HTML_MIME_TYPE];\n    var script_attrs = bk_div.children[0].attributes;\n    for (var i = 0; i < script_attrs.length; i++) {\n      toinsert[toinsert.length - 1].childNodes[1].setAttribute(script_attrs[i].name, script_attrs[i].value);\n    }\n    // store reference to server id on output_area\n    output_area._bokeh_server_id = output.metadata[EXEC_MIME_TYPE][\"server_id\"];\n  }\n}\n\n/**\n * Handle when an output is cleared or removed\n */\nfunction handle_clear_output(event, handle) {\n  var id = handle.cell.output_area._hv_plot_id;\n  var server_id = handle.cell.output_area._bokeh_server_id;\n  if (((id === undefined) || !(id in PyViz.plot_index)) && (server_id !== undefined)) { return; }\n  var comm = window.PyViz.comm_manager.get_client_comm(\"hv-extension-comm\", \"hv-extension-comm\", function () {});\n  if (server_id !== null) {\n    comm.send({event_type: 'server_delete', 'id': server_id});\n    return;\n  } else if (comm !== null) {\n    comm.send({event_type: 'delete', 'id': id});\n  }\n  delete PyViz.plot_index[id];\n  if ((window.Bokeh !== undefined) & (id in window.Bokeh.index)) {\n    var doc = window.Bokeh.index[id].model.document\n    doc.clear();\n    const i = window.Bokeh.documents.indexOf(doc);\n    if (i > -1) {\n      window.Bokeh.documents.splice(i, 1);\n    }\n  }\n}\n\n/**\n * Handle kernel restart event\n */\nfunction handle_kernel_cleanup(event, handle) {\n  delete PyViz.comms[\"hv-extension-comm\"];\n  window.PyViz.plot_index = {}\n}\n\n/**\n * Handle update_display_data messages\n */\nfunction handle_update_output(event, handle) {\n  handle_clear_output(event, {cell: {output_area: handle.output_area}})\n  handle_add_output(event, handle)\n}\n\nfunction register_renderer(events, OutputArea) {\n  function append_mime(data, metadata, element) {\n    // create a DOM node to render to\n    var toinsert = this.create_output_subarea(\n    metadata,\n    CLASS_NAME,\n    EXEC_MIME_TYPE\n    );\n    this.keyboard_manager.register_events(toinsert);\n    // Render to node\n    var props = {data: data, metadata: metadata[EXEC_MIME_TYPE]};\n    render(props, toinsert[0]);\n    element.append(toinsert);\n    return toinsert\n  }\n\n  events.on('output_added.OutputArea', handle_add_output);\n  events.on('output_updated.OutputArea', handle_update_output);\n  events.on('clear_output.CodeCell', handle_clear_output);\n  events.on('delete.Cell', handle_clear_output);\n  events.on('kernel_ready.Kernel', handle_kernel_cleanup);\n\n  OutputArea.prototype.register_mime_type(EXEC_MIME_TYPE, append_mime, {\n    safe: true,\n    index: 0\n  });\n}\n\nif (window.Jupyter !== undefined) {\n  try {\n    var events = require('base/js/events');\n    var OutputArea = require('notebook/js/outputarea').OutputArea;\n    if (OutputArea.prototype.mime_types().indexOf(EXEC_MIME_TYPE) == -1) {\n      register_renderer(events, OutputArea);\n    }\n  } catch(err) {\n  }\n}\n",
      "application/vnd.holoviews_load.v0+json": ""
     },
     "metadata": {},
     "output_type": "display_data"
    },
    {
     "data": {
      "text/html": [
       "<style>*[data-root-id],\n",
       "*[data-root-id] > * {\n",
       "  box-sizing: border-box;\n",
       "  font-family: var(--jp-ui-font-family);\n",
       "  font-size: var(--jp-ui-font-size1);\n",
       "  color: var(--vscode-editor-foreground, var(--jp-ui-font-color1));\n",
       "}\n",
       "\n",
       "/* Override VSCode background color */\n",
       ".cell-output-ipywidget-background:has(\n",
       "    > .cell-output-ipywidget-background > .lm-Widget > *[data-root-id]\n",
       "  ),\n",
       ".cell-output-ipywidget-background:has(> .lm-Widget > *[data-root-id]) {\n",
       "  background-color: transparent !important;\n",
       "}\n",
       "</style>"
      ]
     },
     "metadata": {},
     "output_type": "display_data"
    },
    {
     "data": {
      "application/vnd.holoviews_exec.v0+json": "",
      "text/html": [
       "<div id='b6fc89b3-dba0-461e-b8fe-05c59fa9bc0d'>\n",
       "  <div id=\"d0c804e2-234e-49b4-abf0-2a6e3900dc9a\" data-root-id=\"b6fc89b3-dba0-461e-b8fe-05c59fa9bc0d\" style=\"display: contents;\"></div>\n",
       "</div>\n",
       "<script type=\"application/javascript\">(function(root) {\n",
       "  var docs_json = {\"f4b9eb40-8091-4558-abe6-f5dd769e5c65\":{\"version\":\"3.4.3\",\"title\":\"Bokeh Application\",\"roots\":[{\"type\":\"object\",\"name\":\"panel.models.browser.BrowserInfo\",\"id\":\"b6fc89b3-dba0-461e-b8fe-05c59fa9bc0d\"},{\"type\":\"object\",\"name\":\"panel.models.comm_manager.CommManager\",\"id\":\"e4023c73-cb40-4a5c-b2e6-d38f257a7b6e\",\"attributes\":{\"plot_id\":\"b6fc89b3-dba0-461e-b8fe-05c59fa9bc0d\",\"comm_id\":\"1f1d892eeecb499cacb258d7f2b27c48\",\"client_comm_id\":\"f1f71e8f850a4a329fa9df7e938e1560\"}}],\"defs\":[{\"type\":\"model\",\"name\":\"ReactiveHTML1\"},{\"type\":\"model\",\"name\":\"FlexBox1\",\"properties\":[{\"name\":\"align_content\",\"kind\":\"Any\",\"default\":\"flex-start\"},{\"name\":\"align_items\",\"kind\":\"Any\",\"default\":\"flex-start\"},{\"name\":\"flex_direction\",\"kind\":\"Any\",\"default\":\"row\"},{\"name\":\"flex_wrap\",\"kind\":\"Any\",\"default\":\"wrap\"},{\"name\":\"gap\",\"kind\":\"Any\",\"default\":\"\"},{\"name\":\"justify_content\",\"kind\":\"Any\",\"default\":\"flex-start\"}]},{\"type\":\"model\",\"name\":\"FloatPanel1\",\"properties\":[{\"name\":\"config\",\"kind\":\"Any\",\"default\":{\"type\":\"map\"}},{\"name\":\"contained\",\"kind\":\"Any\",\"default\":true},{\"name\":\"position\",\"kind\":\"Any\",\"default\":\"right-top\"},{\"name\":\"offsetx\",\"kind\":\"Any\",\"default\":null},{\"name\":\"offsety\",\"kind\":\"Any\",\"default\":null},{\"name\":\"theme\",\"kind\":\"Any\",\"default\":\"primary\"},{\"name\":\"status\",\"kind\":\"Any\",\"default\":\"normalized\"}]},{\"type\":\"model\",\"name\":\"GridStack1\",\"properties\":[{\"name\":\"mode\",\"kind\":\"Any\",\"default\":\"warn\"},{\"name\":\"ncols\",\"kind\":\"Any\",\"default\":null},{\"name\":\"nrows\",\"kind\":\"Any\",\"default\":null},{\"name\":\"allow_resize\",\"kind\":\"Any\",\"default\":true},{\"name\":\"allow_drag\",\"kind\":\"Any\",\"default\":true},{\"name\":\"state\",\"kind\":\"Any\",\"default\":[]}]},{\"type\":\"model\",\"name\":\"drag1\",\"properties\":[{\"name\":\"slider_width\",\"kind\":\"Any\",\"default\":5},{\"name\":\"slider_color\",\"kind\":\"Any\",\"default\":\"black\"},{\"name\":\"value\",\"kind\":\"Any\",\"default\":50}]},{\"type\":\"model\",\"name\":\"click1\",\"properties\":[{\"name\":\"terminal_output\",\"kind\":\"Any\",\"default\":\"\"},{\"name\":\"debug_name\",\"kind\":\"Any\",\"default\":\"\"},{\"name\":\"clears\",\"kind\":\"Any\",\"default\":0}]},{\"type\":\"model\",\"name\":\"FastWrapper1\",\"properties\":[{\"name\":\"object\",\"kind\":\"Any\",\"default\":null},{\"name\":\"style\",\"kind\":\"Any\",\"default\":null}]},{\"type\":\"model\",\"name\":\"NotificationAreaBase1\",\"properties\":[{\"name\":\"js_events\",\"kind\":\"Any\",\"default\":{\"type\":\"map\"}},{\"name\":\"position\",\"kind\":\"Any\",\"default\":\"bottom-right\"},{\"name\":\"_clear\",\"kind\":\"Any\",\"default\":0}]},{\"type\":\"model\",\"name\":\"NotificationArea1\",\"properties\":[{\"name\":\"js_events\",\"kind\":\"Any\",\"default\":{\"type\":\"map\"}},{\"name\":\"notifications\",\"kind\":\"Any\",\"default\":[]},{\"name\":\"position\",\"kind\":\"Any\",\"default\":\"bottom-right\"},{\"name\":\"_clear\",\"kind\":\"Any\",\"default\":0},{\"name\":\"types\",\"kind\":\"Any\",\"default\":[{\"type\":\"map\",\"entries\":[[\"type\",\"warning\"],[\"background\",\"#ffc107\"],[\"icon\",{\"type\":\"map\",\"entries\":[[\"className\",\"fas fa-exclamation-triangle\"],[\"tagName\",\"i\"],[\"color\",\"white\"]]}]]},{\"type\":\"map\",\"entries\":[[\"type\",\"info\"],[\"background\",\"#007bff\"],[\"icon\",{\"type\":\"map\",\"entries\":[[\"className\",\"fas fa-info-circle\"],[\"tagName\",\"i\"],[\"color\",\"white\"]]}]]}]}]},{\"type\":\"model\",\"name\":\"Notification\",\"properties\":[{\"name\":\"background\",\"kind\":\"Any\",\"default\":null},{\"name\":\"duration\",\"kind\":\"Any\",\"default\":3000},{\"name\":\"icon\",\"kind\":\"Any\",\"default\":null},{\"name\":\"message\",\"kind\":\"Any\",\"default\":\"\"},{\"name\":\"notification_type\",\"kind\":\"Any\",\"default\":null},{\"name\":\"_destroyed\",\"kind\":\"Any\",\"default\":false}]},{\"type\":\"model\",\"name\":\"TemplateActions1\",\"properties\":[{\"name\":\"open_modal\",\"kind\":\"Any\",\"default\":0},{\"name\":\"close_modal\",\"kind\":\"Any\",\"default\":0}]},{\"type\":\"model\",\"name\":\"BootstrapTemplateActions1\",\"properties\":[{\"name\":\"open_modal\",\"kind\":\"Any\",\"default\":0},{\"name\":\"close_modal\",\"kind\":\"Any\",\"default\":0}]},{\"type\":\"model\",\"name\":\"TemplateEditor1\",\"properties\":[{\"name\":\"layout\",\"kind\":\"Any\",\"default\":[]}]},{\"type\":\"model\",\"name\":\"MaterialTemplateActions1\",\"properties\":[{\"name\":\"open_modal\",\"kind\":\"Any\",\"default\":0},{\"name\":\"close_modal\",\"kind\":\"Any\",\"default\":0}]},{\"type\":\"model\",\"name\":\"copy_to_clipboard1\",\"properties\":[{\"name\":\"fill\",\"kind\":\"Any\",\"default\":\"none\"},{\"name\":\"value\",\"kind\":\"Any\",\"default\":null}]}]}};\n",
       "  var render_items = [{\"docid\":\"f4b9eb40-8091-4558-abe6-f5dd769e5c65\",\"roots\":{\"b6fc89b3-dba0-461e-b8fe-05c59fa9bc0d\":\"d0c804e2-234e-49b4-abf0-2a6e3900dc9a\"},\"root_ids\":[\"b6fc89b3-dba0-461e-b8fe-05c59fa9bc0d\"]}];\n",
       "  var docs = Object.values(docs_json)\n",
       "  if (!docs) {\n",
       "    return\n",
       "  }\n",
       "  const py_version = docs[0].version.replace('rc', '-rc.').replace('.dev', '-dev.')\n",
       "  async function embed_document(root) {\n",
       "    var Bokeh = get_bokeh(root)\n",
       "    await Bokeh.embed.embed_items_notebook(docs_json, render_items);\n",
       "    for (const render_item of render_items) {\n",
       "      for (const root_id of render_item.root_ids) {\n",
       "\tconst id_el = document.getElementById(root_id)\n",
       "\tif (id_el.children.length && id_el.children[0].hasAttribute('data-root-id')) {\n",
       "\t  const root_el = id_el.children[0]\n",
       "\t  root_el.id = root_el.id + '-rendered'\n",
       "\t  for (const child of root_el.children) {\n",
       "            // Ensure JupyterLab does not capture keyboard shortcuts\n",
       "            // see: https://jupyterlab.readthedocs.io/en/4.1.x/extension/notebook.html#keyboard-interaction-model\n",
       "\t    child.setAttribute('data-lm-suppress-shortcuts', 'true')\n",
       "\t  }\n",
       "\t}\n",
       "      }\n",
       "    }\n",
       "  }\n",
       "  function get_bokeh(root) {\n",
       "    if (root.Bokeh === undefined) {\n",
       "      return null\n",
       "    } else if (root.Bokeh.version !== py_version) {\n",
       "      if (root.Bokeh.versions === undefined || !root.Bokeh.versions.has(py_version)) {\n",
       "\treturn null\n",
       "      }\n",
       "      return root.Bokeh.versions.get(py_version);\n",
       "    } else if (root.Bokeh.version === py_version) {\n",
       "      return root.Bokeh\n",
       "    }\n",
       "    return null\n",
       "  }\n",
       "  function is_loaded(root) {\n",
       "    var Bokeh = get_bokeh(root)\n",
       "    return (Bokeh != null && Bokeh.Panel !== undefined)\n",
       "  }\n",
       "  if (is_loaded(root)) {\n",
       "    embed_document(root);\n",
       "  } else {\n",
       "    var attempts = 0;\n",
       "    var timer = setInterval(function(root) {\n",
       "      if (is_loaded(root)) {\n",
       "        clearInterval(timer);\n",
       "        embed_document(root);\n",
       "      } else if (document.readyState == \"complete\") {\n",
       "        attempts++;\n",
       "        if (attempts > 200) {\n",
       "          clearInterval(timer);\n",
       "\t  var Bokeh = get_bokeh(root)\n",
       "\t  if (Bokeh == null || Bokeh.Panel == null) {\n",
       "            console.warn(\"Panel: ERROR: Unable to run Panel code because Bokeh or Panel library is missing\");\n",
       "\t  } else {\n",
       "\t    console.warn(\"Panel: WARNING: Attempting to render but not all required libraries could be resolved.\")\n",
       "\t    embed_document(root)\n",
       "\t  }\n",
       "        }\n",
       "      }\n",
       "    }, 25, root)\n",
       "  }\n",
       "})(window);</script>"
      ]
     },
     "metadata": {
      "application/vnd.holoviews_exec.v0+json": {
       "id": "b6fc89b3-dba0-461e-b8fe-05c59fa9bc0d"
      }
     },
     "output_type": "display_data"
    }
   ],
   "source": [
    "import pandas as pd\n",
    "import seaborn as sns\n",
    "import numpy as np\n",
    "import matplotlib.pyplot as plt\n",
    "from scipy.stats import zscore\n",
    "import hvplot.pandas \n",
    "import holoviews as hv\n",
    "from bokeh.models import LogTicker, FuncTickFormatter, FixedTicker"
   ]
  },
  {
   "cell_type": "code",
   "execution_count": 2,
   "metadata": {},
   "outputs": [
    {
     "name": "stdout",
     "output_type": "stream",
     "text": [
      "17\n",
      "<class 'pandas.core.frame.DataFrame'>\n",
      "RangeIndex: 247344 entries, 0 to 247343\n",
      "Data columns (total 17 columns):\n",
      " #   Column                                             Non-Null Count   Dtype  \n",
      "---  ------                                             --------------   -----  \n",
      " 0   VIN (1-10)                                         247344 non-null  object \n",
      " 1   County                                             247340 non-null  object \n",
      " 2   City                                               247340 non-null  object \n",
      " 3   State                                              247344 non-null  object \n",
      " 4   Postal Code                                        247340 non-null  float64\n",
      " 5   Model Year                                         247344 non-null  int64  \n",
      " 6   Make                                               247344 non-null  object \n",
      " 7   Model                                              247344 non-null  object \n",
      " 8   Electric Vehicle Type                              247344 non-null  object \n",
      " 9   Clean Alternative Fuel Vehicle (CAFV) Eligibility  247344 non-null  object \n",
      " 10  Electric Range                                     247324 non-null  float64\n",
      " 11  Base MSRP                                          247324 non-null  float64\n",
      " 12  Legislative District                               246791 non-null  float64\n",
      " 13  DOL Vehicle ID                                     247344 non-null  int64  \n",
      " 14  Vehicle Location                                   247333 non-null  object \n",
      " 15  Electric Utility                                   247340 non-null  object \n",
      " 16  2020 Census Tract                                  247340 non-null  float64\n",
      "dtypes: float64(5), int64(2), object(10)\n",
      "memory usage: 32.1+ MB\n",
      "None\n"
     ]
    },
    {
     "data": {
      "text/html": [
       "<div>\n",
       "<style scoped>\n",
       "    .dataframe tbody tr th:only-of-type {\n",
       "        vertical-align: middle;\n",
       "    }\n",
       "\n",
       "    .dataframe tbody tr th {\n",
       "        vertical-align: top;\n",
       "    }\n",
       "\n",
       "    .dataframe thead th {\n",
       "        text-align: right;\n",
       "    }\n",
       "</style>\n",
       "<table border=\"1\" class=\"dataframe\">\n",
       "  <thead>\n",
       "    <tr style=\"text-align: right;\">\n",
       "      <th></th>\n",
       "      <th>VIN (1-10)</th>\n",
       "      <th>County</th>\n",
       "      <th>City</th>\n",
       "      <th>State</th>\n",
       "      <th>Postal Code</th>\n",
       "      <th>Model Year</th>\n",
       "      <th>Make</th>\n",
       "      <th>Model</th>\n",
       "      <th>Electric Vehicle Type</th>\n",
       "      <th>Clean Alternative Fuel Vehicle (CAFV) Eligibility</th>\n",
       "      <th>Electric Range</th>\n",
       "      <th>Base MSRP</th>\n",
       "      <th>Legislative District</th>\n",
       "      <th>DOL Vehicle ID</th>\n",
       "      <th>Vehicle Location</th>\n",
       "      <th>Electric Utility</th>\n",
       "      <th>2020 Census Tract</th>\n",
       "    </tr>\n",
       "  </thead>\n",
       "  <tbody>\n",
       "    <tr>\n",
       "      <th>0</th>\n",
       "      <td>1N4BZ0CP5G</td>\n",
       "      <td>King</td>\n",
       "      <td>Seattle</td>\n",
       "      <td>WA</td>\n",
       "      <td>98125.0</td>\n",
       "      <td>2016</td>\n",
       "      <td>NISSAN</td>\n",
       "      <td>LEAF</td>\n",
       "      <td>Battery Electric Vehicle (BEV)</td>\n",
       "      <td>Clean Alternative Fuel Vehicle Eligible</td>\n",
       "      <td>84.0</td>\n",
       "      <td>0.0</td>\n",
       "      <td>46.0</td>\n",
       "      <td>349455557</td>\n",
       "      <td>POINT (-122.30253 47.72656)</td>\n",
       "      <td>CITY OF SEATTLE - (WA)|CITY OF TACOMA - (WA)</td>\n",
       "      <td>5.303300e+10</td>\n",
       "    </tr>\n",
       "  </tbody>\n",
       "</table>\n",
       "</div>"
      ],
      "text/plain": [
       "   VIN (1-10) County     City State  Postal Code  Model Year    Make Model  \\\n",
       "0  1N4BZ0CP5G   King  Seattle    WA      98125.0        2016  NISSAN  LEAF   \n",
       "\n",
       "            Electric Vehicle Type  \\\n",
       "0  Battery Electric Vehicle (BEV)   \n",
       "\n",
       "  Clean Alternative Fuel Vehicle (CAFV) Eligibility  Electric Range  \\\n",
       "0           Clean Alternative Fuel Vehicle Eligible            84.0   \n",
       "\n",
       "   Base MSRP  Legislative District  DOL Vehicle ID  \\\n",
       "0        0.0                  46.0       349455557   \n",
       "\n",
       "              Vehicle Location                              Electric Utility  \\\n",
       "0  POINT (-122.30253 47.72656)  CITY OF SEATTLE - (WA)|CITY OF TACOMA - (WA)   \n",
       "\n",
       "   2020 Census Tract  \n",
       "0       5.303300e+10  "
      ]
     },
     "execution_count": 2,
     "metadata": {},
     "output_type": "execute_result"
    }
   ],
   "source": [
    "df = pd.read_csv('./csv/Electric_Vehicle_Population_Data.csv')\n",
    "\n",
    "print(len(df.columns))\n",
    "print(df.info())\n",
    "df.head(1)"
   ]
  },
  {
   "cell_type": "markdown",
   "metadata": {},
   "source": [
    "### Checking various columns to see how many unique values there are\n",
    "some of these columns Ill probably be able to convert to categories instead of strings/objects for better performance\n",
    "Also based on the info method call above, and looking at column types, I might convert other column types where it makes sense\n",
    "\n",
    "As an example, some of the float columns would make more sense if they are ints, i.e. postal code"
   ]
  },
  {
   "cell_type": "code",
   "execution_count": 3,
   "metadata": {},
   "outputs": [
    {
     "data": {
      "text/plain": [
       "array(['Clean Alternative Fuel Vehicle Eligible',\n",
       "       'Not eligible due to low battery range',\n",
       "       'Eligibility unknown as battery range has not been researched'],\n",
       "      dtype=object)"
      ]
     },
     "execution_count": 3,
     "metadata": {},
     "output_type": "execute_result"
    }
   ],
   "source": [
    "df['Clean Alternative Fuel Vehicle (CAFV) Eligibility'].unique()\n"
   ]
  },
  {
   "cell_type": "code",
   "execution_count": 4,
   "metadata": {},
   "outputs": [
    {
     "data": {
      "text/plain": [
       "array(['Battery Electric Vehicle (BEV)',\n",
       "       'Plug-in Hybrid Electric Vehicle (PHEV)'], dtype=object)"
      ]
     },
     "execution_count": 4,
     "metadata": {},
     "output_type": "execute_result"
    }
   ],
   "source": [
    "df['Electric Vehicle Type'].unique()"
   ]
  },
  {
   "cell_type": "code",
   "execution_count": 5,
   "metadata": {},
   "outputs": [
    {
     "data": {
      "text/plain": [
       "array(['NISSAN', 'KIA', 'TESLA', 'JEEP', 'FORD', 'FIAT', 'AUDI',\n",
       "       'CHEVROLET', 'PORSCHE', 'HYUNDAI', 'BMW', 'RIVIAN', 'MAZDA',\n",
       "       'POLESTAR', 'TOYOTA', 'VOLVO', 'SUBARU', 'LEXUS', 'MINI', 'HONDA',\n",
       "       'MERCEDES-BENZ', 'CHRYSLER', 'VOLKSWAGEN', 'ALFA ROMEO', 'SMART',\n",
       "       'JAGUAR', 'CADILLAC', 'LINCOLN', 'MITSUBISHI', 'DODGE',\n",
       "       'LAND ROVER', 'ACURA', 'GMC', 'GENESIS', 'LUCID', 'FISKER',\n",
       "       'VINFAST', 'LAMBORGHINI', 'TH!NK', 'MULLEN AUTOMOTIVE INC.',\n",
       "       'ROLLS-ROYCE', 'BENTLEY', 'BRIGHTDROP', 'AZURE DYNAMICS', 'RAM',\n",
       "       'WHEEGO ELECTRIC CARS'], dtype=object)"
      ]
     },
     "execution_count": 5,
     "metadata": {},
     "output_type": "execute_result"
    }
   ],
   "source": [
    "df['Make'].unique()"
   ]
  },
  {
   "cell_type": "code",
   "execution_count": 6,
   "metadata": {},
   "outputs": [
    {
     "data": {
      "text/plain": [
       "array(['WA', 'BC', 'CA', 'NY', 'OR', 'WY', 'CO', 'MD', 'FL', 'NC', 'MN',\n",
       "       'VA', 'AZ', 'IL', 'NJ', 'GU', 'TX', 'NE', 'MO', 'IN', 'MA', 'AP',\n",
       "       'MI', 'GA', 'ID', 'UT', 'DC', 'SC', 'CT', 'AR', 'RI', 'NV', 'PA',\n",
       "       'KS', 'LA', 'OK', 'AL', 'HI', 'KY', 'NH', 'OH', 'NM', 'TN', 'ME',\n",
       "       'WI', 'DE', 'NS', 'MS', 'AK'], dtype=object)"
      ]
     },
     "execution_count": 6,
     "metadata": {},
     "output_type": "execute_result"
    }
   ],
   "source": [
    "df['State'].unique()"
   ]
  },
  {
   "cell_type": "code",
   "execution_count": 7,
   "metadata": {},
   "outputs": [
    {
     "data": {
      "text/plain": [
       "array(['Clean Alternative Fuel Vehicle Eligible',\n",
       "       'Not eligible due to low battery range',\n",
       "       'Eligibility unknown as battery range has not been researched'],\n",
       "      dtype=object)"
      ]
     },
     "execution_count": 7,
     "metadata": {},
     "output_type": "execute_result"
    }
   ],
   "source": [
    "df['Clean Alternative Fuel Vehicle (CAFV) Eligibility'].unique()"
   ]
  },
  {
   "cell_type": "markdown",
   "metadata": {},
   "source": [
    "Converting columns"
   ]
  },
  {
   "cell_type": "code",
   "execution_count": 8,
   "metadata": {},
   "outputs": [],
   "source": [
    "df['State'] = df['State'].astype('category')\n",
    "df['Electric Vehicle Type'] = df['Electric Vehicle Type'].astype('category')\n",
    "df['Clean Alternative Fuel Vehicle (CAFV) Eligibility'] = df['Clean Alternative Fuel Vehicle (CAFV) Eligibility'].astype('category')\n",
    "df['Postal Code'] = df['Postal Code'].astype('Int64')\n",
    "df['Electric Range'] = df['Electric Range'].astype('Int64')\n",
    "df['Legislative District'] = df['Legislative District'].astype('Int64')\n",
    "\n"
   ]
  },
  {
   "cell_type": "markdown",
   "metadata": {},
   "source": [
    "Adding extra region column for comparison later"
   ]
  },
  {
   "cell_type": "code",
   "execution_count": 9,
   "metadata": {},
   "outputs": [
    {
     "data": {
      "text/html": [
       "<div>\n",
       "<style scoped>\n",
       "    .dataframe tbody tr th:only-of-type {\n",
       "        vertical-align: middle;\n",
       "    }\n",
       "\n",
       "    .dataframe tbody tr th {\n",
       "        vertical-align: top;\n",
       "    }\n",
       "\n",
       "    .dataframe thead th {\n",
       "        text-align: right;\n",
       "    }\n",
       "</style>\n",
       "<table border=\"1\" class=\"dataframe\">\n",
       "  <thead>\n",
       "    <tr style=\"text-align: right;\">\n",
       "      <th></th>\n",
       "      <th>VIN (1-10)</th>\n",
       "      <th>County</th>\n",
       "      <th>City</th>\n",
       "      <th>State</th>\n",
       "      <th>Postal Code</th>\n",
       "      <th>Model Year</th>\n",
       "      <th>Make</th>\n",
       "      <th>Model</th>\n",
       "      <th>Electric Vehicle Type</th>\n",
       "      <th>Clean Alternative Fuel Vehicle (CAFV) Eligibility</th>\n",
       "      <th>Electric Range</th>\n",
       "      <th>Base MSRP</th>\n",
       "      <th>Legislative District</th>\n",
       "      <th>DOL Vehicle ID</th>\n",
       "      <th>Vehicle Location</th>\n",
       "      <th>Electric Utility</th>\n",
       "      <th>2020 Census Tract</th>\n",
       "      <th>EV Regional Origin</th>\n",
       "    </tr>\n",
       "  </thead>\n",
       "  <tbody>\n",
       "    <tr>\n",
       "      <th>0</th>\n",
       "      <td>1N4BZ0CP5G</td>\n",
       "      <td>King</td>\n",
       "      <td>Seattle</td>\n",
       "      <td>WA</td>\n",
       "      <td>98125</td>\n",
       "      <td>2016</td>\n",
       "      <td>NISSAN</td>\n",
       "      <td>LEAF</td>\n",
       "      <td>Battery Electric Vehicle (BEV)</td>\n",
       "      <td>Clean Alternative Fuel Vehicle Eligible</td>\n",
       "      <td>84</td>\n",
       "      <td>0.0</td>\n",
       "      <td>46</td>\n",
       "      <td>349455557</td>\n",
       "      <td>POINT (-122.30253 47.72656)</td>\n",
       "      <td>CITY OF SEATTLE - (WA)|CITY OF TACOMA - (WA)</td>\n",
       "      <td>5.303300e+10</td>\n",
       "      <td>Asia</td>\n",
       "    </tr>\n",
       "    <tr>\n",
       "      <th>1</th>\n",
       "      <td>KNDJX3AEXG</td>\n",
       "      <td>King</td>\n",
       "      <td>Renton</td>\n",
       "      <td>WA</td>\n",
       "      <td>98058</td>\n",
       "      <td>2016</td>\n",
       "      <td>KIA</td>\n",
       "      <td>SOUL</td>\n",
       "      <td>Battery Electric Vehicle (BEV)</td>\n",
       "      <td>Clean Alternative Fuel Vehicle Eligible</td>\n",
       "      <td>93</td>\n",
       "      <td>31950.0</td>\n",
       "      <td>11</td>\n",
       "      <td>210641315</td>\n",
       "      <td>POINT (-122.08747 47.4466)</td>\n",
       "      <td>PUGET SOUND ENERGY INC||CITY OF TACOMA - (WA)</td>\n",
       "      <td>5.303303e+10</td>\n",
       "      <td>Asia</td>\n",
       "    </tr>\n",
       "    <tr>\n",
       "      <th>2</th>\n",
       "      <td>5YJ3E1EB2J</td>\n",
       "      <td>King</td>\n",
       "      <td>Seattle</td>\n",
       "      <td>WA</td>\n",
       "      <td>98115</td>\n",
       "      <td>2018</td>\n",
       "      <td>TESLA</td>\n",
       "      <td>MODEL 3</td>\n",
       "      <td>Battery Electric Vehicle (BEV)</td>\n",
       "      <td>Clean Alternative Fuel Vehicle Eligible</td>\n",
       "      <td>215</td>\n",
       "      <td>0.0</td>\n",
       "      <td>43</td>\n",
       "      <td>171417494</td>\n",
       "      <td>POINT (-122.31676 47.68156)</td>\n",
       "      <td>CITY OF SEATTLE - (WA)|CITY OF TACOMA - (WA)</td>\n",
       "      <td>5.303300e+10</td>\n",
       "      <td>North America</td>\n",
       "    </tr>\n",
       "    <tr>\n",
       "      <th>3</th>\n",
       "      <td>1C4RJXN64R</td>\n",
       "      <td>Kitsap</td>\n",
       "      <td>Bremerton</td>\n",
       "      <td>WA</td>\n",
       "      <td>98312</td>\n",
       "      <td>2024</td>\n",
       "      <td>JEEP</td>\n",
       "      <td>WRANGLER</td>\n",
       "      <td>Plug-in Hybrid Electric Vehicle (PHEV)</td>\n",
       "      <td>Not eligible due to low battery range</td>\n",
       "      <td>21</td>\n",
       "      <td>0.0</td>\n",
       "      <td>26</td>\n",
       "      <td>262542927</td>\n",
       "      <td>POINT (-122.65223 47.57192)</td>\n",
       "      <td>PUGET SOUND ENERGY INC</td>\n",
       "      <td>5.303508e+10</td>\n",
       "      <td>North America</td>\n",
       "    </tr>\n",
       "    <tr>\n",
       "      <th>4</th>\n",
       "      <td>5YJ3E1EB1J</td>\n",
       "      <td>Thurston</td>\n",
       "      <td>Olympia</td>\n",
       "      <td>WA</td>\n",
       "      <td>98512</td>\n",
       "      <td>2018</td>\n",
       "      <td>TESLA</td>\n",
       "      <td>MODEL 3</td>\n",
       "      <td>Battery Electric Vehicle (BEV)</td>\n",
       "      <td>Clean Alternative Fuel Vehicle Eligible</td>\n",
       "      <td>215</td>\n",
       "      <td>0.0</td>\n",
       "      <td>35</td>\n",
       "      <td>110432815</td>\n",
       "      <td>POINT (-122.9131 47.01359)</td>\n",
       "      <td>PUGET SOUND ENERGY INC</td>\n",
       "      <td>5.306701e+10</td>\n",
       "      <td>North America</td>\n",
       "    </tr>\n",
       "  </tbody>\n",
       "</table>\n",
       "</div>"
      ],
      "text/plain": [
       "   VIN (1-10)    County       City State  Postal Code  Model Year    Make  \\\n",
       "0  1N4BZ0CP5G      King    Seattle    WA        98125        2016  NISSAN   \n",
       "1  KNDJX3AEXG      King     Renton    WA        98058        2016     KIA   \n",
       "2  5YJ3E1EB2J      King    Seattle    WA        98115        2018   TESLA   \n",
       "3  1C4RJXN64R    Kitsap  Bremerton    WA        98312        2024    JEEP   \n",
       "4  5YJ3E1EB1J  Thurston    Olympia    WA        98512        2018   TESLA   \n",
       "\n",
       "      Model                   Electric Vehicle Type  \\\n",
       "0      LEAF          Battery Electric Vehicle (BEV)   \n",
       "1      SOUL          Battery Electric Vehicle (BEV)   \n",
       "2   MODEL 3          Battery Electric Vehicle (BEV)   \n",
       "3  WRANGLER  Plug-in Hybrid Electric Vehicle (PHEV)   \n",
       "4   MODEL 3          Battery Electric Vehicle (BEV)   \n",
       "\n",
       "  Clean Alternative Fuel Vehicle (CAFV) Eligibility  Electric Range  \\\n",
       "0           Clean Alternative Fuel Vehicle Eligible              84   \n",
       "1           Clean Alternative Fuel Vehicle Eligible              93   \n",
       "2           Clean Alternative Fuel Vehicle Eligible             215   \n",
       "3             Not eligible due to low battery range              21   \n",
       "4           Clean Alternative Fuel Vehicle Eligible             215   \n",
       "\n",
       "   Base MSRP  Legislative District  DOL Vehicle ID  \\\n",
       "0        0.0                    46       349455557   \n",
       "1    31950.0                    11       210641315   \n",
       "2        0.0                    43       171417494   \n",
       "3        0.0                    26       262542927   \n",
       "4        0.0                    35       110432815   \n",
       "\n",
       "              Vehicle Location                               Electric Utility  \\\n",
       "0  POINT (-122.30253 47.72656)   CITY OF SEATTLE - (WA)|CITY OF TACOMA - (WA)   \n",
       "1   POINT (-122.08747 47.4466)  PUGET SOUND ENERGY INC||CITY OF TACOMA - (WA)   \n",
       "2  POINT (-122.31676 47.68156)   CITY OF SEATTLE - (WA)|CITY OF TACOMA - (WA)   \n",
       "3  POINT (-122.65223 47.57192)                         PUGET SOUND ENERGY INC   \n",
       "4   POINT (-122.9131 47.01359)                         PUGET SOUND ENERGY INC   \n",
       "\n",
       "   2020 Census Tract EV Regional Origin  \n",
       "0       5.303300e+10               Asia  \n",
       "1       5.303303e+10               Asia  \n",
       "2       5.303300e+10      North America  \n",
       "3       5.303508e+10      North America  \n",
       "4       5.306701e+10      North America  "
      ]
     },
     "execution_count": 9,
     "metadata": {},
     "output_type": "execute_result"
    }
   ],
   "source": [
    "north_america = ['TESLA', 'JEEP', 'FORD', 'CHEVROLET', 'RIVIAN', 'CHRYSLER', 'CADILLAC', 'LINCOLN', 'DODGE', 'GMC', 'LUCID', 'FISKER', 'MULLEN AUTOMOTIVE INC.', 'BRIGHTDROP', 'RAM', 'AZURE DYNAMICS', 'WHEEGO ELECTRIC CARS']\n",
    "asia = ['NISSAN', 'KIA', 'HYUNDAI', 'MAZDA', 'TOYOTA', 'SUBARU', 'LEXUS', 'HONDA', 'MITSUBISHI', 'ACURA', 'GENESIS', 'VINFAST']\n",
    "europe = ['FIAT', 'AUDI', 'PORSCHE', 'BMW', 'POLESTAR', 'VOLVO', 'MINI', 'MERCEDES-BENZ', 'VOLKSWAGEN', 'ALFA ROMEO', 'SMART', 'JAGUAR', 'LAND ROVER', 'LAMBORGHINI', 'TH!NK', 'ROLLS-ROYCE', 'BENTLEY']\n",
    "def region_check(car_make):\n",
    "    if car_make in north_america:\n",
    "        return 'North America'\n",
    "    elif car_make in asia:\n",
    "        return 'Asia'\n",
    "    else:\n",
    "        return 'Europe'\n",
    "\n",
    "\n",
    "df['EV Regional Origin'] = df['Make'].apply(region_check)\n",
    "\n",
    "df.head()"
   ]
  },
  {
   "cell_type": "markdown",
   "metadata": {},
   "source": [
    "## Doing some exploration\n"
   ]
  },
  {
   "cell_type": "markdown",
   "metadata": {},
   "source": [
    "### Bar Plot of number of EVs for Each Model Year"
   ]
  },
  {
   "cell_type": "code",
   "execution_count": 10,
   "metadata": {},
   "outputs": [
    {
     "name": "stderr",
     "output_type": "stream",
     "text": [
      "WARNING:param.main: C option not found for bar plot with bokeh; similar options include: []\n",
      "WARNING:param.OverlayPlot00293: Logarithmic axis range encountered value less than or equal to zero, please supply explicit lower bound to override default of 0.010.\n"
     ]
    },
    {
     "name": "stdout",
     "output_type": "stream",
     "text": [
      "46\n",
      "[2016 2018 2024 2015 2019 2020 2012 2013 2022 2023 2017 2014 2021 2000\n",
      " 2025 2011 2026 2010 2008 2002 2003]\n"
     ]
    },
    {
     "data": {},
     "metadata": {},
     "output_type": "display_data"
    },
    {
     "data": {
      "application/vnd.holoviews_exec.v0+json": "",
      "text/html": [
       "<div id='a4a4a901-c859-432e-9338-6bef13f0a350'>\n",
       "  <div id=\"dbe9b462-2b25-4e5e-942d-4d5250443a62\" data-root-id=\"a4a4a901-c859-432e-9338-6bef13f0a350\" style=\"display: contents;\"></div>\n",
       "</div>\n",
       "<script type=\"application/javascript\">(function(root) {\n",
       "  var docs_json = {\"589b6f9f-269e-448e-b2d9-6272e59ee801\":{\"version\":\"3.4.3\",\"title\":\"Bokeh Application\",\"roots\":[{\"type\":\"object\",\"name\":\"Row\",\"id\":\"a4a4a901-c859-432e-9338-6bef13f0a350\",\"attributes\":{\"name\":\"Row00283\",\"tags\":[\"embedded\"],\"stylesheets\":[\"\\n:host(.pn-loading):before, .pn-loading:before {\\n  background-color: #c3c3c3;\\n  mask-size: auto calc(min(50%, 400px));\\n  -webkit-mask-size: auto calc(min(50%, 400px));\\n}\",{\"type\":\"object\",\"name\":\"ImportedStyleSheet\",\"id\":\"0ffd46e3-1063-4ee8-bdf1-539c3612970a\",\"attributes\":{\"url\":\"https://cdn.holoviz.org/panel/1.4.5/dist/css/loading.css\"}},{\"type\":\"object\",\"name\":\"ImportedStyleSheet\",\"id\":\"35ed4f41-738a-4bd0-a692-6aed2f7242b8\",\"attributes\":{\"url\":\"https://cdn.holoviz.org/panel/1.4.5/dist/css/listpanel.css\"}},{\"type\":\"object\",\"name\":\"ImportedStyleSheet\",\"id\":\"9cbbaa74-117b-40bb-8072-6a8c851a769c\",\"attributes\":{\"url\":\"https://cdn.holoviz.org/panel/1.4.5/dist/bundled/theme/default.css\"}},{\"type\":\"object\",\"name\":\"ImportedStyleSheet\",\"id\":\"75313cb0-e85f-4b45-b61e-991e868316c1\",\"attributes\":{\"url\":\"https://cdn.holoviz.org/panel/1.4.5/dist/bundled/theme/native.css\"}}],\"min_width\":700,\"margin\":0,\"sizing_mode\":\"stretch_width\",\"align\":\"start\",\"children\":[{\"type\":\"object\",\"name\":\"Spacer\",\"id\":\"9217586c-304c-419b-8fc3-7428c20ae58f\",\"attributes\":{\"name\":\"HSpacer00287\",\"stylesheets\":[\"\\n:host(.pn-loading):before, .pn-loading:before {\\n  background-color: #c3c3c3;\\n  mask-size: auto calc(min(50%, 400px));\\n  -webkit-mask-size: auto calc(min(50%, 400px));\\n}\",{\"id\":\"0ffd46e3-1063-4ee8-bdf1-539c3612970a\"},{\"id\":\"9cbbaa74-117b-40bb-8072-6a8c851a769c\"},{\"id\":\"75313cb0-e85f-4b45-b61e-991e868316c1\"}],\"margin\":0,\"sizing_mode\":\"stretch_width\",\"align\":\"start\"}},{\"type\":\"object\",\"name\":\"Figure\",\"id\":\"3b9f48e4-7859-4311-ad67-379994899824\",\"attributes\":{\"width\":700,\"height\":300,\"margin\":[5,10],\"sizing_mode\":\"fixed\",\"align\":\"start\",\"x_range\":{\"type\":\"object\",\"name\":\"Range1d\",\"id\":\"0420a7cf-5034-42b6-ad06-b62c97ebd865\",\"attributes\":{\"name\":\"Model Year\",\"tags\":[[[\"Model Year\",null]],[]],\"start\":1998.8857142857144,\"end\":2027.1142857142856,\"reset_start\":1998.8857142857144,\"reset_end\":2027.1142857142856}},\"y_range\":{\"type\":\"object\",\"name\":\"Range1d\",\"id\":\"4b55d6c5-a6eb-4908-b30a-c325ea82ef7c\",\"attributes\":{\"name\":\"Number of EVs\",\"tags\":[[[\"Number of EVs\",null]],{\"type\":\"map\",\"entries\":[[\"invert_yaxis\",false],[\"autorange\",false]]}],\"start\":0.01,\"end\":177275.7042492717,\"reset_start\":0.01,\"reset_end\":177275.7042492717}},\"x_scale\":{\"type\":\"object\",\"name\":\"LinearScale\",\"id\":\"78644dc2-544d-43a8-a036-012b701325cc\"},\"y_scale\":{\"type\":\"object\",\"name\":\"LogScale\",\"id\":\"ee58157e-9274-4c97-9e5f-db99d7fbf307\"},\"title\":{\"type\":\"object\",\"name\":\"Title\",\"id\":\"fe81325a-557d-4a49-bd24-55fa6b850c26\",\"attributes\":{\"text\":\"Number of Registered EVs in WA Per Model Year\",\"text_color\":\"black\",\"text_font_size\":\"12pt\"}},\"renderers\":[{\"type\":\"object\",\"name\":\"GlyphRenderer\",\"id\":\"23af5fb4-0123-40fe-9ff9-f228173497b4\",\"attributes\":{\"data_source\":{\"type\":\"object\",\"name\":\"ColumnDataSource\",\"id\":\"08fd37bc-4fc4-4deb-8467-ee8eb63aabb5\",\"attributes\":{\"selected\":{\"type\":\"object\",\"name\":\"Selection\",\"id\":\"a6b37057-4379-4975-a1dd-02726ad82dd9\",\"attributes\":{\"indices\":[],\"line_indices\":[]}},\"selection_policy\":{\"type\":\"object\",\"name\":\"UnionRenderers\",\"id\":\"21d19663-f16d-4d9b-8fbb-996cef38e6a6\"},\"data\":{\"type\":\"map\",\"entries\":[[\"Model_Year\",{\"type\":\"ndarray\",\"array\":{\"type\":\"bytes\",\"data\":\"0AcAANIHAADTBwAA2AcAANoHAADbBwAA3AcAAN0HAADeBwAA3wcAAOAHAADhBwAA4gcAAOMHAADkBwAA5QcAAOYHAADnBwAA6AcAAOkHAADqBwAA\"},\"shape\":[21],\"dtype\":\"int32\",\"order\":\"little\"}],[\"Number_of_EVs\",{\"type\":\"ndarray\",\"array\":{\"type\":\"bytes\",\"data\":\"CAAAAAIAAAABAAAAEQAAABcAAACQAgAAtgUAAEgQAAAkDQAABRIAALYUAAAzIgAAqDgAAC8rAABmMAAAOlEAAJlyAADQ5gAAh8IAAFRRAACiBAAA\"},\"shape\":[21],\"dtype\":\"int32\",\"order\":\"little\"}]]}}},\"view\":{\"type\":\"object\",\"name\":\"CDSView\",\"id\":\"2885b615-6670-44c8-aadd-0d16a407cfa3\",\"attributes\":{\"filter\":{\"type\":\"object\",\"name\":\"AllIndices\",\"id\":\"538301a9-88ff-4ce7-8a5d-e15a8c31dfc1\"}}},\"glyph\":{\"type\":\"object\",\"name\":\"VBar\",\"id\":\"6965a6be-7a88-41e1-8187-ec0b8ed09a14\",\"attributes\":{\"tags\":[\"apply_ranges\"],\"x\":{\"type\":\"field\",\"field\":\"Model_Year\"},\"width\":{\"type\":\"value\",\"value\":0.16},\"bottom\":{\"type\":\"value\",\"value\":0.01},\"top\":{\"type\":\"field\",\"field\":\"Number_of_EVs\"},\"fill_color\":{\"type\":\"value\",\"value\":\"#30a2da\"},\"hatch_color\":{\"type\":\"value\",\"value\":\"#30a2da\"}}},\"selection_glyph\":{\"type\":\"object\",\"name\":\"VBar\",\"id\":\"9a9d6b32-a083-4204-9c99-69f693c5f0b5\",\"attributes\":{\"tags\":[\"apply_ranges\"],\"x\":{\"type\":\"field\",\"field\":\"Model_Year\"},\"width\":{\"type\":\"value\",\"value\":0.16},\"bottom\":{\"type\":\"value\",\"value\":0.01},\"top\":{\"type\":\"field\",\"field\":\"Number_of_EVs\"},\"line_color\":{\"type\":\"value\",\"value\":\"black\"},\"line_alpha\":{\"type\":\"value\",\"value\":1.0},\"line_width\":{\"type\":\"value\",\"value\":1},\"line_join\":{\"type\":\"value\",\"value\":\"bevel\"},\"line_cap\":{\"type\":\"value\",\"value\":\"butt\"},\"line_dash\":{\"type\":\"value\",\"value\":[]},\"line_dash_offset\":{\"type\":\"value\",\"value\":0},\"fill_color\":{\"type\":\"value\",\"value\":\"#30a2da\"},\"fill_alpha\":{\"type\":\"value\",\"value\":1.0},\"hatch_color\":{\"type\":\"value\",\"value\":\"#30a2da\"},\"hatch_alpha\":{\"type\":\"value\",\"value\":1.0},\"hatch_scale\":{\"type\":\"value\",\"value\":12.0},\"hatch_pattern\":{\"type\":\"value\",\"value\":null},\"hatch_weight\":{\"type\":\"value\",\"value\":1.0}}},\"nonselection_glyph\":{\"type\":\"object\",\"name\":\"VBar\",\"id\":\"3ea51b30-865a-4e44-9a67-36bdce6fc59e\",\"attributes\":{\"tags\":[\"apply_ranges\"],\"x\":{\"type\":\"field\",\"field\":\"Model_Year\"},\"width\":{\"type\":\"value\",\"value\":0.16},\"bottom\":{\"type\":\"value\",\"value\":0.01},\"top\":{\"type\":\"field\",\"field\":\"Number_of_EVs\"},\"line_alpha\":{\"type\":\"value\",\"value\":0.1},\"fill_color\":{\"type\":\"value\",\"value\":\"#30a2da\"},\"fill_alpha\":{\"type\":\"value\",\"value\":0.1},\"hatch_color\":{\"type\":\"value\",\"value\":\"#30a2da\"},\"hatch_alpha\":{\"type\":\"value\",\"value\":0.1}}},\"muted_glyph\":{\"type\":\"object\",\"name\":\"VBar\",\"id\":\"baae1430-4055-4f76-a4fa-d31ff9ae5c42\",\"attributes\":{\"tags\":[\"apply_ranges\"],\"x\":{\"type\":\"field\",\"field\":\"Model_Year\"},\"width\":{\"type\":\"value\",\"value\":0.16},\"bottom\":{\"type\":\"value\",\"value\":0.01},\"top\":{\"type\":\"field\",\"field\":\"Number_of_EVs\"},\"line_alpha\":{\"type\":\"value\",\"value\":0.2},\"fill_color\":{\"type\":\"value\",\"value\":\"#30a2da\"},\"fill_alpha\":{\"type\":\"value\",\"value\":0.2},\"hatch_color\":{\"type\":\"value\",\"value\":\"#30a2da\"},\"hatch_alpha\":{\"type\":\"value\",\"value\":0.2}}}}},{\"type\":\"object\",\"name\":\"GlyphRenderer\",\"id\":\"af98a4b5-2137-42ce-930a-a26b9cb60ce3\",\"attributes\":{\"data_source\":{\"type\":\"object\",\"name\":\"ColumnDataSource\",\"id\":\"4e9f884f-2580-4d88-bbd6-0e7cde99c08e\",\"attributes\":{\"selected\":{\"type\":\"object\",\"name\":\"Selection\",\"id\":\"b883596a-964c-49e3-8a3a-c85b16549c53\",\"attributes\":{\"indices\":[],\"line_indices\":[]}},\"selection_policy\":{\"type\":\"object\",\"name\":\"UnionRenderers\",\"id\":\"10904524-1ff5-4392-af33-98391e90434a\"},\"data\":{\"type\":\"map\",\"entries\":[[\"x\",[2001]],[\"y\",[120]],[\"text\",[\"*Unit increase in Y = 10\\u00d7 more EVs\"]]]}}},\"view\":{\"type\":\"object\",\"name\":\"CDSView\",\"id\":\"3ee142d3-a044-4866-bc1c-beddf0c6b987\",\"attributes\":{\"filter\":{\"type\":\"object\",\"name\":\"AllIndices\",\"id\":\"f3e37302-0120-41c1-bbaf-8b97f8a67e97\"}}},\"glyph\":{\"type\":\"object\",\"name\":\"Text\",\"id\":\"44192707-b3ca-495c-aa55-11e9f5d90c17\",\"attributes\":{\"tags\":[\"apply_ranges\"],\"x\":{\"type\":\"field\",\"field\":\"x\"},\"y\":{\"type\":\"field\",\"field\":\"y\"},\"text\":{\"type\":\"field\",\"field\":\"text\"},\"text_color\":{\"type\":\"value\",\"value\":\"black\"},\"text_font_size\":{\"type\":\"value\",\"value\":\"10pt\"},\"text_baseline\":{\"type\":\"value\",\"value\":\"middle\"}}},\"selection_glyph\":{\"type\":\"object\",\"name\":\"Text\",\"id\":\"52d42c8e-dcd7-4758-872b-f0fef7441d36\",\"attributes\":{\"tags\":[\"apply_ranges\"],\"x\":{\"type\":\"field\",\"field\":\"x\"},\"y\":{\"type\":\"field\",\"field\":\"y\"},\"text\":{\"type\":\"field\",\"field\":\"text\"},\"angle\":{\"type\":\"value\",\"value\":0.0},\"x_offset\":{\"type\":\"value\",\"value\":0},\"y_offset\":{\"type\":\"value\",\"value\":0},\"text_color\":{\"type\":\"value\",\"value\":\"black\"},\"text_outline_color\":{\"type\":\"value\",\"value\":null},\"text_alpha\":{\"type\":\"value\",\"value\":1.0},\"text_font_size\":{\"type\":\"value\",\"value\":\"10pt\"},\"text_font_style\":{\"type\":\"value\",\"value\":\"normal\"},\"text_align\":{\"type\":\"value\",\"value\":\"left\"},\"text_baseline\":{\"type\":\"value\",\"value\":\"middle\"},\"text_line_height\":{\"type\":\"value\",\"value\":1.2},\"background_fill_color\":{\"type\":\"value\",\"value\":null},\"background_fill_alpha\":{\"type\":\"value\",\"value\":1.0},\"background_hatch_color\":{\"type\":\"value\",\"value\":null},\"background_hatch_alpha\":{\"type\":\"value\",\"value\":1.0},\"background_hatch_scale\":{\"type\":\"value\",\"value\":12.0},\"background_hatch_pattern\":{\"type\":\"value\",\"value\":null},\"background_hatch_weight\":{\"type\":\"value\",\"value\":1.0},\"border_line_color\":{\"type\":\"value\",\"value\":null},\"border_line_alpha\":{\"type\":\"value\",\"value\":1.0},\"border_line_width\":{\"type\":\"value\",\"value\":1},\"border_line_join\":{\"type\":\"value\",\"value\":\"bevel\"},\"border_line_cap\":{\"type\":\"value\",\"value\":\"butt\"},\"border_line_dash\":{\"type\":\"value\",\"value\":[]},\"border_line_dash_offset\":{\"type\":\"value\",\"value\":0}}},\"nonselection_glyph\":{\"type\":\"object\",\"name\":\"Text\",\"id\":\"d18de940-babb-4c05-88e0-61a62ce262f7\",\"attributes\":{\"tags\":[\"apply_ranges\"],\"x\":{\"type\":\"field\",\"field\":\"x\"},\"y\":{\"type\":\"field\",\"field\":\"y\"},\"text\":{\"type\":\"field\",\"field\":\"text\"},\"text_color\":{\"type\":\"value\",\"value\":\"black\"},\"text_alpha\":{\"type\":\"value\",\"value\":0.1},\"text_font_size\":{\"type\":\"value\",\"value\":\"10pt\"},\"text_baseline\":{\"type\":\"value\",\"value\":\"middle\"}}},\"muted_glyph\":{\"type\":\"object\",\"name\":\"Text\",\"id\":\"7de3da7e-8a63-4c7c-945a-bda600f251dd\",\"attributes\":{\"tags\":[\"apply_ranges\"],\"x\":{\"type\":\"field\",\"field\":\"x\"},\"y\":{\"type\":\"field\",\"field\":\"y\"},\"text\":{\"type\":\"field\",\"field\":\"text\"},\"text_color\":{\"type\":\"value\",\"value\":\"black\"},\"text_alpha\":{\"type\":\"value\",\"value\":0.2},\"text_font_size\":{\"type\":\"value\",\"value\":\"10pt\"},\"text_baseline\":{\"type\":\"value\",\"value\":\"middle\"}}}}}],\"toolbar\":{\"type\":\"object\",\"name\":\"Toolbar\",\"id\":\"f5394ddf-3997-4046-9579-ed6e6f53cc83\",\"attributes\":{\"tools\":[{\"type\":\"object\",\"name\":\"WheelZoomTool\",\"id\":\"241bdd40-1237-4290-9d3c-d2307666ef27\",\"attributes\":{\"tags\":[\"hv_created\"],\"renderers\":\"auto\",\"zoom_together\":\"none\"}},{\"type\":\"object\",\"name\":\"HoverTool\",\"id\":\"fe73f508-96ca-4610-84ec-4b621952a3b4\",\"attributes\":{\"tags\":[\"hv_created\"],\"renderers\":[{\"id\":\"23af5fb4-0123-40fe-9ff9-f228173497b4\"}],\"tooltips\":[[\"Model Year\",\"@{Model_Year}\"],[\"Number of EVs\",\"@{Number_of_EVs}\"]]}},{\"type\":\"object\",\"name\":\"SaveTool\",\"id\":\"03032840-c852-4d1d-b122-bcc3e05ae7dc\"},{\"type\":\"object\",\"name\":\"PanTool\",\"id\":\"c326909a-b14c-428e-85bd-211b01ad8824\"},{\"type\":\"object\",\"name\":\"BoxZoomTool\",\"id\":\"bb2b4b36-68b2-439d-b2b4-66026cccf4b7\",\"attributes\":{\"overlay\":{\"type\":\"object\",\"name\":\"BoxAnnotation\",\"id\":\"43f9bb3c-a912-4a77-84dd-cec48d8cae89\",\"attributes\":{\"syncable\":false,\"level\":\"overlay\",\"visible\":false,\"left\":{\"type\":\"number\",\"value\":\"nan\"},\"right\":{\"type\":\"number\",\"value\":\"nan\"},\"top\":{\"type\":\"number\",\"value\":\"nan\"},\"bottom\":{\"type\":\"number\",\"value\":\"nan\"},\"left_units\":\"canvas\",\"right_units\":\"canvas\",\"top_units\":\"canvas\",\"bottom_units\":\"canvas\",\"line_color\":\"black\",\"line_alpha\":1.0,\"line_width\":2,\"line_dash\":[4,4],\"fill_color\":\"lightgrey\",\"fill_alpha\":0.5}}}},{\"type\":\"object\",\"name\":\"ResetTool\",\"id\":\"6f946d9b-2191-4a8c-80d7-19d05a556cb0\"}],\"active_drag\":{\"id\":\"c326909a-b14c-428e-85bd-211b01ad8824\"},\"active_scroll\":{\"id\":\"241bdd40-1237-4290-9d3c-d2307666ef27\"}}},\"left\":[{\"type\":\"object\",\"name\":\"LogAxis\",\"id\":\"9904d31b-6882-4dcc-bfe9-8f9b8b752171\",\"attributes\":{\"ticker\":{\"type\":\"object\",\"name\":\"LogTicker\",\"id\":\"8eb3e8ff-2152-4c42-b97a-32c5c28b6583\",\"attributes\":{\"num_minor_ticks\":10,\"mantissas\":[1,5]}},\"formatter\":{\"type\":\"object\",\"name\":\"LogTickFormatter\",\"id\":\"d56b404e-77fc-46d8-a12b-19ec551361e5\"},\"axis_label\":\"Number of Registered EVs (Log Scale)\",\"major_label_policy\":{\"type\":\"object\",\"name\":\"AllLabels\",\"id\":\"4ff76159-f786-4688-9148-1c26263ed3db\"}}}],\"below\":[{\"type\":\"object\",\"name\":\"LinearAxis\",\"id\":\"a314982a-7368-4664-a90a-cabbb844a22a\",\"attributes\":{\"ticker\":{\"type\":\"object\",\"name\":\"BasicTicker\",\"id\":\"28a296ad-acfe-4d98-ac4d-e1d9bce454ba\",\"attributes\":{\"mantissas\":[1,2,5]}},\"formatter\":{\"type\":\"object\",\"name\":\"BasicTickFormatter\",\"id\":\"ca89ef4c-ccf6-486a-b28e-b23efbf3b649\"},\"axis_label\":\"Model Year\",\"major_label_policy\":{\"type\":\"object\",\"name\":\"AllLabels\",\"id\":\"cca83937-c3e3-496f-a623-9bd165228aba\"}}}],\"center\":[{\"type\":\"object\",\"name\":\"Grid\",\"id\":\"c1d50322-610a-4ad5-9d3b-bbe0868c2ea9\",\"attributes\":{\"axis\":{\"id\":\"a314982a-7368-4664-a90a-cabbb844a22a\"},\"ticker\":{\"id\":\"28a296ad-acfe-4d98-ac4d-e1d9bce454ba\"}}},{\"type\":\"object\",\"name\":\"Grid\",\"id\":\"1be10f0f-3c2d-4d40-95c3-db4ac4cf1c8a\",\"attributes\":{\"dimension\":1,\"axis\":{\"id\":\"9904d31b-6882-4dcc-bfe9-8f9b8b752171\"},\"ticker\":{\"id\":\"8eb3e8ff-2152-4c42-b97a-32c5c28b6583\"}}}],\"background_fill_color\":\"white\",\"min_border_top\":10,\"min_border_bottom\":10,\"min_border_left\":10,\"min_border_right\":10,\"output_backend\":\"webgl\"}},{\"type\":\"object\",\"name\":\"Spacer\",\"id\":\"175ed5c4-78f4-4ef7-9439-01432723b502\",\"attributes\":{\"name\":\"HSpacer00288\",\"stylesheets\":[\"\\n:host(.pn-loading):before, .pn-loading:before {\\n  background-color: #c3c3c3;\\n  mask-size: auto calc(min(50%, 400px));\\n  -webkit-mask-size: auto calc(min(50%, 400px));\\n}\",{\"id\":\"0ffd46e3-1063-4ee8-bdf1-539c3612970a\"},{\"id\":\"9cbbaa74-117b-40bb-8072-6a8c851a769c\"},{\"id\":\"75313cb0-e85f-4b45-b61e-991e868316c1\"}],\"margin\":0,\"sizing_mode\":\"stretch_width\",\"align\":\"start\"}}]}}],\"defs\":[{\"type\":\"model\",\"name\":\"ReactiveHTML1\"},{\"type\":\"model\",\"name\":\"FlexBox1\",\"properties\":[{\"name\":\"align_content\",\"kind\":\"Any\",\"default\":\"flex-start\"},{\"name\":\"align_items\",\"kind\":\"Any\",\"default\":\"flex-start\"},{\"name\":\"flex_direction\",\"kind\":\"Any\",\"default\":\"row\"},{\"name\":\"flex_wrap\",\"kind\":\"Any\",\"default\":\"wrap\"},{\"name\":\"gap\",\"kind\":\"Any\",\"default\":\"\"},{\"name\":\"justify_content\",\"kind\":\"Any\",\"default\":\"flex-start\"}]},{\"type\":\"model\",\"name\":\"FloatPanel1\",\"properties\":[{\"name\":\"config\",\"kind\":\"Any\",\"default\":{\"type\":\"map\"}},{\"name\":\"contained\",\"kind\":\"Any\",\"default\":true},{\"name\":\"position\",\"kind\":\"Any\",\"default\":\"right-top\"},{\"name\":\"offsetx\",\"kind\":\"Any\",\"default\":null},{\"name\":\"offsety\",\"kind\":\"Any\",\"default\":null},{\"name\":\"theme\",\"kind\":\"Any\",\"default\":\"primary\"},{\"name\":\"status\",\"kind\":\"Any\",\"default\":\"normalized\"}]},{\"type\":\"model\",\"name\":\"GridStack1\",\"properties\":[{\"name\":\"mode\",\"kind\":\"Any\",\"default\":\"warn\"},{\"name\":\"ncols\",\"kind\":\"Any\",\"default\":null},{\"name\":\"nrows\",\"kind\":\"Any\",\"default\":null},{\"name\":\"allow_resize\",\"kind\":\"Any\",\"default\":true},{\"name\":\"allow_drag\",\"kind\":\"Any\",\"default\":true},{\"name\":\"state\",\"kind\":\"Any\",\"default\":[]}]},{\"type\":\"model\",\"name\":\"drag1\",\"properties\":[{\"name\":\"slider_width\",\"kind\":\"Any\",\"default\":5},{\"name\":\"slider_color\",\"kind\":\"Any\",\"default\":\"black\"},{\"name\":\"value\",\"kind\":\"Any\",\"default\":50}]},{\"type\":\"model\",\"name\":\"click1\",\"properties\":[{\"name\":\"terminal_output\",\"kind\":\"Any\",\"default\":\"\"},{\"name\":\"debug_name\",\"kind\":\"Any\",\"default\":\"\"},{\"name\":\"clears\",\"kind\":\"Any\",\"default\":0}]},{\"type\":\"model\",\"name\":\"FastWrapper1\",\"properties\":[{\"name\":\"object\",\"kind\":\"Any\",\"default\":null},{\"name\":\"style\",\"kind\":\"Any\",\"default\":null}]},{\"type\":\"model\",\"name\":\"NotificationAreaBase1\",\"properties\":[{\"name\":\"js_events\",\"kind\":\"Any\",\"default\":{\"type\":\"map\"}},{\"name\":\"position\",\"kind\":\"Any\",\"default\":\"bottom-right\"},{\"name\":\"_clear\",\"kind\":\"Any\",\"default\":0}]},{\"type\":\"model\",\"name\":\"NotificationArea1\",\"properties\":[{\"name\":\"js_events\",\"kind\":\"Any\",\"default\":{\"type\":\"map\"}},{\"name\":\"notifications\",\"kind\":\"Any\",\"default\":[]},{\"name\":\"position\",\"kind\":\"Any\",\"default\":\"bottom-right\"},{\"name\":\"_clear\",\"kind\":\"Any\",\"default\":0},{\"name\":\"types\",\"kind\":\"Any\",\"default\":[{\"type\":\"map\",\"entries\":[[\"type\",\"warning\"],[\"background\",\"#ffc107\"],[\"icon\",{\"type\":\"map\",\"entries\":[[\"className\",\"fas fa-exclamation-triangle\"],[\"tagName\",\"i\"],[\"color\",\"white\"]]}]]},{\"type\":\"map\",\"entries\":[[\"type\",\"info\"],[\"background\",\"#007bff\"],[\"icon\",{\"type\":\"map\",\"entries\":[[\"className\",\"fas fa-info-circle\"],[\"tagName\",\"i\"],[\"color\",\"white\"]]}]]}]}]},{\"type\":\"model\",\"name\":\"Notification\",\"properties\":[{\"name\":\"background\",\"kind\":\"Any\",\"default\":null},{\"name\":\"duration\",\"kind\":\"Any\",\"default\":3000},{\"name\":\"icon\",\"kind\":\"Any\",\"default\":null},{\"name\":\"message\",\"kind\":\"Any\",\"default\":\"\"},{\"name\":\"notification_type\",\"kind\":\"Any\",\"default\":null},{\"name\":\"_destroyed\",\"kind\":\"Any\",\"default\":false}]},{\"type\":\"model\",\"name\":\"TemplateActions1\",\"properties\":[{\"name\":\"open_modal\",\"kind\":\"Any\",\"default\":0},{\"name\":\"close_modal\",\"kind\":\"Any\",\"default\":0}]},{\"type\":\"model\",\"name\":\"BootstrapTemplateActions1\",\"properties\":[{\"name\":\"open_modal\",\"kind\":\"Any\",\"default\":0},{\"name\":\"close_modal\",\"kind\":\"Any\",\"default\":0}]},{\"type\":\"model\",\"name\":\"TemplateEditor1\",\"properties\":[{\"name\":\"layout\",\"kind\":\"Any\",\"default\":[]}]},{\"type\":\"model\",\"name\":\"MaterialTemplateActions1\",\"properties\":[{\"name\":\"open_modal\",\"kind\":\"Any\",\"default\":0},{\"name\":\"close_modal\",\"kind\":\"Any\",\"default\":0}]},{\"type\":\"model\",\"name\":\"copy_to_clipboard1\",\"properties\":[{\"name\":\"fill\",\"kind\":\"Any\",\"default\":\"none\"},{\"name\":\"value\",\"kind\":\"Any\",\"default\":null}]}]}};\n",
       "  var render_items = [{\"docid\":\"589b6f9f-269e-448e-b2d9-6272e59ee801\",\"roots\":{\"a4a4a901-c859-432e-9338-6bef13f0a350\":\"dbe9b462-2b25-4e5e-942d-4d5250443a62\"},\"root_ids\":[\"a4a4a901-c859-432e-9338-6bef13f0a350\"]}];\n",
       "  var docs = Object.values(docs_json)\n",
       "  if (!docs) {\n",
       "    return\n",
       "  }\n",
       "  const py_version = docs[0].version.replace('rc', '-rc.').replace('.dev', '-dev.')\n",
       "  async function embed_document(root) {\n",
       "    var Bokeh = get_bokeh(root)\n",
       "    await Bokeh.embed.embed_items_notebook(docs_json, render_items);\n",
       "    for (const render_item of render_items) {\n",
       "      for (const root_id of render_item.root_ids) {\n",
       "\tconst id_el = document.getElementById(root_id)\n",
       "\tif (id_el.children.length && id_el.children[0].hasAttribute('data-root-id')) {\n",
       "\t  const root_el = id_el.children[0]\n",
       "\t  root_el.id = root_el.id + '-rendered'\n",
       "\t  for (const child of root_el.children) {\n",
       "            // Ensure JupyterLab does not capture keyboard shortcuts\n",
       "            // see: https://jupyterlab.readthedocs.io/en/4.1.x/extension/notebook.html#keyboard-interaction-model\n",
       "\t    child.setAttribute('data-lm-suppress-shortcuts', 'true')\n",
       "\t  }\n",
       "\t}\n",
       "      }\n",
       "    }\n",
       "  }\n",
       "  function get_bokeh(root) {\n",
       "    if (root.Bokeh === undefined) {\n",
       "      return null\n",
       "    } else if (root.Bokeh.version !== py_version) {\n",
       "      if (root.Bokeh.versions === undefined || !root.Bokeh.versions.has(py_version)) {\n",
       "\treturn null\n",
       "      }\n",
       "      return root.Bokeh.versions.get(py_version);\n",
       "    } else if (root.Bokeh.version === py_version) {\n",
       "      return root.Bokeh\n",
       "    }\n",
       "    return null\n",
       "  }\n",
       "  function is_loaded(root) {\n",
       "    var Bokeh = get_bokeh(root)\n",
       "    return (Bokeh != null && Bokeh.Panel !== undefined)\n",
       "  }\n",
       "  if (is_loaded(root)) {\n",
       "    embed_document(root);\n",
       "  } else {\n",
       "    var attempts = 0;\n",
       "    var timer = setInterval(function(root) {\n",
       "      if (is_loaded(root)) {\n",
       "        clearInterval(timer);\n",
       "        embed_document(root);\n",
       "      } else if (document.readyState == \"complete\") {\n",
       "        attempts++;\n",
       "        if (attempts > 200) {\n",
       "          clearInterval(timer);\n",
       "\t  var Bokeh = get_bokeh(root)\n",
       "\t  if (Bokeh == null || Bokeh.Panel == null) {\n",
       "            console.warn(\"Panel: ERROR: Unable to run Panel code because Bokeh or Panel library is missing\");\n",
       "\t  } else {\n",
       "\t    console.warn(\"Panel: WARNING: Attempting to render but not all required libraries could be resolved.\")\n",
       "\t    embed_document(root)\n",
       "\t  }\n",
       "        }\n",
       "      }\n",
       "    }, 25, root)\n",
       "  }\n",
       "})(window);</script>"
      ],
      "text/plain": [
       ":Overlay\n",
       "   .Bars.I :Bars   [Model Year]   (Number of EVs)\n",
       "   .Text.I :Text   [x,y]"
      ]
     },
     "execution_count": 10,
     "metadata": {
      "application/vnd.holoviews_exec.v0+json": {
       "id": "a4a4a901-c859-432e-9338-6bef13f0a350"
      }
     },
     "output_type": "execute_result"
    }
   ],
   "source": [
    "print(df['Make'].nunique())\n",
    "print(df['Model Year'].unique())\n",
    "\n",
    "filtered_df = df.groupby('Model Year').agg({'VIN (1-10)':'count'})\n",
    "filtered_df.reset_index(inplace=True)\n",
    "filtered_df.rename(columns={'VIN (1-10)': 'Number of EVs'}, inplace=True)\n",
    "filtered_df.head()\n",
    "hv_bar_plot = filtered_df.hvplot.bar(x='Model Year', \n",
    "                                    y='Number of EVs', \n",
    "                                    C='Count', \n",
    "                                    cmap='BuPu', \n",
    "                                    xlabel='Model Year', \n",
    "                                    ylabel='Number of Registered EVs (Log Scale)', \n",
    "                                    title='Number of Registered EVs in WA Per Model Year',\n",
    "                                    logy=True).opts(\n",
    "                                        show_grid=True\n",
    "                                    )\n",
    "\n",
    "textbox = hv.Text(\n",
    "    x=2001, y=120,\n",
    "    text='*Unit increase in Y = 10× more EVs'\n",
    ").opts(\n",
    "    text_align='left',\n",
    "    text_font_size='10pt',\n",
    "    bgcolor='white'\n",
    ")\n",
    "\n",
    "(hv_bar_plot * textbox)\n"
   ]
  },
  {
   "cell_type": "markdown",
   "metadata": {},
   "source": [
    "## HeatMap of EVs in Washington State Counties"
   ]
  },
  {
   "cell_type": "code",
   "execution_count": 11,
   "metadata": {},
   "outputs": [
    {
     "name": "stdout",
     "output_type": "stream",
     "text": [
      "39\n"
     ]
    },
    {
     "data": {
      "text/html": [
       "<div>\n",
       "<style scoped>\n",
       "    .dataframe tbody tr th:only-of-type {\n",
       "        vertical-align: middle;\n",
       "    }\n",
       "\n",
       "    .dataframe tbody tr th {\n",
       "        vertical-align: top;\n",
       "    }\n",
       "\n",
       "    .dataframe thead th {\n",
       "        text-align: right;\n",
       "    }\n",
       "</style>\n",
       "<table border=\"1\" class=\"dataframe\">\n",
       "  <thead>\n",
       "    <tr style=\"text-align: right;\">\n",
       "      <th>EV Regional Origin</th>\n",
       "      <th>Asia</th>\n",
       "      <th>North America</th>\n",
       "      <th>Europe</th>\n",
       "    </tr>\n",
       "    <tr>\n",
       "      <th>County</th>\n",
       "      <th></th>\n",
       "      <th></th>\n",
       "      <th></th>\n",
       "    </tr>\n",
       "  </thead>\n",
       "  <tbody>\n",
       "    <tr>\n",
       "      <th>King</th>\n",
       "      <td>24183</td>\n",
       "      <td>77790</td>\n",
       "      <td>20846</td>\n",
       "    </tr>\n",
       "    <tr>\n",
       "      <th>Kitsap</th>\n",
       "      <td>2295</td>\n",
       "      <td>4759</td>\n",
       "      <td>1321</td>\n",
       "    </tr>\n",
       "    <tr>\n",
       "      <th>Thurston</th>\n",
       "      <td>2455</td>\n",
       "      <td>5560</td>\n",
       "      <td>1066</td>\n",
       "    </tr>\n",
       "    <tr>\n",
       "      <th>Snohomish</th>\n",
       "      <td>6356</td>\n",
       "      <td>20595</td>\n",
       "      <td>3636</td>\n",
       "    </tr>\n",
       "    <tr>\n",
       "      <th>Skagit</th>\n",
       "      <td>717</td>\n",
       "      <td>1789</td>\n",
       "      <td>337</td>\n",
       "    </tr>\n",
       "    <tr>\n",
       "      <th>Spokane</th>\n",
       "      <td>1769</td>\n",
       "      <td>4319</td>\n",
       "      <td>883</td>\n",
       "    </tr>\n",
       "    <tr>\n",
       "      <th>Clark</th>\n",
       "      <td>3906</td>\n",
       "      <td>9216</td>\n",
       "      <td>1926</td>\n",
       "    </tr>\n",
       "    <tr>\n",
       "      <th>Pierce</th>\n",
       "      <td>4834</td>\n",
       "      <td>13118</td>\n",
       "      <td>2582</td>\n",
       "    </tr>\n",
       "    <tr>\n",
       "      <th>Whatcom</th>\n",
       "      <td>1923</td>\n",
       "      <td>3200</td>\n",
       "      <td>907</td>\n",
       "    </tr>\n",
       "    <tr>\n",
       "      <th>Benton</th>\n",
       "      <td>755</td>\n",
       "      <td>2193</td>\n",
       "      <td>372</td>\n",
       "    </tr>\n",
       "  </tbody>\n",
       "</table>\n",
       "</div>"
      ],
      "text/plain": [
       "EV Regional Origin   Asia  North America  Europe\n",
       "County                                          \n",
       "King                24183          77790   20846\n",
       "Kitsap               2295           4759    1321\n",
       "Thurston             2455           5560    1066\n",
       "Snohomish            6356          20595    3636\n",
       "Skagit                717           1789     337\n",
       "Spokane              1769           4319     883\n",
       "Clark                3906           9216    1926\n",
       "Pierce               4834          13118    2582\n",
       "Whatcom              1923           3200     907\n",
       "Benton                755           2193     372"
      ]
     },
     "execution_count": 11,
     "metadata": {},
     "output_type": "execute_result"
    }
   ],
   "source": [
    "print(df[df['State'] == 'WA']['County'].nunique())\n",
    "\n",
    "df_wa_counties = df[df['State'] == 'WA']\n",
    "\n",
    "df_top_10_counties_ev_wa = df_wa_counties.groupby('County').agg({'VIN (1-10)':'count'}).nlargest(10, 'VIN (1-10)')\n",
    "df_top_10_counties_ev_wa.reset_index(inplace=True)\n",
    "# print(df_top_10_counties_ev_wa)\n",
    "\n",
    "# print(df_wa_counties['Make'].nunique())\n",
    "\n",
    "df_wa_counties = df_wa_counties[df_wa_counties['County'].isin(df_top_10_counties_ev_wa['County'])]\n",
    "\n",
    "heat_map_data = df_wa_counties.pivot_table(index=\"County\", columns=\"EV Regional Origin\", values='VIN (1-10)', aggfunc='count', fill_value=0, sort=False)\n",
    "# heat_map_data_norm = heat_map_data.apply(lambda x: x**2)\n",
    "heat_map_data.head(20)\n",
    "\n",
    "\n",
    "# heat_map_data.fillna(0)\n",
    "\n",
    "# fig = plt.figure(figsize=(10,5))\n",
    "# ax = fig.gca()\n",
    "# sns.heatmap(heat_map_data, ax=ax, cmap='BuPu')"
   ]
  },
  {
   "cell_type": "code",
   "execution_count": 12,
   "metadata": {},
   "outputs": [
    {
     "name": "stdout",
     "output_type": "stream",
     "text": [
      "      County EV Regional Origin  Number of EVs Registered\n",
      "0       King               Asia                     24183\n",
      "1     Kitsap               Asia                      2295\n",
      "2   Thurston               Asia                      2455\n",
      "3  Snohomish               Asia                      6356\n",
      "4     Skagit               Asia                       717\n"
     ]
    },
    {
     "name": "stderr",
     "output_type": "stream",
     "text": [
      "BokehDeprecationWarning: 'FuncTickFormatter' was deprecated in Bokeh 3.0.0 and will be removed, use 'CustomJSTickFormatter' instead.\n"
     ]
    },
    {
     "data": {},
     "metadata": {},
     "output_type": "display_data"
    },
    {
     "data": {
      "application/vnd.holoviews_exec.v0+json": "",
      "text/html": [
       "<div id='f870f420-67f4-4e56-8ac8-7791b34f2231'>\n",
       "  <div id=\"a5f3d79c-9a68-4031-8d34-f30db7c22bed\" data-root-id=\"f870f420-67f4-4e56-8ac8-7791b34f2231\" style=\"display: contents;\"></div>\n",
       "</div>\n",
       "<script type=\"application/javascript\">(function(root) {\n",
       "  var docs_json = {\"746dff25-a7c5-49f0-b87c-e221861f0bfd\":{\"version\":\"3.4.3\",\"title\":\"Bokeh Application\",\"roots\":[{\"type\":\"object\",\"name\":\"Row\",\"id\":\"f870f420-67f4-4e56-8ac8-7791b34f2231\",\"attributes\":{\"name\":\"Row00348\",\"tags\":[\"embedded\"],\"stylesheets\":[\"\\n:host(.pn-loading):before, .pn-loading:before {\\n  background-color: #c3c3c3;\\n  mask-size: auto calc(min(50%, 400px));\\n  -webkit-mask-size: auto calc(min(50%, 400px));\\n}\",{\"type\":\"object\",\"name\":\"ImportedStyleSheet\",\"id\":\"d470e45e-3a38-43c6-883f-baddd9f5c563\",\"attributes\":{\"url\":\"https://cdn.holoviz.org/panel/1.4.5/dist/css/loading.css\"}},{\"type\":\"object\",\"name\":\"ImportedStyleSheet\",\"id\":\"3701d47b-5905-4b4a-9bab-f6f2321a539c\",\"attributes\":{\"url\":\"https://cdn.holoviz.org/panel/1.4.5/dist/css/listpanel.css\"}},{\"type\":\"object\",\"name\":\"ImportedStyleSheet\",\"id\":\"8b8dcdd5-3396-4a1b-94e0-8f11eb6f479b\",\"attributes\":{\"url\":\"https://cdn.holoviz.org/panel/1.4.5/dist/bundled/theme/default.css\"}},{\"type\":\"object\",\"name\":\"ImportedStyleSheet\",\"id\":\"ab3a3463-b17f-4e4b-ba3b-098eedd3a149\",\"attributes\":{\"url\":\"https://cdn.holoviz.org/panel/1.4.5/dist/bundled/theme/native.css\"}}],\"min_width\":700,\"margin\":0,\"sizing_mode\":\"stretch_width\",\"align\":\"start\",\"children\":[{\"type\":\"object\",\"name\":\"Spacer\",\"id\":\"ca12b2a5-b004-4651-8870-690e4e4b1f22\",\"attributes\":{\"name\":\"HSpacer00352\",\"stylesheets\":[\"\\n:host(.pn-loading):before, .pn-loading:before {\\n  background-color: #c3c3c3;\\n  mask-size: auto calc(min(50%, 400px));\\n  -webkit-mask-size: auto calc(min(50%, 400px));\\n}\",{\"id\":\"d470e45e-3a38-43c6-883f-baddd9f5c563\"},{\"id\":\"8b8dcdd5-3396-4a1b-94e0-8f11eb6f479b\"},{\"id\":\"ab3a3463-b17f-4e4b-ba3b-098eedd3a149\"}],\"margin\":0,\"sizing_mode\":\"stretch_width\",\"align\":\"start\"}},{\"type\":\"object\",\"name\":\"Figure\",\"id\":\"efecf570-c751-464b-abe1-814ad0965fcb\",\"attributes\":{\"width\":700,\"height\":300,\"margin\":[5,10],\"sizing_mode\":\"fixed\",\"align\":\"start\",\"x_range\":{\"type\":\"object\",\"name\":\"FactorRange\",\"id\":\"8a6db936-4d1d-43c1-a87b-647fd4fb262f\",\"attributes\":{\"name\":\"EV Regional Origin\",\"tags\":[[[\"EV Regional Origin\",null]],[]],\"factors\":[\"Asia\",\"North America\",\"Europe\"]}},\"y_range\":{\"type\":\"object\",\"name\":\"FactorRange\",\"id\":\"1690d0f6-c652-43b0-bcb5-0e8fbe80ab8c\",\"attributes\":{\"name\":\"County\",\"tags\":[[[\"County\",null]],{\"type\":\"map\",\"entries\":[[\"invert_yaxis\",false],[\"autorange\",false]]}],\"factors\":[\"King\",\"Kitsap\",\"Thurston\",\"Snohomish\",\"Skagit\",\"Spokane\",\"Clark\",\"Pierce\",\"Whatcom\",\"Benton\"]}},\"x_scale\":{\"type\":\"object\",\"name\":\"CategoricalScale\",\"id\":\"9cf2aa68-6768-4221-b000-9944db9ade7c\"},\"y_scale\":{\"type\":\"object\",\"name\":\"CategoricalScale\",\"id\":\"3e772729-f046-4889-a596-10cf31a33d23\"},\"title\":{\"type\":\"object\",\"name\":\"Title\",\"id\":\"a1b29871-d177-4101-890d-c48f18422394\",\"attributes\":{\"text\":\"Top 10 WA Counties: EVs Registered by Car Origin (Log Scale)\",\"text_color\":\"black\",\"text_font_size\":\"12pt\"}},\"renderers\":[{\"type\":\"object\",\"name\":\"GlyphRenderer\",\"id\":\"5b1ff391-4e54-4b1e-9e95-2e5df162b30a\",\"attributes\":{\"data_source\":{\"type\":\"object\",\"name\":\"ColumnDataSource\",\"id\":\"e73e0f2e-e95d-46ec-95e6-85eb70fdd2bd\",\"attributes\":{\"selected\":{\"type\":\"object\",\"name\":\"Selection\",\"id\":\"d33ca1de-3787-40b9-9f4c-71bead836ec5\",\"attributes\":{\"indices\":[],\"line_indices\":[]}},\"selection_policy\":{\"type\":\"object\",\"name\":\"UnionRenderers\",\"id\":\"39c58d24-ac28-4c91-8349-f4c7a687becd\"},\"data\":{\"type\":\"map\",\"entries\":[[\"EV_Regional_Origin\",[\"Asia\",\"Asia\",\"Asia\",\"Asia\",\"Asia\",\"Asia\",\"Asia\",\"Asia\",\"Asia\",\"Asia\",\"North America\",\"North America\",\"North America\",\"North America\",\"North America\",\"North America\",\"North America\",\"North America\",\"North America\",\"North America\",\"Europe\",\"Europe\",\"Europe\",\"Europe\",\"Europe\",\"Europe\",\"Europe\",\"Europe\",\"Europe\",\"Europe\"]],[\"County\",[\"Benton\",\"Whatcom\",\"Pierce\",\"Clark\",\"Spokane\",\"Skagit\",\"Snohomish\",\"Thurston\",\"Kitsap\",\"King\",\"Benton\",\"Whatcom\",\"Pierce\",\"Clark\",\"Spokane\",\"Skagit\",\"Snohomish\",\"Thurston\",\"Kitsap\",\"King\",\"Benton\",\"Whatcom\",\"Pierce\",\"Clark\",\"Spokane\",\"Skagit\",\"Snohomish\",\"Thurston\",\"Kitsap\",\"King\"]],[\"zvalues\",{\"type\":\"ndarray\",\"array\":{\"type\":\"bytes\",\"data\":\"8wIAAIMHAADiEgAAQg8AAOkGAADNAgAA1BgAAJcJAAD3CAAAd14AAJEIAACADAAAPjMAAAAkAADfEAAA/QYAAHNQAAC4FQAAlxIAAN4vAQB0AQAAiwMAABYKAACGBwAAcwMAAFEBAAA0DgAAKgQAACkFAABuUQAA\"},\"shape\":[30],\"dtype\":\"int32\",\"order\":\"little\"}],[\"Number_of_EVs_Registered\",[\"755\",\"1923\",\"4834\",\"3906\",\"1769\",\"717\",\"6356\",\"2455\",\"2295\",\"24183\",\"2193\",\"3200\",\"13118\",\"9216\",\"4319\",\"1789\",\"20595\",\"5560\",\"4759\",\"77790\",\"372\",\"907\",\"2582\",\"1926\",\"883\",\"337\",\"3636\",\"1066\",\"1321\",\"20846\"]]]}}},\"view\":{\"type\":\"object\",\"name\":\"CDSView\",\"id\":\"0032c0a6-7bcf-4195-8f76-6fd915a1c3fc\",\"attributes\":{\"filter\":{\"type\":\"object\",\"name\":\"AllIndices\",\"id\":\"d90a1059-5aea-4c17-9136-cfc564eb2902\"}}},\"glyph\":{\"type\":\"object\",\"name\":\"Rect\",\"id\":\"62fc5cdb-0d3e-4b61-b454-8c6f4418af1d\",\"attributes\":{\"tags\":[\"apply_ranges\"],\"x\":{\"type\":\"field\",\"field\":\"EV_Regional_Origin\"},\"y\":{\"type\":\"field\",\"field\":\"County\"},\"width\":{\"type\":\"value\",\"value\":1},\"height\":{\"type\":\"value\",\"value\":1},\"line_color\":{\"type\":\"value\",\"value\":\"#1f77b4\"},\"line_alpha\":{\"type\":\"value\",\"value\":0},\"fill_color\":{\"type\":\"field\",\"field\":\"zvalues\",\"transform\":{\"type\":\"object\",\"name\":\"LogColorMapper\",\"id\":\"f8e40932-394f-4b37-9f0c-9fafd9f30f07\",\"attributes\":{\"palette\":[\"#f7fcfd\",\"#f6fbfc\",\"#f5fafc\",\"#f4fafc\",\"#f4f9fb\",\"#f3f9fb\",\"#f2f8fb\",\"#f1f8fb\",\"#f1f7fa\",\"#f0f7fa\",\"#eff6fa\",\"#eff6f9\",\"#eef5f9\",\"#edf5f9\",\"#ecf4f9\",\"#ecf4f8\",\"#ebf3f8\",\"#eaf3f8\",\"#eaf2f7\",\"#e9f2f7\",\"#e8f1f7\",\"#e7f1f7\",\"#e7f0f6\",\"#e6f0f6\",\"#e5eff6\",\"#e4eff5\",\"#e4eef5\",\"#e3eef5\",\"#e2edf5\",\"#e2edf4\",\"#e1ecf4\",\"#e0ecf4\",\"#dfebf3\",\"#deebf3\",\"#ddeaf3\",\"#dce9f2\",\"#dbe8f2\",\"#dae7f1\",\"#d9e7f1\",\"#d8e6f0\",\"#d7e5f0\",\"#d6e4ef\",\"#d5e4ef\",\"#d4e3ef\",\"#d3e2ee\",\"#d2e1ee\",\"#d1e0ed\",\"#d0e0ed\",\"#cfdfec\",\"#cedeec\",\"#cdddec\",\"#ccddeb\",\"#cbdceb\",\"#cadbea\",\"#c9daea\",\"#c8d9e9\",\"#c7d9e9\",\"#c5d8e8\",\"#c4d7e8\",\"#c3d6e8\",\"#c2d5e7\",\"#c1d5e7\",\"#c0d4e6\",\"#bfd3e6\",\"#bed2e5\",\"#bdd2e5\",\"#bcd1e5\",\"#bbd0e4\",\"#bacfe4\",\"#b9cfe4\",\"#b8cee3\",\"#b7cde3\",\"#b6cde2\",\"#b5cce2\",\"#b4cbe2\",\"#b3cae1\",\"#b2cae1\",\"#b1c9e1\",\"#b0c8e0\",\"#afc7e0\",\"#aec7df\",\"#adc6df\",\"#acc5df\",\"#abc5de\",\"#aac4de\",\"#a9c3de\",\"#a7c2dd\",\"#a6c2dd\",\"#a5c1dc\",\"#a4c0dc\",\"#a3c0dc\",\"#a2bfdb\",\"#a1bedb\",\"#a0bdda\",\"#9fbdda\",\"#9ebcda\",\"#9dbbd9\",\"#9dbad9\",\"#9cb9d8\",\"#9cb7d7\",\"#9bb6d7\",\"#9ab5d6\",\"#9ab4d6\",\"#99b3d5\",\"#99b2d4\",\"#98b0d4\",\"#98afd3\",\"#97aed2\",\"#97add2\",\"#96acd1\",\"#95aad0\",\"#95a9d0\",\"#94a8cf\",\"#94a7cf\",\"#93a6ce\",\"#93a4cd\",\"#92a3cd\",\"#91a2cc\",\"#91a1cb\",\"#90a0cb\",\"#909eca\",\"#8f9dca\",\"#8f9cc9\",\"#8e9bc8\",\"#8d9ac8\",\"#8d98c7\",\"#8c97c6\",\"#8c96c6\",\"#8c95c5\",\"#8c93c5\",\"#8c92c4\",\"#8c91c3\",\"#8c8fc3\",\"#8c8ec2\",\"#8c8dc1\",\"#8c8bc1\",\"#8c8ac0\",\"#8c89bf\",\"#8c87bf\",\"#8c86be\",\"#8c85bd\",\"#8c83bd\",\"#8c82bc\",\"#8c81bb\",\"#8c7fbb\",\"#8c7eba\",\"#8c7db9\",\"#8c7bb9\",\"#8c7ab8\",\"#8c78b7\",\"#8c77b7\",\"#8c76b6\",\"#8c74b5\",\"#8c73b5\",\"#8c72b4\",\"#8c70b3\",\"#8c6fb3\",\"#8c6eb2\",\"#8c6cb1\",\"#8c6bb1\",\"#8b6ab0\",\"#8b68af\",\"#8b67af\",\"#8b66ae\",\"#8b64ae\",\"#8b63ad\",\"#8b62ac\",\"#8b60ac\",\"#8a5fab\",\"#8a5eaa\",\"#8a5daa\",\"#8a5ba9\",\"#8a5aa9\",\"#8a59a8\",\"#8a57a7\",\"#8a56a7\",\"#8955a6\",\"#8953a5\",\"#8952a5\",\"#8951a4\",\"#894fa4\",\"#894ea3\",\"#894da2\",\"#894ba2\",\"#884aa1\",\"#8849a0\",\"#8847a0\",\"#88469f\",\"#88459f\",\"#88439e\",\"#88429d\",\"#88419d\",\"#873f9c\",\"#873e9b\",\"#873c9a\",\"#873b99\",\"#863998\",\"#863797\",\"#863696\",\"#863494\",\"#863393\",\"#853192\",\"#853091\",\"#852e90\",\"#852c8f\",\"#842b8e\",\"#84298d\",\"#84288c\",\"#84268b\",\"#84258a\",\"#832389\",\"#832288\",\"#832087\",\"#831e86\",\"#831d85\",\"#821b84\",\"#821a83\",\"#821882\",\"#821781\",\"#811580\",\"#81137f\",\"#81127e\",\"#81107d\",\"#810f7c\",\"#7f0e7a\",\"#7d0e79\",\"#7c0d77\",\"#7a0d76\",\"#790c74\",\"#770c72\",\"#750b71\",\"#740b6f\",\"#720a6e\",\"#700a6c\",\"#6f096b\",\"#6d0969\",\"#6b0868\",\"#6a0866\",\"#680865\",\"#670763\",\"#650762\",\"#630660\",\"#62065e\",\"#60055d\",\"#5e055b\",\"#5d045a\",\"#5b0458\",\"#5a0357\",\"#580355\",\"#560254\",\"#550252\",\"#530151\",\"#51014f\",\"#50004e\",\"#4e004c\",\"#4d004b\"],\"nan_color\":\"white\",\"low\":337,\"high\":77790}}}}},\"selection_glyph\":{\"type\":\"object\",\"name\":\"Rect\",\"id\":\"9957c8ae-3338-4b20-b31e-25fe24ab5bf2\",\"attributes\":{\"tags\":[\"apply_ranges\"],\"x\":{\"type\":\"field\",\"field\":\"EV_Regional_Origin\"},\"y\":{\"type\":\"field\",\"field\":\"County\"},\"width\":{\"type\":\"value\",\"value\":1},\"height\":{\"type\":\"value\",\"value\":1},\"line_color\":{\"type\":\"value\",\"value\":\"#1f77b4\"},\"line_alpha\":{\"type\":\"value\",\"value\":0},\"fill_color\":{\"type\":\"field\",\"field\":\"zvalues\",\"transform\":{\"id\":\"f8e40932-394f-4b37-9f0c-9fafd9f30f07\"}}}},\"nonselection_glyph\":{\"type\":\"object\",\"name\":\"Rect\",\"id\":\"985b1bc1-e7a9-4f5e-900a-43c61f8b676d\",\"attributes\":{\"tags\":[\"apply_ranges\"],\"x\":{\"type\":\"field\",\"field\":\"EV_Regional_Origin\"},\"y\":{\"type\":\"field\",\"field\":\"County\"},\"width\":{\"type\":\"value\",\"value\":1},\"height\":{\"type\":\"value\",\"value\":1},\"line_color\":{\"type\":\"value\",\"value\":\"#1f77b4\"},\"line_alpha\":{\"type\":\"value\",\"value\":0},\"fill_color\":{\"type\":\"field\",\"field\":\"zvalues\",\"transform\":{\"id\":\"f8e40932-394f-4b37-9f0c-9fafd9f30f07\"}},\"fill_alpha\":{\"type\":\"value\",\"value\":0.1},\"hatch_alpha\":{\"type\":\"value\",\"value\":0.1}}},\"muted_glyph\":{\"type\":\"object\",\"name\":\"Rect\",\"id\":\"03dadb59-b85c-49c2-a1e0-e97e15ed37c0\",\"attributes\":{\"tags\":[\"apply_ranges\"],\"x\":{\"type\":\"field\",\"field\":\"EV_Regional_Origin\"},\"y\":{\"type\":\"field\",\"field\":\"County\"},\"width\":{\"type\":\"value\",\"value\":1},\"height\":{\"type\":\"value\",\"value\":1},\"line_color\":{\"type\":\"value\",\"value\":\"#1f77b4\"},\"line_alpha\":{\"type\":\"value\",\"value\":0},\"fill_color\":{\"type\":\"field\",\"field\":\"zvalues\",\"transform\":{\"id\":\"f8e40932-394f-4b37-9f0c-9fafd9f30f07\"}},\"fill_alpha\":{\"type\":\"value\",\"value\":0.2},\"hatch_alpha\":{\"type\":\"value\",\"value\":0.2}}}}}],\"toolbar\":{\"type\":\"object\",\"name\":\"Toolbar\",\"id\":\"fe12d832-985e-4bd0-8647-3e88f83438af\",\"attributes\":{\"tools\":[{\"type\":\"object\",\"name\":\"WheelZoomTool\",\"id\":\"165414ea-c94e-4469-a70b-abc306156488\",\"attributes\":{\"tags\":[\"hv_created\"],\"renderers\":\"auto\",\"zoom_together\":\"none\"}},{\"type\":\"object\",\"name\":\"HoverTool\",\"id\":\"426d882b-d7c9-4e56-9cb1-aa5e0284e880\",\"attributes\":{\"tags\":[\"hv_created\"],\"renderers\":[{\"id\":\"5b1ff391-4e54-4b1e-9e95-2e5df162b30a\"}],\"tooltips\":[[\"EV Regional Origin\",\"@{EV_Regional_Origin}\"],[\"County\",\"@{County}\"],[\"Number of EVs Registered\",\"@{Number_of_EVs_Registered}\"]]}},{\"type\":\"object\",\"name\":\"SaveTool\",\"id\":\"6b3da707-25bd-4a70-8c20-6ff07dd40219\"},{\"type\":\"object\",\"name\":\"PanTool\",\"id\":\"fc88e01c-a390-4524-bb52-19e0ac53c1f6\"},{\"type\":\"object\",\"name\":\"BoxZoomTool\",\"id\":\"5dc39355-bfaa-43b6-85f9-d44083592164\",\"attributes\":{\"overlay\":{\"type\":\"object\",\"name\":\"BoxAnnotation\",\"id\":\"c98f96b7-3ff4-4d1e-bc67-5661a730708b\",\"attributes\":{\"syncable\":false,\"level\":\"overlay\",\"visible\":false,\"left\":{\"type\":\"number\",\"value\":\"nan\"},\"right\":{\"type\":\"number\",\"value\":\"nan\"},\"top\":{\"type\":\"number\",\"value\":\"nan\"},\"bottom\":{\"type\":\"number\",\"value\":\"nan\"},\"left_units\":\"canvas\",\"right_units\":\"canvas\",\"top_units\":\"canvas\",\"bottom_units\":\"canvas\",\"line_color\":\"black\",\"line_alpha\":1.0,\"line_width\":2,\"line_dash\":[4,4],\"fill_color\":\"lightgrey\",\"fill_alpha\":0.5}}}},{\"type\":\"object\",\"name\":\"ResetTool\",\"id\":\"7dc375ca-f862-480d-ac84-7c8fc712be52\"}],\"active_drag\":{\"id\":\"fc88e01c-a390-4524-bb52-19e0ac53c1f6\"},\"active_scroll\":{\"id\":\"165414ea-c94e-4469-a70b-abc306156488\"}}},\"left\":[{\"type\":\"object\",\"name\":\"CategoricalAxis\",\"id\":\"327b5a7e-8ee1-435f-a49e-7db858d52122\",\"attributes\":{\"ticker\":{\"type\":\"object\",\"name\":\"CategoricalTicker\",\"id\":\"840e3050-4019-4cfc-b360-aaa5b99b38f4\"},\"formatter\":{\"type\":\"object\",\"name\":\"CategoricalTickFormatter\",\"id\":\"8705d27b-3f32-43d1-8cd9-0039d3652949\"},\"axis_label\":\"Washington State County\",\"major_label_policy\":{\"type\":\"object\",\"name\":\"AllLabels\",\"id\":\"8267bae0-27f7-4495-aeea-35401c1de94e\"}}}],\"right\":[{\"type\":\"object\",\"name\":\"ColorBar\",\"id\":\"5dd88291-4ebe-4ecf-a5d5-718a0217bf5d\",\"attributes\":{\"location\":[0,0],\"title\":\"Raw Number of EVs (w/ Log Scale)\",\"ticker\":{\"type\":\"object\",\"name\":\"FixedTicker\",\"id\":\"bc3c0f7b-4e87-4e0b-905a-9399d7d69815\",\"attributes\":{\"ticks\":[1000,5000,25000,70000],\"minor_ticks\":[]}},\"formatter\":{\"type\":\"object\",\"name\":\"CustomJSTickFormatter\",\"id\":\"01e43163-3e4a-492a-8ecb-2801be6b36d5\",\"attributes\":{\"code\":\"\\n    var log = Math.log10(tick);\\n    return tick.toLocaleString() + \\\" (log\\u2081\\u2080=\\\" + log.toFixed(1) + \\\")\\\";\\n\"}},\"major_label_policy\":{\"type\":\"object\",\"name\":\"NoOverlap\",\"id\":\"15097cb7-2ffe-44a1-b544-121d64618842\"},\"label_standoff\":8,\"major_tick_line_color\":\"black\",\"bar_line_color\":\"black\",\"color_mapper\":{\"id\":\"f8e40932-394f-4b37-9f0c-9fafd9f30f07\"}}}],\"below\":[{\"type\":\"object\",\"name\":\"CategoricalAxis\",\"id\":\"c7fbe0e3-4472-4ec0-9e96-4171241f8fc5\",\"attributes\":{\"ticker\":{\"type\":\"object\",\"name\":\"CategoricalTicker\",\"id\":\"b9cf09d0-51c1-4833-a99c-e40ed7b02c62\"},\"formatter\":{\"type\":\"object\",\"name\":\"CategoricalTickFormatter\",\"id\":\"4ebac639-156b-40fc-a4fd-8af4988a4e45\"},\"axis_label\":\"EV Car Model Origin\",\"major_label_policy\":{\"type\":\"object\",\"name\":\"AllLabels\",\"id\":\"31aa8e27-5cc2-476b-8098-24609bfd5357\"}}}],\"center\":[{\"type\":\"object\",\"name\":\"Grid\",\"id\":\"01bfe5c0-09d2-4159-afa6-b98590d7aa9c\",\"attributes\":{\"axis\":{\"id\":\"c7fbe0e3-4472-4ec0-9e96-4171241f8fc5\"},\"grid_line_color\":null}},{\"type\":\"object\",\"name\":\"Grid\",\"id\":\"78650031-c3a2-4aca-a25b-febf56db3069\",\"attributes\":{\"dimension\":1,\"axis\":{\"id\":\"327b5a7e-8ee1-435f-a49e-7db858d52122\"},\"grid_line_color\":null}}],\"min_border_top\":10,\"min_border_bottom\":10,\"min_border_left\":10,\"min_border_right\":10,\"output_backend\":\"webgl\"}},{\"type\":\"object\",\"name\":\"Spacer\",\"id\":\"b00a5534-7f09-4bb1-88fe-2bed3d8ead27\",\"attributes\":{\"name\":\"HSpacer00353\",\"stylesheets\":[\"\\n:host(.pn-loading):before, .pn-loading:before {\\n  background-color: #c3c3c3;\\n  mask-size: auto calc(min(50%, 400px));\\n  -webkit-mask-size: auto calc(min(50%, 400px));\\n}\",{\"id\":\"d470e45e-3a38-43c6-883f-baddd9f5c563\"},{\"id\":\"8b8dcdd5-3396-4a1b-94e0-8f11eb6f479b\"},{\"id\":\"ab3a3463-b17f-4e4b-ba3b-098eedd3a149\"}],\"margin\":0,\"sizing_mode\":\"stretch_width\",\"align\":\"start\"}}]}}],\"defs\":[{\"type\":\"model\",\"name\":\"ReactiveHTML1\"},{\"type\":\"model\",\"name\":\"FlexBox1\",\"properties\":[{\"name\":\"align_content\",\"kind\":\"Any\",\"default\":\"flex-start\"},{\"name\":\"align_items\",\"kind\":\"Any\",\"default\":\"flex-start\"},{\"name\":\"flex_direction\",\"kind\":\"Any\",\"default\":\"row\"},{\"name\":\"flex_wrap\",\"kind\":\"Any\",\"default\":\"wrap\"},{\"name\":\"gap\",\"kind\":\"Any\",\"default\":\"\"},{\"name\":\"justify_content\",\"kind\":\"Any\",\"default\":\"flex-start\"}]},{\"type\":\"model\",\"name\":\"FloatPanel1\",\"properties\":[{\"name\":\"config\",\"kind\":\"Any\",\"default\":{\"type\":\"map\"}},{\"name\":\"contained\",\"kind\":\"Any\",\"default\":true},{\"name\":\"position\",\"kind\":\"Any\",\"default\":\"right-top\"},{\"name\":\"offsetx\",\"kind\":\"Any\",\"default\":null},{\"name\":\"offsety\",\"kind\":\"Any\",\"default\":null},{\"name\":\"theme\",\"kind\":\"Any\",\"default\":\"primary\"},{\"name\":\"status\",\"kind\":\"Any\",\"default\":\"normalized\"}]},{\"type\":\"model\",\"name\":\"GridStack1\",\"properties\":[{\"name\":\"mode\",\"kind\":\"Any\",\"default\":\"warn\"},{\"name\":\"ncols\",\"kind\":\"Any\",\"default\":null},{\"name\":\"nrows\",\"kind\":\"Any\",\"default\":null},{\"name\":\"allow_resize\",\"kind\":\"Any\",\"default\":true},{\"name\":\"allow_drag\",\"kind\":\"Any\",\"default\":true},{\"name\":\"state\",\"kind\":\"Any\",\"default\":[]}]},{\"type\":\"model\",\"name\":\"drag1\",\"properties\":[{\"name\":\"slider_width\",\"kind\":\"Any\",\"default\":5},{\"name\":\"slider_color\",\"kind\":\"Any\",\"default\":\"black\"},{\"name\":\"value\",\"kind\":\"Any\",\"default\":50}]},{\"type\":\"model\",\"name\":\"click1\",\"properties\":[{\"name\":\"terminal_output\",\"kind\":\"Any\",\"default\":\"\"},{\"name\":\"debug_name\",\"kind\":\"Any\",\"default\":\"\"},{\"name\":\"clears\",\"kind\":\"Any\",\"default\":0}]},{\"type\":\"model\",\"name\":\"FastWrapper1\",\"properties\":[{\"name\":\"object\",\"kind\":\"Any\",\"default\":null},{\"name\":\"style\",\"kind\":\"Any\",\"default\":null}]},{\"type\":\"model\",\"name\":\"NotificationAreaBase1\",\"properties\":[{\"name\":\"js_events\",\"kind\":\"Any\",\"default\":{\"type\":\"map\"}},{\"name\":\"position\",\"kind\":\"Any\",\"default\":\"bottom-right\"},{\"name\":\"_clear\",\"kind\":\"Any\",\"default\":0}]},{\"type\":\"model\",\"name\":\"NotificationArea1\",\"properties\":[{\"name\":\"js_events\",\"kind\":\"Any\",\"default\":{\"type\":\"map\"}},{\"name\":\"notifications\",\"kind\":\"Any\",\"default\":[]},{\"name\":\"position\",\"kind\":\"Any\",\"default\":\"bottom-right\"},{\"name\":\"_clear\",\"kind\":\"Any\",\"default\":0},{\"name\":\"types\",\"kind\":\"Any\",\"default\":[{\"type\":\"map\",\"entries\":[[\"type\",\"warning\"],[\"background\",\"#ffc107\"],[\"icon\",{\"type\":\"map\",\"entries\":[[\"className\",\"fas fa-exclamation-triangle\"],[\"tagName\",\"i\"],[\"color\",\"white\"]]}]]},{\"type\":\"map\",\"entries\":[[\"type\",\"info\"],[\"background\",\"#007bff\"],[\"icon\",{\"type\":\"map\",\"entries\":[[\"className\",\"fas fa-info-circle\"],[\"tagName\",\"i\"],[\"color\",\"white\"]]}]]}]}]},{\"type\":\"model\",\"name\":\"Notification\",\"properties\":[{\"name\":\"background\",\"kind\":\"Any\",\"default\":null},{\"name\":\"duration\",\"kind\":\"Any\",\"default\":3000},{\"name\":\"icon\",\"kind\":\"Any\",\"default\":null},{\"name\":\"message\",\"kind\":\"Any\",\"default\":\"\"},{\"name\":\"notification_type\",\"kind\":\"Any\",\"default\":null},{\"name\":\"_destroyed\",\"kind\":\"Any\",\"default\":false}]},{\"type\":\"model\",\"name\":\"TemplateActions1\",\"properties\":[{\"name\":\"open_modal\",\"kind\":\"Any\",\"default\":0},{\"name\":\"close_modal\",\"kind\":\"Any\",\"default\":0}]},{\"type\":\"model\",\"name\":\"BootstrapTemplateActions1\",\"properties\":[{\"name\":\"open_modal\",\"kind\":\"Any\",\"default\":0},{\"name\":\"close_modal\",\"kind\":\"Any\",\"default\":0}]},{\"type\":\"model\",\"name\":\"TemplateEditor1\",\"properties\":[{\"name\":\"layout\",\"kind\":\"Any\",\"default\":[]}]},{\"type\":\"model\",\"name\":\"MaterialTemplateActions1\",\"properties\":[{\"name\":\"open_modal\",\"kind\":\"Any\",\"default\":0},{\"name\":\"close_modal\",\"kind\":\"Any\",\"default\":0}]},{\"type\":\"model\",\"name\":\"copy_to_clipboard1\",\"properties\":[{\"name\":\"fill\",\"kind\":\"Any\",\"default\":\"none\"},{\"name\":\"value\",\"kind\":\"Any\",\"default\":null}]}]}};\n",
       "  var render_items = [{\"docid\":\"746dff25-a7c5-49f0-b87c-e221861f0bfd\",\"roots\":{\"f870f420-67f4-4e56-8ac8-7791b34f2231\":\"a5f3d79c-9a68-4031-8d34-f30db7c22bed\"},\"root_ids\":[\"f870f420-67f4-4e56-8ac8-7791b34f2231\"]}];\n",
       "  var docs = Object.values(docs_json)\n",
       "  if (!docs) {\n",
       "    return\n",
       "  }\n",
       "  const py_version = docs[0].version.replace('rc', '-rc.').replace('.dev', '-dev.')\n",
       "  async function embed_document(root) {\n",
       "    var Bokeh = get_bokeh(root)\n",
       "    await Bokeh.embed.embed_items_notebook(docs_json, render_items);\n",
       "    for (const render_item of render_items) {\n",
       "      for (const root_id of render_item.root_ids) {\n",
       "\tconst id_el = document.getElementById(root_id)\n",
       "\tif (id_el.children.length && id_el.children[0].hasAttribute('data-root-id')) {\n",
       "\t  const root_el = id_el.children[0]\n",
       "\t  root_el.id = root_el.id + '-rendered'\n",
       "\t  for (const child of root_el.children) {\n",
       "            // Ensure JupyterLab does not capture keyboard shortcuts\n",
       "            // see: https://jupyterlab.readthedocs.io/en/4.1.x/extension/notebook.html#keyboard-interaction-model\n",
       "\t    child.setAttribute('data-lm-suppress-shortcuts', 'true')\n",
       "\t  }\n",
       "\t}\n",
       "      }\n",
       "    }\n",
       "  }\n",
       "  function get_bokeh(root) {\n",
       "    if (root.Bokeh === undefined) {\n",
       "      return null\n",
       "    } else if (root.Bokeh.version !== py_version) {\n",
       "      if (root.Bokeh.versions === undefined || !root.Bokeh.versions.has(py_version)) {\n",
       "\treturn null\n",
       "      }\n",
       "      return root.Bokeh.versions.get(py_version);\n",
       "    } else if (root.Bokeh.version === py_version) {\n",
       "      return root.Bokeh\n",
       "    }\n",
       "    return null\n",
       "  }\n",
       "  function is_loaded(root) {\n",
       "    var Bokeh = get_bokeh(root)\n",
       "    return (Bokeh != null && Bokeh.Panel !== undefined)\n",
       "  }\n",
       "  if (is_loaded(root)) {\n",
       "    embed_document(root);\n",
       "  } else {\n",
       "    var attempts = 0;\n",
       "    var timer = setInterval(function(root) {\n",
       "      if (is_loaded(root)) {\n",
       "        clearInterval(timer);\n",
       "        embed_document(root);\n",
       "      } else if (document.readyState == \"complete\") {\n",
       "        attempts++;\n",
       "        if (attempts > 200) {\n",
       "          clearInterval(timer);\n",
       "\t  var Bokeh = get_bokeh(root)\n",
       "\t  if (Bokeh == null || Bokeh.Panel == null) {\n",
       "            console.warn(\"Panel: ERROR: Unable to run Panel code because Bokeh or Panel library is missing\");\n",
       "\t  } else {\n",
       "\t    console.warn(\"Panel: WARNING: Attempting to render but not all required libraries could be resolved.\")\n",
       "\t    embed_document(root)\n",
       "\t  }\n",
       "        }\n",
       "      }\n",
       "    }, 25, root)\n",
       "  }\n",
       "})(window);</script>"
      ],
      "text/plain": [
       ":HeatMap   [EV Regional Origin,County]   (Number of EVs Registered)"
      ]
     },
     "execution_count": 12,
     "metadata": {
      "application/vnd.holoviews_exec.v0+json": {
       "id": "f870f420-67f4-4e56-8ac8-7791b34f2231"
      }
     },
     "output_type": "execute_result"
    }
   ],
   "source": [
    "# heat_map_data.index.name = 'County'\n",
    "# heat_map_data.columns.name = 'Region'\n",
    "\n",
    "heat_map_long = heat_map_data.reset_index().melt(\n",
    "    id_vars='County',\n",
    "    var_name='EV Regional Origin',\n",
    "    value_name='Number of EVs Registered'\n",
    ")\n",
    "print(heat_map_long.head()) \n",
    "\n",
    "custom_formatter = FuncTickFormatter(code=\"\"\"\n",
    "    var log = Math.log10(tick);\n",
    "    return tick.toLocaleString() + \" (log₁₀=\" + log.toFixed(1) + \")\";\n",
    "\"\"\")\n",
    "\n",
    "custom_ticks = [1000, 5000, 25000, 70000]\n",
    "\n",
    "# Use FixedTicker instead of LogTicker\n",
    "fixed_ticker = FixedTicker(ticks=custom_ticks)\n",
    "\n",
    "hmap = heat_map_long.hvplot.heatmap(x='EV Regional Origin', \n",
    "                                    y='County', \n",
    "                                    C='Number of EVs Registered', \n",
    "                                    cmap='BuPu', \n",
    "                                    xlabel='EV Car Model Origin', \n",
    "                                    ylabel='Washington State County', \n",
    "                                    title='Top 10 WA Counties: EVs Registered by Car Origin (Log Scale)',\n",
    "                                    logz=True,\n",
    "                                    colorbar=True).opts(\n",
    "                                        colorbar_opts={'title': 'Raw Number of EVs (w/ Log Scale)', 'ticker': fixed_ticker, 'formatter': custom_formatter}\n",
    "                                        \n",
    "                                    )\n",
    "hmap"
   ]
  },
  {
   "cell_type": "markdown",
   "metadata": {},
   "source": [
    "Violin Plot of Battery Range in each region"
   ]
  },
  {
   "cell_type": "code",
   "execution_count": 15,
   "metadata": {},
   "outputs": [
    {
     "data": {
      "text/html": [
       "<div>\n",
       "<style scoped>\n",
       "    .dataframe tbody tr th:only-of-type {\n",
       "        vertical-align: middle;\n",
       "    }\n",
       "\n",
       "    .dataframe tbody tr th {\n",
       "        vertical-align: top;\n",
       "    }\n",
       "\n",
       "    .dataframe thead th {\n",
       "        text-align: right;\n",
       "    }\n",
       "</style>\n",
       "<table border=\"1\" class=\"dataframe\">\n",
       "  <thead>\n",
       "    <tr style=\"text-align: right;\">\n",
       "      <th></th>\n",
       "      <th>VIN (1-10)</th>\n",
       "      <th>County</th>\n",
       "      <th>City</th>\n",
       "      <th>State</th>\n",
       "      <th>Postal Code</th>\n",
       "      <th>Model Year</th>\n",
       "      <th>Make</th>\n",
       "      <th>Model</th>\n",
       "      <th>Electric Vehicle Type</th>\n",
       "      <th>Clean Alternative Fuel Vehicle (CAFV) Eligibility</th>\n",
       "      <th>Electric Range</th>\n",
       "      <th>Base MSRP</th>\n",
       "      <th>Legislative District</th>\n",
       "      <th>DOL Vehicle ID</th>\n",
       "      <th>Vehicle Location</th>\n",
       "      <th>Electric Utility</th>\n",
       "      <th>2020 Census Tract</th>\n",
       "      <th>EV Regional Origin</th>\n",
       "    </tr>\n",
       "  </thead>\n",
       "  <tbody>\n",
       "    <tr>\n",
       "      <th>0</th>\n",
       "      <td>1N4BZ0CP5G</td>\n",
       "      <td>King</td>\n",
       "      <td>Seattle</td>\n",
       "      <td>WA</td>\n",
       "      <td>98125</td>\n",
       "      <td>2016</td>\n",
       "      <td>NISSAN</td>\n",
       "      <td>LEAF</td>\n",
       "      <td>Battery Electric Vehicle (BEV)</td>\n",
       "      <td>Clean Alternative Fuel Vehicle Eligible</td>\n",
       "      <td>84</td>\n",
       "      <td>0.0</td>\n",
       "      <td>46</td>\n",
       "      <td>349455557</td>\n",
       "      <td>POINT (-122.30253 47.72656)</td>\n",
       "      <td>CITY OF SEATTLE - (WA)|CITY OF TACOMA - (WA)</td>\n",
       "      <td>5.303300e+10</td>\n",
       "      <td>Asia</td>\n",
       "    </tr>\n",
       "    <tr>\n",
       "      <th>1</th>\n",
       "      <td>KNDJX3AEXG</td>\n",
       "      <td>King</td>\n",
       "      <td>Renton</td>\n",
       "      <td>WA</td>\n",
       "      <td>98058</td>\n",
       "      <td>2016</td>\n",
       "      <td>KIA</td>\n",
       "      <td>SOUL</td>\n",
       "      <td>Battery Electric Vehicle (BEV)</td>\n",
       "      <td>Clean Alternative Fuel Vehicle Eligible</td>\n",
       "      <td>93</td>\n",
       "      <td>31950.0</td>\n",
       "      <td>11</td>\n",
       "      <td>210641315</td>\n",
       "      <td>POINT (-122.08747 47.4466)</td>\n",
       "      <td>PUGET SOUND ENERGY INC||CITY OF TACOMA - (WA)</td>\n",
       "      <td>5.303303e+10</td>\n",
       "      <td>Asia</td>\n",
       "    </tr>\n",
       "  </tbody>\n",
       "</table>\n",
       "</div>"
      ],
      "text/plain": [
       "   VIN (1-10) County     City State  Postal Code  Model Year    Make Model  \\\n",
       "0  1N4BZ0CP5G   King  Seattle    WA        98125        2016  NISSAN  LEAF   \n",
       "1  KNDJX3AEXG   King   Renton    WA        98058        2016     KIA  SOUL   \n",
       "\n",
       "            Electric Vehicle Type  \\\n",
       "0  Battery Electric Vehicle (BEV)   \n",
       "1  Battery Electric Vehicle (BEV)   \n",
       "\n",
       "  Clean Alternative Fuel Vehicle (CAFV) Eligibility  Electric Range  \\\n",
       "0           Clean Alternative Fuel Vehicle Eligible              84   \n",
       "1           Clean Alternative Fuel Vehicle Eligible              93   \n",
       "\n",
       "   Base MSRP  Legislative District  DOL Vehicle ID  \\\n",
       "0        0.0                    46       349455557   \n",
       "1    31950.0                    11       210641315   \n",
       "\n",
       "              Vehicle Location                               Electric Utility  \\\n",
       "0  POINT (-122.30253 47.72656)   CITY OF SEATTLE - (WA)|CITY OF TACOMA - (WA)   \n",
       "1   POINT (-122.08747 47.4466)  PUGET SOUND ENERGY INC||CITY OF TACOMA - (WA)   \n",
       "\n",
       "   2020 Census Tract EV Regional Origin  \n",
       "0       5.303300e+10               Asia  \n",
       "1       5.303303e+10               Asia  "
      ]
     },
     "execution_count": 15,
     "metadata": {},
     "output_type": "execute_result"
    }
   ],
   "source": [
    "## for this one Ill look at all counties, not just in WA\n",
    "\n",
    "df.head(2)"
   ]
  },
  {
   "cell_type": "code",
   "execution_count": 19,
   "metadata": {},
   "outputs": [
    {
     "data": {},
     "metadata": {},
     "output_type": "display_data"
    },
    {
     "data": {
      "application/vnd.holoviews_exec.v0+json": "",
      "text/html": [
       "<div id='5d0fe09b-230d-472a-88e9-f9ab994da5f1'>\n",
       "  <div id=\"cbbd799d-2c5a-45bc-b833-8031d017c084\" data-root-id=\"5d0fe09b-230d-472a-88e9-f9ab994da5f1\" style=\"display: contents;\"></div>\n",
       "</div>\n",
       "<script type=\"application/javascript\">(function(root) {\n",
       "  var docs_json = {\"e8001db5-4803-4f90-943e-d6efb611c35a\":{\"version\":\"3.4.3\",\"title\":\"Bokeh Application\",\"roots\":[{\"type\":\"object\",\"name\":\"Row\",\"id\":\"5d0fe09b-230d-472a-88e9-f9ab994da5f1\",\"attributes\":{\"name\":\"Row00862\",\"tags\":[\"embedded\"],\"stylesheets\":[\"\\n:host(.pn-loading):before, .pn-loading:before {\\n  background-color: #c3c3c3;\\n  mask-size: auto calc(min(50%, 400px));\\n  -webkit-mask-size: auto calc(min(50%, 400px));\\n}\",{\"type\":\"object\",\"name\":\"ImportedStyleSheet\",\"id\":\"c31ac84c-5186-4196-8a32-1014c9f82697\",\"attributes\":{\"url\":\"https://cdn.holoviz.org/panel/1.4.5/dist/css/loading.css\"}},{\"type\":\"object\",\"name\":\"ImportedStyleSheet\",\"id\":\"b07b3490-0b39-4d3f-9f15-ef34b9ab4da3\",\"attributes\":{\"url\":\"https://cdn.holoviz.org/panel/1.4.5/dist/css/listpanel.css\"}},{\"type\":\"object\",\"name\":\"ImportedStyleSheet\",\"id\":\"62cfb005-36ca-4dc0-acac-509b0b44f5bf\",\"attributes\":{\"url\":\"https://cdn.holoviz.org/panel/1.4.5/dist/bundled/theme/default.css\"}},{\"type\":\"object\",\"name\":\"ImportedStyleSheet\",\"id\":\"6625cf90-6c5d-44b4-9990-75edf47eedf5\",\"attributes\":{\"url\":\"https://cdn.holoviz.org/panel/1.4.5/dist/bundled/theme/native.css\"}}],\"min_width\":500,\"margin\":0,\"sizing_mode\":\"stretch_width\",\"align\":\"start\",\"children\":[{\"type\":\"object\",\"name\":\"Spacer\",\"id\":\"be61524e-77bd-41ab-bc64-14c66aa11e69\",\"attributes\":{\"name\":\"HSpacer00866\",\"stylesheets\":[\"\\n:host(.pn-loading):before, .pn-loading:before {\\n  background-color: #c3c3c3;\\n  mask-size: auto calc(min(50%, 400px));\\n  -webkit-mask-size: auto calc(min(50%, 400px));\\n}\",{\"id\":\"c31ac84c-5186-4196-8a32-1014c9f82697\"},{\"id\":\"62cfb005-36ca-4dc0-acac-509b0b44f5bf\"},{\"id\":\"6625cf90-6c5d-44b4-9990-75edf47eedf5\"}],\"margin\":0,\"sizing_mode\":\"stretch_width\",\"align\":\"start\"}},{\"type\":\"object\",\"name\":\"Figure\",\"id\":\"e237c9e1-728f-42cf-90b6-c580d9bbd1ed\",\"attributes\":{\"width\":500,\"height\":500,\"margin\":[5,10],\"sizing_mode\":\"fixed\",\"align\":\"start\",\"x_range\":{\"type\":\"object\",\"name\":\"FactorRange\",\"id\":\"3d4eea3d-2516-460f-8ab4-9c472ab90b88\",\"attributes\":{\"name\":\"EV Regional Origin\",\"tags\":[[[\"EV Regional Origin\",null]],[]],\"factors\":[\"Asia\",\"North America\",\"Europe\"]}},\"y_range\":{\"type\":\"object\",\"name\":\"Range1d\",\"id\":\"7371be30-219f-43bd-8314-28316c191251\",\"attributes\":{\"name\":\"Electric Range\",\"tags\":[[[\"Electric Range\",null]],{\"type\":\"map\",\"entries\":[[\"invert_yaxis\",false],[\"autorange\",false]]}],\"start\":-134.8,\"end\":471.8,\"reset_start\":-134.8,\"reset_end\":471.8}},\"x_scale\":{\"type\":\"object\",\"name\":\"CategoricalScale\",\"id\":\"d30a420a-c4c6-4f44-9b42-befdf65d5e6a\"},\"y_scale\":{\"type\":\"object\",\"name\":\"LinearScale\",\"id\":\"2a2cbef0-e605-4dad-86e7-18d475ff25c7\"},\"title\":{\"type\":\"object\",\"name\":\"Title\",\"id\":\"6e72cabb-f291-4440-a179-82bd5d01c880\",\"attributes\":{\"text_color\":\"black\",\"text_font_size\":\"12pt\"}},\"renderers\":[{\"type\":\"object\",\"name\":\"GlyphRenderer\",\"id\":\"615365d4-bbf7-4e71-ba1e-ac7aa62d3e98\",\"attributes\":{\"data_source\":{\"type\":\"object\",\"name\":\"ColumnDataSource\",\"id\":\"62954dd9-7a5a-4a85-bb4e-aa02465b33e4\",\"attributes\":{\"selected\":{\"type\":\"object\",\"name\":\"Selection\",\"id\":\"daf60676-2b30-4135-95ac-d434a77ece2d\",\"attributes\":{\"indices\":[],\"line_indices\":[]}},\"selection_policy\":{\"type\":\"object\",\"name\":\"UnionRenderers\",\"id\":\"b7bd4d21-551e-4c6f-80e3-1a3dca94e9f9\"},\"data\":{\"type\":\"map\",\"entries\":[[\"ys\",[{\"type\":\"ndarray\",\"array\":{\"type\":\"bytes\",\"data\":\"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\"},\"shape\":[200],\"dtype\":\"float64\",\"order\":\"little\"},{\"type\":\"ndarray\",\"array\":{\"type\":\"bytes\",\"data\":\"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\"},\"shape\":[200],\"dtype\":\"float64\",\"order\":\"little\"},{\"type\":\"ndarray\",\"array\":{\"type\":\"bytes\",\"data\":\"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\"},\"shape\":[200],\"dtype\":\"float64\",\"order\":\"little\"}]],[\"xs\",[[[\"Asia\",-1.4713331022547788e-06],[\"Asia\",-1.9143104372818334e-05],[\"Asia\",-0.00018556539515072885],[\"Asia\",-0.00134026036080614],[\"Asia\",-0.007213251221339619],[\"Asia\",-0.028933149085977057],[\"Asia\",-0.0865186375902061],[\"Asia\",-0.19297097860501458],[\"Asia\",-0.3213082295949219],[\"Asia\",-0.4],[\"Asia\",-0.3733387149069834],[\"Asia\",-0.2627886062292367],[\"Asia\",-0.1422789848431577],[\"Asia\",-0.06596791129843109],[\"Asia\",-0.04197607100420745],[\"Asia\",-0.05462931325167167],[\"Asia\",-0.08433651840567252],[\"Asia\",-0.11298812538778838],[\"Asia\",-0.12972170983445364],[\"Asia\",-0.13541921723540692],[\"Asia\",-0.13653524016181498],[\"Asia\",-0.13460753233975248],[\"Asia\",-0.12415510012846614],[\"Asia\",-0.10066866696531092],[\"Asia\",-0.06844663442763542],[\"Asia\",-0.03808369049047769],[\"Asia\",-0.017388108547877753],[\"Asia\",-0.007286335867597942],[\"Asia\",-0.005183080264660585],[\"Asia\",-0.009475433584399198],[\"Asia\",-0.020148983179545055],[\"Asia\",-0.0356863488426407],[\"Asia\",-0.05142414888352009],[\"Asia\",-0.0630135209153296],[\"Asia\",-0.06933449133264248],[\"Asia\",-0.06945881951278148],[\"Asia\",-0.061158648234597913],[\"Asia\",-0.04573734625814315],[\"Asia\",-0.029466301587959196],[\"Asia\",-0.018099148607648052],[\"Asia\",-0.013283973209560197],[\"Asia\",-0.013465169800156655],[\"Asia\",-0.01522540261790025],[\"Asia\",-0.014996514335632006],[\"Asia\",-0.011654649056867347],[\"Asia\",-0.007016378667181422],[\"Asia\",-0.003392225924600885],[\"Asia\",-0.0015150593601081196],[\"Asia\",-0.0007963107333480498],[\"Asia\",-0.0005193348535358354],[\"Asia\",-0.0004699849793118054],[\"Asia\",-0.0010880663941216344],[\"Asia\",-0.003736170100613949],[\"Asia\",-0.01065398091398107],[\"Asia\",-0.02295632450684749],[\"Asia\",-0.03703193522819895],[\"Asia\",-0.044684612150649006],[\"Asia\",-0.040336819292234816],[\"Asia\",-0.027284851590063098],[\"Asia\",-0.013974034431637925],[\"Asia\",-0.005747512842708],[\"Asia\",-0.002431269158071707],[\"Asia\",-0.0015389876895834066],[\"Asia\",-0.001210765817406279],[\"Asia\",-0.0008230001841791688],[\"Asia\",-0.0004286351817270823],[\"Asia\",-0.00016711447790376758],[\"Asia\",-4.858895334617421e-05],[\"Asia\",-1.067156256818524e-05],[\"Asia\",-3.2147038364451555e-06],[\"Asia\",-1.1621560982283748e-05],[\"Asia\",-6.40378939949282e-05],[\"Asia\",-0.0002674289127582239],[\"Asia\",-0.000832242926996107],[\"Asia\",-0.0019295033456872201],[\"Asia\",-0.0033327679363972644],[\"Asia\",-0.00428983603771789],[\"Asia\",-0.004124464285329107],[\"Asia\",-0.0030244045681554997],[\"Asia\",-0.0019902948917503633],[\"Asia\",-0.0021611742912913665],[\"Asia\",-0.0043186661833875505],[\"Asia\",-0.008304274949210187],[\"Asia\",-0.012311431826659171],[\"Asia\",-0.013668821656890318],[\"Asia\",-0.011399556690769938],[\"Asia\",-0.007396254975188182],[\"Asia\",-0.004391228671651493],[\"Asia\",-0.0034590814491210725],[\"Asia\",-0.003739787769271872],[\"Asia\",-0.003818463593366255],[\"Asia\",-0.003058303359032627],[\"Asia\",-0.0018420598041737205],[\"Asia\",-0.0008279312233970001],[\"Asia\",-0.0002773066136542833],[\"Asia\",-6.919875064684382e-05],[\"Asia\",-1.2864423001328498e-05],[\"Asia\",-1.7816945818103403e-06],[\"Asia\",-1.8383430084627335e-07],[\"Asia\",-1.4130908415244757e-08],[\"Asia\",1.4130908415244757e-08],[\"Asia\",1.8383430084627335e-07],[\"Asia\",1.7816945818103403e-06],[\"Asia\",1.2864423001328498e-05],[\"Asia\",6.919875064684382e-05],[\"Asia\",0.0002773066136542833],[\"Asia\",0.0008279312233970001],[\"Asia\",0.0018420598041737205],[\"Asia\",0.003058303359032627],[\"Asia\",0.003818463593366255],[\"Asia\",0.003739787769271872],[\"Asia\",0.0034590814491210725],[\"Asia\",0.004391228671651493],[\"Asia\",0.007396254975188182],[\"Asia\",0.011399556690769938],[\"Asia\",0.013668821656890318],[\"Asia\",0.012311431826659171],[\"Asia\",0.008304274949210187],[\"Asia\",0.0043186661833875505],[\"Asia\",0.0021611742912913665],[\"Asia\",0.0019902948917503633],[\"Asia\",0.0030244045681554997],[\"Asia\",0.004124464285329107],[\"Asia\",0.00428983603771789],[\"Asia\",0.0033327679363972644],[\"Asia\",0.0019295033456872201],[\"Asia\",0.000832242926996107],[\"Asia\",0.0002674289127582239],[\"Asia\",6.40378939949282e-05],[\"Asia\",1.1621560982283748e-05],[\"Asia\",3.2147038364451555e-06],[\"Asia\",1.067156256818524e-05],[\"Asia\",4.858895334617421e-05],[\"Asia\",0.00016711447790376758],[\"Asia\",0.0004286351817270823],[\"Asia\",0.0008230001841791688],[\"Asia\",0.001210765817406279],[\"Asia\",0.0015389876895834066],[\"Asia\",0.002431269158071707],[\"Asia\",0.005747512842708],[\"Asia\",0.013974034431637925],[\"Asia\",0.027284851590063098],[\"Asia\",0.040336819292234816],[\"Asia\",0.044684612150649006],[\"Asia\",0.03703193522819895],[\"Asia\",0.02295632450684749],[\"Asia\",0.01065398091398107],[\"Asia\",0.003736170100613949],[\"Asia\",0.0010880663941216344],[\"Asia\",0.0004699849793118054],[\"Asia\",0.0005193348535358354],[\"Asia\",0.0007963107333480498],[\"Asia\",0.0015150593601081196],[\"Asia\",0.003392225924600885],[\"Asia\",0.007016378667181422],[\"Asia\",0.011654649056867347],[\"Asia\",0.014996514335632006],[\"Asia\",0.01522540261790025],[\"Asia\",0.013465169800156655],[\"Asia\",0.013283973209560197],[\"Asia\",0.018099148607648052],[\"Asia\",0.029466301587959196],[\"Asia\",0.04573734625814315],[\"Asia\",0.061158648234597913],[\"Asia\",0.06945881951278148],[\"Asia\",0.06933449133264248],[\"Asia\",0.0630135209153296],[\"Asia\",0.05142414888352009],[\"Asia\",0.0356863488426407],[\"Asia\",0.020148983179545055],[\"Asia\",0.009475433584399198],[\"Asia\",0.005183080264660585],[\"Asia\",0.007286335867597942],[\"Asia\",0.017388108547877753],[\"Asia\",0.03808369049047769],[\"Asia\",0.06844663442763542],[\"Asia\",0.10066866696531092],[\"Asia\",0.12415510012846614],[\"Asia\",0.13460753233975248],[\"Asia\",0.13653524016181498],[\"Asia\",0.13541921723540692],[\"Asia\",0.12972170983445364],[\"Asia\",0.11298812538778838],[\"Asia\",0.08433651840567252],[\"Asia\",0.05462931325167167],[\"Asia\",0.04197607100420745],[\"Asia\",0.06596791129843109],[\"Asia\",0.1422789848431577],[\"Asia\",0.2627886062292367],[\"Asia\",0.3733387149069834],[\"Asia\",0.4],[\"Asia\",0.3213082295949219],[\"Asia\",0.19297097860501458],[\"Asia\",0.0865186375902061],[\"Asia\",0.028933149085977057],[\"Asia\",0.007213251221339619],[\"Asia\",0.00134026036080614],[\"Asia\",0.00018556539515072885],[\"Asia\",1.9143104372818334e-05],[\"Asia\",1.4713331022547788e-06]],[[\"North America\",-1.4948522649435048e-06],[\"North America\",-1.5252943952442473e-05],[\"North America\",-0.00012260657911388492],[\"North America\",-0.0007763879370656176],[\"North America\",-0.0038730160812445293],[\"North America\",-0.015220440005548683],[\"North America\",-0.04712140320238307],[\"North America\",-0.11493171644728978],[\"North America\",-0.2208750453145938],[\"North America\",-0.33458643563197094],[\"North America\",-0.4],[\"North America\",-0.3788806872443198],[\"North America\",-0.28790685480153383],[\"North America\",-0.1824029971475104],[\"North America\",-0.1068179369612909],[\"North America\",-0.06915439415420176],[\"North America\",-0.05442541934381352],[\"North America\",-0.047164205656932155],[\"North America\",-0.04013265448089126],[\"North America\",-0.032133206302409144],[\"North America\",-0.02442617164527591],[\"North America\",-0.018459654533837293],[\"North America\",-0.014423124174659897],[\"North America\",-0.011269504010995352],[\"North America\",-0.008111709633974786],[\"North America\",-0.005127264671836287],[\"North America\",-0.0029948993130712565],[\"North America\",-0.00195422712249727],[\"North America\",-0.0016338947643509422],[\"North America\",-0.001499246008418711],[\"North America\",-0.0012534740067867533],[\"North America\",-0.0008994649508277303],[\"North America\",-0.0005683834822511749],[\"North America\",-0.000342713801444509],[\"North America\",-0.00021214987386882416],[\"North America\",-0.0001315143089058974],[\"North America\",-7.413398529760779e-05],[\"North America\",-3.512594454071773e-05],[\"North America\",-1.3450256319924844e-05],[\"North America\",-4.096121091485879e-06],[\"North America\",-9.861316811613007e-07],[\"North America\",-1.8726414435328267e-07],[\"North America\",-2.8027289289617396e-08],[\"North America\",-3.305679520552084e-09],[\"North America\",-3.2090622138513575e-10],[\"North America\",-2.860279366822648e-10],[\"North America\",-3.9591281348927046e-09],[\"North America\",-4.694004026137243e-08],[\"North America\",-4.4034373881169483e-07],[\"North America\",-3.2754931837414157e-06],[\"North America\",-1.9396308835726607e-05],[\"North America\",-9.201258035171212e-05],[\"North America\",-0.00035307677224601835],[\"North America\",-0.0011116009280691312],[\"North America\",-0.002926325030901334],[\"North America\",-0.006582739182880443],[\"North America\",-0.012896593117853478],[\"North America\",-0.022222714021498946],[\"North America\",-0.033606256070154286],[\"North America\",-0.044128188203833824],[\"North America\",-0.04972043301193424],[\"North America\",-0.047863882664586015],[\"North America\",-0.04006658930125558],[\"North America\",-0.03111872993954808],[\"North America\",-0.025192259827125276],[\"North America\",-0.02271073766680478],[\"North America\",-0.021252824304656623],[\"North America\",-0.018947616616908664],[\"North America\",-0.016195626711120303],[\"North America\",-0.014359137129290062],[\"North America\",-0.013802095407808457],[\"North America\",-0.013556204010009041],[\"North America\",-0.01246526810817026],[\"North America\",-0.010390632552779321],[\"North America\",-0.00843913375020406],[\"North America\",-0.008076375960216372],[\"North America\",-0.009774676401840496],[\"North America\",-0.012313512936241992],[\"North America\",-0.01359539003558878],[\"North America\",-0.012464084445114418],[\"North America\",-0.009675766004420671],[\"North America\",-0.007014864716858799],[\"North America\",-0.005759275402887366],[\"North America\",-0.006046067437161244],[\"North America\",-0.007135093205127916],[\"North America\",-0.007927991998112458],[\"North America\",-0.007599071047345034],[\"North America\",-0.00611329328732298],[\"North America\",-0.004126522997068149],[\"North America\",-0.002365559116799417],[\"North America\",-0.0011694055415518742],[\"North America\",-0.000503543954631876],[\"North America\",-0.0001886602825303833],[\"North America\",-6.076854773240326e-05],[\"North America\",-1.6532680344564123e-05],[\"North America\",-3.7320796563578427e-06],[\"North America\",-6.887674310589294e-07],[\"North America\",-1.0276871146578284e-07],[\"North America\",-1.2298140164144962e-08],[\"North America\",-1.1737453218201645e-09],[\"North America\",1.1737453218201645e-09],[\"North America\",1.2298140164144962e-08],[\"North America\",1.0276871146578284e-07],[\"North America\",6.887674310589294e-07],[\"North America\",3.7320796563578427e-06],[\"North America\",1.6532680344564123e-05],[\"North America\",6.076854773240326e-05],[\"North America\",0.0001886602825303833],[\"North America\",0.000503543954631876],[\"North America\",0.0011694055415518742],[\"North America\",0.002365559116799417],[\"North America\",0.004126522997068149],[\"North America\",0.00611329328732298],[\"North America\",0.007599071047345034],[\"North America\",0.007927991998112458],[\"North America\",0.007135093205127916],[\"North America\",0.006046067437161244],[\"North America\",0.005759275402887366],[\"North America\",0.007014864716858799],[\"North America\",0.009675766004420671],[\"North America\",0.012464084445114418],[\"North America\",0.01359539003558878],[\"North America\",0.012313512936241992],[\"North America\",0.009774676401840496],[\"North America\",0.008076375960216372],[\"North America\",0.00843913375020406],[\"North America\",0.010390632552779321],[\"North America\",0.01246526810817026],[\"North America\",0.013556204010009041],[\"North America\",0.013802095407808457],[\"North America\",0.014359137129290062],[\"North America\",0.016195626711120303],[\"North America\",0.018947616616908664],[\"North America\",0.021252824304656623],[\"North America\",0.02271073766680478],[\"North America\",0.025192259827125276],[\"North America\",0.03111872993954808],[\"North America\",0.04006658930125558],[\"North America\",0.047863882664586015],[\"North America\",0.04972043301193424],[\"North America\",0.044128188203833824],[\"North America\",0.033606256070154286],[\"North America\",0.022222714021498946],[\"North America\",0.012896593117853478],[\"North America\",0.006582739182880443],[\"North America\",0.002926325030901334],[\"North America\",0.0011116009280691312],[\"North America\",0.00035307677224601835],[\"North America\",9.201258035171212e-05],[\"North America\",1.9396308835726607e-05],[\"North America\",3.2754931837414157e-06],[\"North America\",4.4034373881169483e-07],[\"North America\",4.694004026137243e-08],[\"North America\",3.9591281348927046e-09],[\"North America\",2.860279366822648e-10],[\"North America\",3.2090622138513575e-10],[\"North America\",3.305679520552084e-09],[\"North America\",2.8027289289617396e-08],[\"North America\",1.8726414435328267e-07],[\"North America\",9.861316811613007e-07],[\"North America\",4.096121091485879e-06],[\"North America\",1.3450256319924844e-05],[\"North America\",3.512594454071773e-05],[\"North America\",7.413398529760779e-05],[\"North America\",0.0001315143089058974],[\"North America\",0.00021214987386882416],[\"North America\",0.000342713801444509],[\"North America\",0.0005683834822511749],[\"North America\",0.0008994649508277303],[\"North America\",0.0012534740067867533],[\"North America\",0.001499246008418711],[\"North America\",0.0016338947643509422],[\"North America\",0.00195422712249727],[\"North America\",0.0029948993130712565],[\"North America\",0.005127264671836287],[\"North America\",0.008111709633974786],[\"North America\",0.011269504010995352],[\"North America\",0.014423124174659897],[\"North America\",0.018459654533837293],[\"North America\",0.02442617164527591],[\"North America\",0.032133206302409144],[\"North America\",0.04013265448089126],[\"North America\",0.047164205656932155],[\"North America\",0.05442541934381352],[\"North America\",0.06915439415420176],[\"North America\",0.1068179369612909],[\"North America\",0.1824029971475104],[\"North America\",0.28790685480153383],[\"North America\",0.3788806872443198],[\"North America\",0.4],[\"North America\",0.33458643563197094],[\"North America\",0.2208750453145938],[\"North America\",0.11493171644728978],[\"North America\",0.04712140320238307],[\"North America\",0.015220440005548683],[\"North America\",0.0038730160812445293],[\"North America\",0.0007763879370656176],[\"North America\",0.00012260657911388492],[\"North America\",1.5252943952442473e-05],[\"North America\",1.4948522649435048e-06]],[[\"Europe\",-1.479421420621275e-06],[\"Europe\",-2.6202745540755224e-05],[\"Europe\",-0.00031898413035628124],[\"Europe\",-0.00266909166518638],[\"Europe\",-0.015351246737458283],[\"Europe\",-0.0606948850800222],[\"Europe\",-0.16501857232939604],[\"Europe\",-0.30889626549638943],[\"Europe\",-0.4],[\"Europe\",-0.36544382623043825],[\"Europe\",-0.2550081659854436],[\"Europe\",-0.1726720459774299],[\"Europe\",-0.14880885941258062],[\"Europe\",-0.14444308083792493],[\"Europe\",-0.131091604876954],[\"Europe\",-0.11624912441207472],[\"Europe\",-0.11095007334102854],[\"Europe\",-0.1077736517546883],[\"Europe\",-0.09457262429175912],[\"Europe\",-0.07111213990749245],[\"Europe\",-0.04654393745336934],[\"Europe\",-0.02894924768545716],[\"Europe\",-0.019732135249264635],[\"Europe\",-0.015479222023861941],[\"Europe\",-0.013207553361134895],[\"Europe\",-0.01306545126850933],[\"Europe\",-0.016176160239897534],[\"Europe\",-0.02136499712372885],[\"Europe\",-0.026709183574783385],[\"Europe\",-0.03235482670317506],[\"Europe\",-0.037201181602687115],[\"Europe\",-0.03686455613070679],[\"Europe\",-0.0300968557354976],[\"Europe\",-0.02159965898994827],[\"Europe\",-0.015295628087867616],[\"Europe\",-0.010888638169447696],[\"Europe\",-0.007709833602915276],[\"Europe\",-0.006295896283073555],[\"Europe\",-0.006630524052406901],[\"Europe\",-0.008595043318817957],[\"Europe\",-0.012648537598687358],[\"Europe\",-0.01725033451076288],[\"Europe\",-0.018184049085517563],[\"Europe\",-0.013689892628720996],[\"Europe\",-0.007188546453597167],[\"Europe\",-0.002688472647644603],[\"Europe\",-0.0010179358843884713],[\"Europe\",-0.0011406610605762654],[\"Europe\",-0.0019830812827904636],[\"Europe\",-0.002592671631095264],[\"Europe\",-0.0023435355569319974],[\"Europe\",-0.0014565247351410633],[\"Europe\",-0.0006222391512453247],[\"Europe\",-0.0001831441325025563],[\"Europe\",-4.150073809921273e-05],[\"Europe\",-3.775628828165525e-05],[\"Europe\",-0.00015972842220530879],[\"Europe\",-0.0005459388228363334],[\"Europe\",-0.0013738371861436085],[\"Europe\",-0.0028077381706389654],[\"Europe\",-0.005315693195511585],[\"Europe\",-0.00946423926030226],[\"Europe\",-0.014022912044416462],[\"Europe\",-0.015559315773362503],[\"Europe\",-0.012593059125824237],[\"Europe\",-0.008117161177230273],[\"Europe\",-0.005602214591475156],[\"Europe\",-0.005322906171640327],[\"Europe\",-0.006028072926978033],[\"Europe\",-0.0073555740600908335],[\"Europe\",-0.008909883414276691],[\"Europe\",-0.009040417631679508],[\"Europe\",-0.006805020633345509],[\"Europe\",-0.0036151576470820645],[\"Europe\",-0.0013332218842988233],[\"Europe\",-0.0003395602642351633],[\"Europe\",-5.9631107418684386e-05],[\"Europe\",-7.217293400953846e-06],[\"Europe\",-6.126826449092493e-07],[\"Europe\",-1.8319835069069242e-07],[\"Europe\",-1.393378421995906e-06],[\"Europe\",-8.96086258595865e-06],[\"Europe\",-3.9648070840885245e-05],[\"Europe\",-0.00012058719216037443],[\"Europe\",-0.0002522662202057394],[\"Europe\",-0.0003646992050170028],[\"Europe\",-0.0003769501962348662],[\"Europe\",-0.00034129778862964874],[\"Europe\",-0.00045756705735234236],[\"Europe\",-0.0008626357382804875],[\"Europe\",-0.0013708776257788699],[\"Europe\",-0.0015461752379284362],[\"Europe\",-0.001203892209344159],[\"Europe\",-0.0006446661342948068],[\"Europe\",-0.00023728982370543503],[\"Europe\",-6.003310185232669e-05],[\"Europe\",-1.0439168592101083e-05],[\"Europe\",-1.2476821709771574e-06],[\"Europe\",-1.0249552068332226e-07],[\"Europe\",-5.787202147412065e-09],[\"Europe\",5.787202147412065e-09],[\"Europe\",1.0249552068332226e-07],[\"Europe\",1.2476821709771574e-06],[\"Europe\",1.0439168592101083e-05],[\"Europe\",6.003310185232669e-05],[\"Europe\",0.00023728982370543503],[\"Europe\",0.0006446661342948068],[\"Europe\",0.001203892209344159],[\"Europe\",0.0015461752379284362],[\"Europe\",0.0013708776257788699],[\"Europe\",0.0008626357382804875],[\"Europe\",0.00045756705735234236],[\"Europe\",0.00034129778862964874],[\"Europe\",0.0003769501962348662],[\"Europe\",0.0003646992050170028],[\"Europe\",0.0002522662202057394],[\"Europe\",0.00012058719216037443],[\"Europe\",3.9648070840885245e-05],[\"Europe\",8.96086258595865e-06],[\"Europe\",1.393378421995906e-06],[\"Europe\",1.8319835069069242e-07],[\"Europe\",6.126826449092493e-07],[\"Europe\",7.217293400953846e-06],[\"Europe\",5.9631107418684386e-05],[\"Europe\",0.0003395602642351633],[\"Europe\",0.0013332218842988233],[\"Europe\",0.0036151576470820645],[\"Europe\",0.006805020633345509],[\"Europe\",0.009040417631679508],[\"Europe\",0.008909883414276691],[\"Europe\",0.0073555740600908335],[\"Europe\",0.006028072926978033],[\"Europe\",0.005322906171640327],[\"Europe\",0.005602214591475156],[\"Europe\",0.008117161177230273],[\"Europe\",0.012593059125824237],[\"Europe\",0.015559315773362503],[\"Europe\",0.014022912044416462],[\"Europe\",0.00946423926030226],[\"Europe\",0.005315693195511585],[\"Europe\",0.0028077381706389654],[\"Europe\",0.0013738371861436085],[\"Europe\",0.0005459388228363334],[\"Europe\",0.00015972842220530879],[\"Europe\",3.775628828165525e-05],[\"Europe\",4.150073809921273e-05],[\"Europe\",0.0001831441325025563],[\"Europe\",0.0006222391512453247],[\"Europe\",0.0014565247351410633],[\"Europe\",0.0023435355569319974],[\"Europe\",0.002592671631095264],[\"Europe\",0.0019830812827904636],[\"Europe\",0.0011406610605762654],[\"Europe\",0.0010179358843884713],[\"Europe\",0.002688472647644603],[\"Europe\",0.007188546453597167],[\"Europe\",0.013689892628720996],[\"Europe\",0.018184049085517563],[\"Europe\",0.01725033451076288],[\"Europe\",0.012648537598687358],[\"Europe\",0.008595043318817957],[\"Europe\",0.006630524052406901],[\"Europe\",0.006295896283073555],[\"Europe\",0.007709833602915276],[\"Europe\",0.010888638169447696],[\"Europe\",0.015295628087867616],[\"Europe\",0.02159965898994827],[\"Europe\",0.0300968557354976],[\"Europe\",0.03686455613070679],[\"Europe\",0.037201181602687115],[\"Europe\",0.03235482670317506],[\"Europe\",0.026709183574783385],[\"Europe\",0.02136499712372885],[\"Europe\",0.016176160239897534],[\"Europe\",0.01306545126850933],[\"Europe\",0.013207553361134895],[\"Europe\",0.015479222023861941],[\"Europe\",0.019732135249264635],[\"Europe\",0.02894924768545716],[\"Europe\",0.04654393745336934],[\"Europe\",0.07111213990749245],[\"Europe\",0.09457262429175912],[\"Europe\",0.1077736517546883],[\"Europe\",0.11095007334102854],[\"Europe\",0.11624912441207472],[\"Europe\",0.131091604876954],[\"Europe\",0.14444308083792493],[\"Europe\",0.14880885941258062],[\"Europe\",0.1726720459774299],[\"Europe\",0.2550081659854436],[\"Europe\",0.36544382623043825],[\"Europe\",0.4],[\"Europe\",0.30889626549638943],[\"Europe\",0.16501857232939604],[\"Europe\",0.0606948850800222],[\"Europe\",0.015351246737458283],[\"Europe\",0.00266909166518638],[\"Europe\",0.00031898413035628124],[\"Europe\",2.6202745540755224e-05],[\"Europe\",1.479421420621275e-06]]]]]}}},\"view\":{\"type\":\"object\",\"name\":\"CDSView\",\"id\":\"cf92e116-afd8-4aba-8bd7-e83af08fde99\",\"attributes\":{\"filter\":{\"type\":\"object\",\"name\":\"AllIndices\",\"id\":\"27485944-7a05-4537-9c97-cbc0756c4ad9\"}}},\"glyph\":{\"type\":\"object\",\"name\":\"Patches\",\"id\":\"bf4b5b84-6e35-495e-bcbd-944d70fc5dd7\",\"attributes\":{\"xs\":{\"type\":\"field\",\"field\":\"xs\"},\"ys\":{\"type\":\"field\",\"field\":\"ys\"},\"line_color\":{\"type\":\"value\",\"value\":\"#1f77b4\"},\"line_width\":{\"type\":\"value\",\"value\":0},\"fill_color\":{\"type\":\"field\",\"field\":\"VIN (1-10)\"},\"fill_alpha\":{\"type\":\"value\",\"value\":0.5}}},\"selection_glyph\":{\"type\":\"object\",\"name\":\"Patches\",\"id\":\"cd8d40f8-5deb-4b85-97a8-da09be428fec\",\"attributes\":{\"xs\":{\"type\":\"field\",\"field\":\"xs\"},\"ys\":{\"type\":\"field\",\"field\":\"ys\"},\"line_color\":{\"type\":\"value\",\"value\":\"#1f77b4\"},\"line_alpha\":{\"type\":\"value\",\"value\":1.0},\"line_width\":{\"type\":\"value\",\"value\":0},\"line_join\":{\"type\":\"value\",\"value\":\"bevel\"},\"line_cap\":{\"type\":\"value\",\"value\":\"butt\"},\"line_dash\":{\"type\":\"value\",\"value\":[]},\"line_dash_offset\":{\"type\":\"value\",\"value\":0},\"fill_color\":{\"type\":\"field\",\"field\":\"VIN (1-10)\"},\"fill_alpha\":{\"type\":\"value\",\"value\":0.5},\"hatch_color\":{\"type\":\"value\",\"value\":\"black\"},\"hatch_alpha\":{\"type\":\"value\",\"value\":1.0},\"hatch_scale\":{\"type\":\"value\",\"value\":12.0},\"hatch_pattern\":{\"type\":\"value\",\"value\":null},\"hatch_weight\":{\"type\":\"value\",\"value\":1.0}}},\"nonselection_glyph\":{\"type\":\"object\",\"name\":\"Patches\",\"id\":\"942747ab-d2a5-406c-987c-a52c3bac62e5\",\"attributes\":{\"xs\":{\"type\":\"field\",\"field\":\"xs\"},\"ys\":{\"type\":\"field\",\"field\":\"ys\"},\"line_color\":{\"type\":\"value\",\"value\":\"#1f77b4\"},\"line_alpha\":{\"type\":\"value\",\"value\":0.1},\"line_width\":{\"type\":\"value\",\"value\":0},\"fill_color\":{\"type\":\"field\",\"field\":\"VIN (1-10)\"},\"fill_alpha\":{\"type\":\"value\",\"value\":0.5},\"hatch_alpha\":{\"type\":\"value\",\"value\":0.1}}},\"muted_glyph\":{\"type\":\"object\",\"name\":\"Patches\",\"id\":\"711b7c91-7dd0-48f0-9f28-2d8046a20a80\",\"attributes\":{\"xs\":{\"type\":\"field\",\"field\":\"xs\"},\"ys\":{\"type\":\"field\",\"field\":\"ys\"},\"line_color\":{\"type\":\"value\",\"value\":\"#1f77b4\"},\"line_alpha\":{\"type\":\"value\",\"value\":0.2},\"line_width\":{\"type\":\"value\",\"value\":0},\"fill_color\":{\"type\":\"field\",\"field\":\"VIN (1-10)\"},\"fill_alpha\":{\"type\":\"value\",\"value\":0.5},\"hatch_alpha\":{\"type\":\"value\",\"value\":0.2}}}}},{\"type\":\"object\",\"name\":\"GlyphRenderer\",\"id\":\"32780183-240a-44a3-9be8-5879b922442c\",\"attributes\":{\"data_source\":{\"type\":\"object\",\"name\":\"ColumnDataSource\",\"id\":\"83876918-8a3a-4a35-9791-96e3e1d10c2c\",\"attributes\":{\"selected\":{\"type\":\"object\",\"name\":\"Selection\",\"id\":\"b95b605c-18b1-44b1-9f8b-3866bc9bec04\",\"attributes\":{\"indices\":[],\"line_indices\":[]}},\"selection_policy\":{\"type\":\"object\",\"name\":\"UnionRenderers\",\"id\":\"92bb8d5a-a83d-4df2-bcc3-75805fe0d903\"},\"data\":{\"type\":\"map\",\"entries\":[[\"ys\",[{\"type\":\"ndarray\",\"array\":{\"type\":\"bytes\",\"data\":\"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\"},\"shape\":[200],\"dtype\":\"float64\",\"order\":\"little\"},{\"type\":\"ndarray\",\"array\":{\"type\":\"bytes\",\"data\":\"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\"},\"shape\":[200],\"dtype\":\"float64\",\"order\":\"little\"},{\"type\":\"ndarray\",\"array\":{\"type\":\"bytes\",\"data\":\"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\"},\"shape\":[200],\"dtype\":\"float64\",\"order\":\"little\"}]],[\"xs\",[[[\"Asia\",-1.4713331022547788e-06],[\"Asia\",-1.9143104372818334e-05],[\"Asia\",-0.00018556539515072885],[\"Asia\",-0.00134026036080614],[\"Asia\",-0.007213251221339619],[\"Asia\",-0.028933149085977057],[\"Asia\",-0.0865186375902061],[\"Asia\",-0.19297097860501458],[\"Asia\",-0.3213082295949219],[\"Asia\",-0.4],[\"Asia\",-0.3733387149069834],[\"Asia\",-0.2627886062292367],[\"Asia\",-0.1422789848431577],[\"Asia\",-0.06596791129843109],[\"Asia\",-0.04197607100420745],[\"Asia\",-0.05462931325167167],[\"Asia\",-0.08433651840567252],[\"Asia\",-0.11298812538778838],[\"Asia\",-0.12972170983445364],[\"Asia\",-0.13541921723540692],[\"Asia\",-0.13653524016181498],[\"Asia\",-0.13460753233975248],[\"Asia\",-0.12415510012846614],[\"Asia\",-0.10066866696531092],[\"Asia\",-0.06844663442763542],[\"Asia\",-0.03808369049047769],[\"Asia\",-0.017388108547877753],[\"Asia\",-0.007286335867597942],[\"Asia\",-0.005183080264660585],[\"Asia\",-0.009475433584399198],[\"Asia\",-0.020148983179545055],[\"Asia\",-0.0356863488426407],[\"Asia\",-0.05142414888352009],[\"Asia\",-0.0630135209153296],[\"Asia\",-0.06933449133264248],[\"Asia\",-0.06945881951278148],[\"Asia\",-0.061158648234597913],[\"Asia\",-0.04573734625814315],[\"Asia\",-0.029466301587959196],[\"Asia\",-0.018099148607648052],[\"Asia\",-0.013283973209560197],[\"Asia\",-0.013465169800156655],[\"Asia\",-0.01522540261790025],[\"Asia\",-0.014996514335632006],[\"Asia\",-0.011654649056867347],[\"Asia\",-0.007016378667181422],[\"Asia\",-0.003392225924600885],[\"Asia\",-0.0015150593601081196],[\"Asia\",-0.0007963107333480498],[\"Asia\",-0.0005193348535358354],[\"Asia\",-0.0004699849793118054],[\"Asia\",-0.0010880663941216344],[\"Asia\",-0.003736170100613949],[\"Asia\",-0.01065398091398107],[\"Asia\",-0.02295632450684749],[\"Asia\",-0.03703193522819895],[\"Asia\",-0.044684612150649006],[\"Asia\",-0.040336819292234816],[\"Asia\",-0.027284851590063098],[\"Asia\",-0.013974034431637925],[\"Asia\",-0.005747512842708],[\"Asia\",-0.002431269158071707],[\"Asia\",-0.0015389876895834066],[\"Asia\",-0.001210765817406279],[\"Asia\",-0.0008230001841791688],[\"Asia\",-0.0004286351817270823],[\"Asia\",-0.00016711447790376758],[\"Asia\",-4.858895334617421e-05],[\"Asia\",-1.067156256818524e-05],[\"Asia\",-3.2147038364451555e-06],[\"Asia\",-1.1621560982283748e-05],[\"Asia\",-6.40378939949282e-05],[\"Asia\",-0.0002674289127582239],[\"Asia\",-0.000832242926996107],[\"Asia\",-0.0019295033456872201],[\"Asia\",-0.0033327679363972644],[\"Asia\",-0.00428983603771789],[\"Asia\",-0.004124464285329107],[\"Asia\",-0.0030244045681554997],[\"Asia\",-0.0019902948917503633],[\"Asia\",-0.0021611742912913665],[\"Asia\",-0.0043186661833875505],[\"Asia\",-0.008304274949210187],[\"Asia\",-0.012311431826659171],[\"Asia\",-0.013668821656890318],[\"Asia\",-0.011399556690769938],[\"Asia\",-0.007396254975188182],[\"Asia\",-0.004391228671651493],[\"Asia\",-0.0034590814491210725],[\"Asia\",-0.003739787769271872],[\"Asia\",-0.003818463593366255],[\"Asia\",-0.003058303359032627],[\"Asia\",-0.0018420598041737205],[\"Asia\",-0.0008279312233970001],[\"Asia\",-0.0002773066136542833],[\"Asia\",-6.919875064684382e-05],[\"Asia\",-1.2864423001328498e-05],[\"Asia\",-1.7816945818103403e-06],[\"Asia\",-1.8383430084627335e-07],[\"Asia\",-1.4130908415244757e-08],[\"Asia\",1.4130908415244757e-08],[\"Asia\",1.8383430084627335e-07],[\"Asia\",1.7816945818103403e-06],[\"Asia\",1.2864423001328498e-05],[\"Asia\",6.919875064684382e-05],[\"Asia\",0.0002773066136542833],[\"Asia\",0.0008279312233970001],[\"Asia\",0.0018420598041737205],[\"Asia\",0.003058303359032627],[\"Asia\",0.003818463593366255],[\"Asia\",0.003739787769271872],[\"Asia\",0.0034590814491210725],[\"Asia\",0.004391228671651493],[\"Asia\",0.007396254975188182],[\"Asia\",0.011399556690769938],[\"Asia\",0.013668821656890318],[\"Asia\",0.012311431826659171],[\"Asia\",0.008304274949210187],[\"Asia\",0.0043186661833875505],[\"Asia\",0.0021611742912913665],[\"Asia\",0.0019902948917503633],[\"Asia\",0.0030244045681554997],[\"Asia\",0.004124464285329107],[\"Asia\",0.00428983603771789],[\"Asia\",0.0033327679363972644],[\"Asia\",0.0019295033456872201],[\"Asia\",0.000832242926996107],[\"Asia\",0.0002674289127582239],[\"Asia\",6.40378939949282e-05],[\"Asia\",1.1621560982283748e-05],[\"Asia\",3.2147038364451555e-06],[\"Asia\",1.067156256818524e-05],[\"Asia\",4.858895334617421e-05],[\"Asia\",0.00016711447790376758],[\"Asia\",0.0004286351817270823],[\"Asia\",0.0008230001841791688],[\"Asia\",0.001210765817406279],[\"Asia\",0.0015389876895834066],[\"Asia\",0.002431269158071707],[\"Asia\",0.005747512842708],[\"Asia\",0.013974034431637925],[\"Asia\",0.027284851590063098],[\"Asia\",0.040336819292234816],[\"Asia\",0.044684612150649006],[\"Asia\",0.03703193522819895],[\"Asia\",0.02295632450684749],[\"Asia\",0.01065398091398107],[\"Asia\",0.003736170100613949],[\"Asia\",0.0010880663941216344],[\"Asia\",0.0004699849793118054],[\"Asia\",0.0005193348535358354],[\"Asia\",0.0007963107333480498],[\"Asia\",0.0015150593601081196],[\"Asia\",0.003392225924600885],[\"Asia\",0.007016378667181422],[\"Asia\",0.011654649056867347],[\"Asia\",0.014996514335632006],[\"Asia\",0.01522540261790025],[\"Asia\",0.013465169800156655],[\"Asia\",0.013283973209560197],[\"Asia\",0.018099148607648052],[\"Asia\",0.029466301587959196],[\"Asia\",0.04573734625814315],[\"Asia\",0.061158648234597913],[\"Asia\",0.06945881951278148],[\"Asia\",0.06933449133264248],[\"Asia\",0.0630135209153296],[\"Asia\",0.05142414888352009],[\"Asia\",0.0356863488426407],[\"Asia\",0.020148983179545055],[\"Asia\",0.009475433584399198],[\"Asia\",0.005183080264660585],[\"Asia\",0.007286335867597942],[\"Asia\",0.017388108547877753],[\"Asia\",0.03808369049047769],[\"Asia\",0.06844663442763542],[\"Asia\",0.10066866696531092],[\"Asia\",0.12415510012846614],[\"Asia\",0.13460753233975248],[\"Asia\",0.13653524016181498],[\"Asia\",0.13541921723540692],[\"Asia\",0.12972170983445364],[\"Asia\",0.11298812538778838],[\"Asia\",0.08433651840567252],[\"Asia\",0.05462931325167167],[\"Asia\",0.04197607100420745],[\"Asia\",0.06596791129843109],[\"Asia\",0.1422789848431577],[\"Asia\",0.2627886062292367],[\"Asia\",0.3733387149069834],[\"Asia\",0.4],[\"Asia\",0.3213082295949219],[\"Asia\",0.19297097860501458],[\"Asia\",0.0865186375902061],[\"Asia\",0.028933149085977057],[\"Asia\",0.007213251221339619],[\"Asia\",0.00134026036080614],[\"Asia\",0.00018556539515072885],[\"Asia\",1.9143104372818334e-05],[\"Asia\",1.4713331022547788e-06]],[[\"North America\",-1.4948522649435048e-06],[\"North America\",-1.5252943952442473e-05],[\"North America\",-0.00012260657911388492],[\"North America\",-0.0007763879370656176],[\"North America\",-0.0038730160812445293],[\"North America\",-0.015220440005548683],[\"North America\",-0.04712140320238307],[\"North America\",-0.11493171644728978],[\"North America\",-0.2208750453145938],[\"North America\",-0.33458643563197094],[\"North America\",-0.4],[\"North America\",-0.3788806872443198],[\"North America\",-0.28790685480153383],[\"North America\",-0.1824029971475104],[\"North America\",-0.1068179369612909],[\"North America\",-0.06915439415420176],[\"North America\",-0.05442541934381352],[\"North America\",-0.047164205656932155],[\"North America\",-0.04013265448089126],[\"North America\",-0.032133206302409144],[\"North America\",-0.02442617164527591],[\"North America\",-0.018459654533837293],[\"North America\",-0.014423124174659897],[\"North America\",-0.011269504010995352],[\"North America\",-0.008111709633974786],[\"North America\",-0.005127264671836287],[\"North America\",-0.0029948993130712565],[\"North America\",-0.00195422712249727],[\"North America\",-0.0016338947643509422],[\"North America\",-0.001499246008418711],[\"North America\",-0.0012534740067867533],[\"North America\",-0.0008994649508277303],[\"North America\",-0.0005683834822511749],[\"North America\",-0.000342713801444509],[\"North America\",-0.00021214987386882416],[\"North America\",-0.0001315143089058974],[\"North America\",-7.413398529760779e-05],[\"North America\",-3.512594454071773e-05],[\"North America\",-1.3450256319924844e-05],[\"North America\",-4.096121091485879e-06],[\"North America\",-9.861316811613007e-07],[\"North America\",-1.8726414435328267e-07],[\"North America\",-2.8027289289617396e-08],[\"North America\",-3.305679520552084e-09],[\"North America\",-3.2090622138513575e-10],[\"North America\",-2.860279366822648e-10],[\"North America\",-3.9591281348927046e-09],[\"North America\",-4.694004026137243e-08],[\"North America\",-4.4034373881169483e-07],[\"North America\",-3.2754931837414157e-06],[\"North America\",-1.9396308835726607e-05],[\"North America\",-9.201258035171212e-05],[\"North America\",-0.00035307677224601835],[\"North America\",-0.0011116009280691312],[\"North America\",-0.002926325030901334],[\"North America\",-0.006582739182880443],[\"North America\",-0.012896593117853478],[\"North America\",-0.022222714021498946],[\"North America\",-0.033606256070154286],[\"North America\",-0.044128188203833824],[\"North America\",-0.04972043301193424],[\"North America\",-0.047863882664586015],[\"North America\",-0.04006658930125558],[\"North America\",-0.03111872993954808],[\"North America\",-0.025192259827125276],[\"North America\",-0.02271073766680478],[\"North America\",-0.021252824304656623],[\"North America\",-0.018947616616908664],[\"North America\",-0.016195626711120303],[\"North America\",-0.014359137129290062],[\"North America\",-0.013802095407808457],[\"North America\",-0.013556204010009041],[\"North America\",-0.01246526810817026],[\"North America\",-0.010390632552779321],[\"North America\",-0.00843913375020406],[\"North America\",-0.008076375960216372],[\"North America\",-0.009774676401840496],[\"North America\",-0.012313512936241992],[\"North America\",-0.01359539003558878],[\"North America\",-0.012464084445114418],[\"North America\",-0.009675766004420671],[\"North America\",-0.007014864716858799],[\"North America\",-0.005759275402887366],[\"North America\",-0.006046067437161244],[\"North America\",-0.007135093205127916],[\"North America\",-0.007927991998112458],[\"North America\",-0.007599071047345034],[\"North America\",-0.00611329328732298],[\"North America\",-0.004126522997068149],[\"North America\",-0.002365559116799417],[\"North America\",-0.0011694055415518742],[\"North America\",-0.000503543954631876],[\"North America\",-0.0001886602825303833],[\"North America\",-6.076854773240326e-05],[\"North America\",-1.6532680344564123e-05],[\"North America\",-3.7320796563578427e-06],[\"North America\",-6.887674310589294e-07],[\"North America\",-1.0276871146578284e-07],[\"North America\",-1.2298140164144962e-08],[\"North America\",-1.1737453218201645e-09],[\"North America\",1.1737453218201645e-09],[\"North America\",1.2298140164144962e-08],[\"North America\",1.0276871146578284e-07],[\"North America\",6.887674310589294e-07],[\"North America\",3.7320796563578427e-06],[\"North America\",1.6532680344564123e-05],[\"North America\",6.076854773240326e-05],[\"North America\",0.0001886602825303833],[\"North America\",0.000503543954631876],[\"North America\",0.0011694055415518742],[\"North America\",0.002365559116799417],[\"North America\",0.004126522997068149],[\"North America\",0.00611329328732298],[\"North America\",0.007599071047345034],[\"North America\",0.007927991998112458],[\"North America\",0.007135093205127916],[\"North America\",0.006046067437161244],[\"North America\",0.005759275402887366],[\"North America\",0.007014864716858799],[\"North America\",0.009675766004420671],[\"North America\",0.012464084445114418],[\"North America\",0.01359539003558878],[\"North America\",0.012313512936241992],[\"North America\",0.009774676401840496],[\"North America\",0.008076375960216372],[\"North America\",0.00843913375020406],[\"North America\",0.010390632552779321],[\"North America\",0.01246526810817026],[\"North America\",0.013556204010009041],[\"North America\",0.013802095407808457],[\"North America\",0.014359137129290062],[\"North America\",0.016195626711120303],[\"North America\",0.018947616616908664],[\"North America\",0.021252824304656623],[\"North America\",0.02271073766680478],[\"North America\",0.025192259827125276],[\"North America\",0.03111872993954808],[\"North America\",0.04006658930125558],[\"North America\",0.047863882664586015],[\"North America\",0.04972043301193424],[\"North America\",0.044128188203833824],[\"North America\",0.033606256070154286],[\"North America\",0.022222714021498946],[\"North America\",0.012896593117853478],[\"North America\",0.006582739182880443],[\"North America\",0.002926325030901334],[\"North America\",0.0011116009280691312],[\"North America\",0.00035307677224601835],[\"North America\",9.201258035171212e-05],[\"North America\",1.9396308835726607e-05],[\"North America\",3.2754931837414157e-06],[\"North America\",4.4034373881169483e-07],[\"North America\",4.694004026137243e-08],[\"North America\",3.9591281348927046e-09],[\"North America\",2.860279366822648e-10],[\"North America\",3.2090622138513575e-10],[\"North America\",3.305679520552084e-09],[\"North America\",2.8027289289617396e-08],[\"North America\",1.8726414435328267e-07],[\"North America\",9.861316811613007e-07],[\"North America\",4.096121091485879e-06],[\"North America\",1.3450256319924844e-05],[\"North America\",3.512594454071773e-05],[\"North America\",7.413398529760779e-05],[\"North America\",0.0001315143089058974],[\"North America\",0.00021214987386882416],[\"North America\",0.000342713801444509],[\"North America\",0.0005683834822511749],[\"North America\",0.0008994649508277303],[\"North America\",0.0012534740067867533],[\"North America\",0.001499246008418711],[\"North America\",0.0016338947643509422],[\"North America\",0.00195422712249727],[\"North America\",0.0029948993130712565],[\"North America\",0.005127264671836287],[\"North America\",0.008111709633974786],[\"North America\",0.011269504010995352],[\"North America\",0.014423124174659897],[\"North America\",0.018459654533837293],[\"North America\",0.02442617164527591],[\"North America\",0.032133206302409144],[\"North America\",0.04013265448089126],[\"North America\",0.047164205656932155],[\"North America\",0.05442541934381352],[\"North America\",0.06915439415420176],[\"North America\",0.1068179369612909],[\"North America\",0.1824029971475104],[\"North America\",0.28790685480153383],[\"North America\",0.3788806872443198],[\"North America\",0.4],[\"North America\",0.33458643563197094],[\"North America\",0.2208750453145938],[\"North America\",0.11493171644728978],[\"North America\",0.04712140320238307],[\"North America\",0.015220440005548683],[\"North America\",0.0038730160812445293],[\"North America\",0.0007763879370656176],[\"North America\",0.00012260657911388492],[\"North America\",1.5252943952442473e-05],[\"North America\",1.4948522649435048e-06]],[[\"Europe\",-1.479421420621275e-06],[\"Europe\",-2.6202745540755224e-05],[\"Europe\",-0.00031898413035628124],[\"Europe\",-0.00266909166518638],[\"Europe\",-0.015351246737458283],[\"Europe\",-0.0606948850800222],[\"Europe\",-0.16501857232939604],[\"Europe\",-0.30889626549638943],[\"Europe\",-0.4],[\"Europe\",-0.36544382623043825],[\"Europe\",-0.2550081659854436],[\"Europe\",-0.1726720459774299],[\"Europe\",-0.14880885941258062],[\"Europe\",-0.14444308083792493],[\"Europe\",-0.131091604876954],[\"Europe\",-0.11624912441207472],[\"Europe\",-0.11095007334102854],[\"Europe\",-0.1077736517546883],[\"Europe\",-0.09457262429175912],[\"Europe\",-0.07111213990749245],[\"Europe\",-0.04654393745336934],[\"Europe\",-0.02894924768545716],[\"Europe\",-0.019732135249264635],[\"Europe\",-0.015479222023861941],[\"Europe\",-0.013207553361134895],[\"Europe\",-0.01306545126850933],[\"Europe\",-0.016176160239897534],[\"Europe\",-0.02136499712372885],[\"Europe\",-0.026709183574783385],[\"Europe\",-0.03235482670317506],[\"Europe\",-0.037201181602687115],[\"Europe\",-0.03686455613070679],[\"Europe\",-0.0300968557354976],[\"Europe\",-0.02159965898994827],[\"Europe\",-0.015295628087867616],[\"Europe\",-0.010888638169447696],[\"Europe\",-0.007709833602915276],[\"Europe\",-0.006295896283073555],[\"Europe\",-0.006630524052406901],[\"Europe\",-0.008595043318817957],[\"Europe\",-0.012648537598687358],[\"Europe\",-0.01725033451076288],[\"Europe\",-0.018184049085517563],[\"Europe\",-0.013689892628720996],[\"Europe\",-0.007188546453597167],[\"Europe\",-0.002688472647644603],[\"Europe\",-0.0010179358843884713],[\"Europe\",-0.0011406610605762654],[\"Europe\",-0.0019830812827904636],[\"Europe\",-0.002592671631095264],[\"Europe\",-0.0023435355569319974],[\"Europe\",-0.0014565247351410633],[\"Europe\",-0.0006222391512453247],[\"Europe\",-0.0001831441325025563],[\"Europe\",-4.150073809921273e-05],[\"Europe\",-3.775628828165525e-05],[\"Europe\",-0.00015972842220530879],[\"Europe\",-0.0005459388228363334],[\"Europe\",-0.0013738371861436085],[\"Europe\",-0.0028077381706389654],[\"Europe\",-0.005315693195511585],[\"Europe\",-0.00946423926030226],[\"Europe\",-0.014022912044416462],[\"Europe\",-0.015559315773362503],[\"Europe\",-0.012593059125824237],[\"Europe\",-0.008117161177230273],[\"Europe\",-0.005602214591475156],[\"Europe\",-0.005322906171640327],[\"Europe\",-0.006028072926978033],[\"Europe\",-0.0073555740600908335],[\"Europe\",-0.008909883414276691],[\"Europe\",-0.009040417631679508],[\"Europe\",-0.006805020633345509],[\"Europe\",-0.0036151576470820645],[\"Europe\",-0.0013332218842988233],[\"Europe\",-0.0003395602642351633],[\"Europe\",-5.9631107418684386e-05],[\"Europe\",-7.217293400953846e-06],[\"Europe\",-6.126826449092493e-07],[\"Europe\",-1.8319835069069242e-07],[\"Europe\",-1.393378421995906e-06],[\"Europe\",-8.96086258595865e-06],[\"Europe\",-3.9648070840885245e-05],[\"Europe\",-0.00012058719216037443],[\"Europe\",-0.0002522662202057394],[\"Europe\",-0.0003646992050170028],[\"Europe\",-0.0003769501962348662],[\"Europe\",-0.00034129778862964874],[\"Europe\",-0.00045756705735234236],[\"Europe\",-0.0008626357382804875],[\"Europe\",-0.0013708776257788699],[\"Europe\",-0.0015461752379284362],[\"Europe\",-0.001203892209344159],[\"Europe\",-0.0006446661342948068],[\"Europe\",-0.00023728982370543503],[\"Europe\",-6.003310185232669e-05],[\"Europe\",-1.0439168592101083e-05],[\"Europe\",-1.2476821709771574e-06],[\"Europe\",-1.0249552068332226e-07],[\"Europe\",-5.787202147412065e-09],[\"Europe\",5.787202147412065e-09],[\"Europe\",1.0249552068332226e-07],[\"Europe\",1.2476821709771574e-06],[\"Europe\",1.0439168592101083e-05],[\"Europe\",6.003310185232669e-05],[\"Europe\",0.00023728982370543503],[\"Europe\",0.0006446661342948068],[\"Europe\",0.001203892209344159],[\"Europe\",0.0015461752379284362],[\"Europe\",0.0013708776257788699],[\"Europe\",0.0008626357382804875],[\"Europe\",0.00045756705735234236],[\"Europe\",0.00034129778862964874],[\"Europe\",0.0003769501962348662],[\"Europe\",0.0003646992050170028],[\"Europe\",0.0002522662202057394],[\"Europe\",0.00012058719216037443],[\"Europe\",3.9648070840885245e-05],[\"Europe\",8.96086258595865e-06],[\"Europe\",1.393378421995906e-06],[\"Europe\",1.8319835069069242e-07],[\"Europe\",6.126826449092493e-07],[\"Europe\",7.217293400953846e-06],[\"Europe\",5.9631107418684386e-05],[\"Europe\",0.0003395602642351633],[\"Europe\",0.0013332218842988233],[\"Europe\",0.0036151576470820645],[\"Europe\",0.006805020633345509],[\"Europe\",0.009040417631679508],[\"Europe\",0.008909883414276691],[\"Europe\",0.0073555740600908335],[\"Europe\",0.006028072926978033],[\"Europe\",0.005322906171640327],[\"Europe\",0.005602214591475156],[\"Europe\",0.008117161177230273],[\"Europe\",0.012593059125824237],[\"Europe\",0.015559315773362503],[\"Europe\",0.014022912044416462],[\"Europe\",0.00946423926030226],[\"Europe\",0.005315693195511585],[\"Europe\",0.0028077381706389654],[\"Europe\",0.0013738371861436085],[\"Europe\",0.0005459388228363334],[\"Europe\",0.00015972842220530879],[\"Europe\",3.775628828165525e-05],[\"Europe\",4.150073809921273e-05],[\"Europe\",0.0001831441325025563],[\"Europe\",0.0006222391512453247],[\"Europe\",0.0014565247351410633],[\"Europe\",0.0023435355569319974],[\"Europe\",0.002592671631095264],[\"Europe\",0.0019830812827904636],[\"Europe\",0.0011406610605762654],[\"Europe\",0.0010179358843884713],[\"Europe\",0.002688472647644603],[\"Europe\",0.007188546453597167],[\"Europe\",0.013689892628720996],[\"Europe\",0.018184049085517563],[\"Europe\",0.01725033451076288],[\"Europe\",0.012648537598687358],[\"Europe\",0.008595043318817957],[\"Europe\",0.006630524052406901],[\"Europe\",0.006295896283073555],[\"Europe\",0.007709833602915276],[\"Europe\",0.010888638169447696],[\"Europe\",0.015295628087867616],[\"Europe\",0.02159965898994827],[\"Europe\",0.0300968557354976],[\"Europe\",0.03686455613070679],[\"Europe\",0.037201181602687115],[\"Europe\",0.03235482670317506],[\"Europe\",0.026709183574783385],[\"Europe\",0.02136499712372885],[\"Europe\",0.016176160239897534],[\"Europe\",0.01306545126850933],[\"Europe\",0.013207553361134895],[\"Europe\",0.015479222023861941],[\"Europe\",0.019732135249264635],[\"Europe\",0.02894924768545716],[\"Europe\",0.04654393745336934],[\"Europe\",0.07111213990749245],[\"Europe\",0.09457262429175912],[\"Europe\",0.1077736517546883],[\"Europe\",0.11095007334102854],[\"Europe\",0.11624912441207472],[\"Europe\",0.131091604876954],[\"Europe\",0.14444308083792493],[\"Europe\",0.14880885941258062],[\"Europe\",0.1726720459774299],[\"Europe\",0.2550081659854436],[\"Europe\",0.36544382623043825],[\"Europe\",0.4],[\"Europe\",0.30889626549638943],[\"Europe\",0.16501857232939604],[\"Europe\",0.0606948850800222],[\"Europe\",0.015351246737458283],[\"Europe\",0.00266909166518638],[\"Europe\",0.00031898413035628124],[\"Europe\",2.6202745540755224e-05],[\"Europe\",1.479421420621275e-06]]]]]}}},\"view\":{\"type\":\"object\",\"name\":\"CDSView\",\"id\":\"7838e7df-da8c-4d1f-ac63-cd9c8a3f6c57\",\"attributes\":{\"filter\":{\"type\":\"object\",\"name\":\"AllIndices\",\"id\":\"0b957891-afbe-4671-bded-d3e66f893f73\"}}},\"glyph\":{\"type\":\"object\",\"name\":\"MultiLine\",\"id\":\"c85626ad-3f7f-405e-90ba-5555667b1993\",\"attributes\":{\"xs\":{\"type\":\"field\",\"field\":\"xs\"},\"ys\":{\"type\":\"field\",\"field\":\"ys\"}}},\"selection_glyph\":{\"type\":\"object\",\"name\":\"MultiLine\",\"id\":\"2e56b7ef-5007-4340-826e-918e6d36fe19\",\"attributes\":{\"xs\":{\"type\":\"field\",\"field\":\"xs\"},\"ys\":{\"type\":\"field\",\"field\":\"ys\"},\"line_color\":{\"type\":\"value\",\"value\":\"black\"},\"line_alpha\":{\"type\":\"value\",\"value\":1.0},\"line_width\":{\"type\":\"value\",\"value\":1},\"line_join\":{\"type\":\"value\",\"value\":\"bevel\"},\"line_cap\":{\"type\":\"value\",\"value\":\"butt\"},\"line_dash\":{\"type\":\"value\",\"value\":[]},\"line_dash_offset\":{\"type\":\"value\",\"value\":0}}},\"nonselection_glyph\":{\"type\":\"object\",\"name\":\"MultiLine\",\"id\":\"99595f98-67e1-4e07-872d-91aa0c6ca46c\",\"attributes\":{\"xs\":{\"type\":\"field\",\"field\":\"xs\"},\"ys\":{\"type\":\"field\",\"field\":\"ys\"},\"line_alpha\":{\"type\":\"value\",\"value\":0.1}}},\"muted_glyph\":{\"type\":\"object\",\"name\":\"MultiLine\",\"id\":\"09b35910-9dc2-4957-b381-faaf5b6534e6\",\"attributes\":{\"xs\":{\"type\":\"field\",\"field\":\"xs\"},\"ys\":{\"type\":\"field\",\"field\":\"ys\"},\"line_alpha\":{\"type\":\"value\",\"value\":0.2}}}}},{\"type\":\"object\",\"name\":\"GlyphRenderer\",\"id\":\"a9db173b-51b4-4ea5-a009-bf30588a5a45\",\"attributes\":{\"data_source\":{\"type\":\"object\",\"name\":\"ColumnDataSource\",\"id\":\"ccea9887-5ccf-4bb7-a452-1bdcbd67939c\",\"attributes\":{\"selected\":{\"type\":\"object\",\"name\":\"Selection\",\"id\":\"e48993ce-87fd-4781-ab9e-39f599ec42cc\",\"attributes\":{\"indices\":[],\"line_indices\":[]}},\"selection_policy\":{\"type\":\"object\",\"name\":\"UnionRenderers\",\"id\":\"fa99259a-0239-4544-8f0b-0fe4d6a99ff1\"},\"data\":{\"type\":\"map\",\"entries\":[[\"x\",[[\"Asia\",0],[\"North America\",0],[\"Europe\",0]]],[\"y0\",{\"type\":\"ndarray\",\"array\":{\"type\":\"bytes\",\"data\":\"AAAAAAAAAAAAAAAA\"},\"shape\":[3],\"dtype\":\"int32\",\"order\":\"little\"}],[\"y1\",{\"type\":\"ndarray\",\"array\":{\"type\":\"bytes\",\"data\":\"ZwAAAEwAAABIAAAA\"},\"shape\":[3],\"dtype\":\"int32\",\"order\":\"little\"}]]}}},\"view\":{\"type\":\"object\",\"name\":\"CDSView\",\"id\":\"e08c3091-d19f-4c1f-96e0-bda2e17929c6\",\"attributes\":{\"filter\":{\"type\":\"object\",\"name\":\"AllIndices\",\"id\":\"7bcd0f65-2318-4a9a-add3-3411dc084d5d\"}}},\"glyph\":{\"type\":\"object\",\"name\":\"Segment\",\"id\":\"94a36e9f-d25c-4685-a81e-5c743c374fb8\",\"attributes\":{\"x0\":{\"type\":\"field\",\"field\":\"x\"},\"y0\":{\"type\":\"field\",\"field\":\"y0\"},\"x1\":{\"type\":\"field\",\"field\":\"x\"},\"y1\":{\"type\":\"field\",\"field\":\"y1\"}}},\"selection_glyph\":{\"type\":\"object\",\"name\":\"Segment\",\"id\":\"5e8825d6-5b39-4eb5-b22a-4076f805e6d8\",\"attributes\":{\"x0\":{\"type\":\"field\",\"field\":\"x\"},\"y0\":{\"type\":\"field\",\"field\":\"y0\"},\"x1\":{\"type\":\"field\",\"field\":\"x\"},\"y1\":{\"type\":\"field\",\"field\":\"y1\"},\"line_color\":{\"type\":\"value\",\"value\":\"black\"},\"line_alpha\":{\"type\":\"value\",\"value\":1.0},\"line_width\":{\"type\":\"value\",\"value\":1},\"line_join\":{\"type\":\"value\",\"value\":\"bevel\"},\"line_cap\":{\"type\":\"value\",\"value\":\"butt\"},\"line_dash\":{\"type\":\"value\",\"value\":[]},\"line_dash_offset\":{\"type\":\"value\",\"value\":0}}},\"nonselection_glyph\":{\"type\":\"object\",\"name\":\"Segment\",\"id\":\"21142211-50c7-48df-9ee0-9ed585c0937d\",\"attributes\":{\"x0\":{\"type\":\"field\",\"field\":\"x\"},\"y0\":{\"type\":\"field\",\"field\":\"y0\"},\"x1\":{\"type\":\"field\",\"field\":\"x\"},\"y1\":{\"type\":\"field\",\"field\":\"y1\"},\"line_alpha\":{\"type\":\"value\",\"value\":0.1}}},\"muted_glyph\":{\"type\":\"object\",\"name\":\"Segment\",\"id\":\"7c0a1c16-2f27-479f-acc5-654df4a2262b\",\"attributes\":{\"x0\":{\"type\":\"field\",\"field\":\"x\"},\"y0\":{\"type\":\"field\",\"field\":\"y0\"},\"x1\":{\"type\":\"field\",\"field\":\"x\"},\"y1\":{\"type\":\"field\",\"field\":\"y1\"},\"line_alpha\":{\"type\":\"value\",\"value\":0.2}}}}},{\"type\":\"object\",\"name\":\"GlyphRenderer\",\"id\":\"d4b1b260-c09f-4450-9959-fffcd6b1aaa5\",\"attributes\":{\"data_source\":{\"type\":\"object\",\"name\":\"ColumnDataSource\",\"id\":\"b0497f2c-3f69-4198-83a5-6de7320848f4\",\"attributes\":{\"selected\":{\"type\":\"object\",\"name\":\"Selection\",\"id\":\"01ff79c5-d937-48a3-a470-c2a78a5d0eda\",\"attributes\":{\"indices\":[],\"line_indices\":[]}},\"selection_policy\":{\"type\":\"object\",\"name\":\"UnionRenderers\",\"id\":\"c15db871-a3c9-4b02-99cb-66399f0067b2\"},\"data\":{\"type\":\"map\",\"entries\":[[\"x\",[[\"Asia\",0],[\"North America\",0],[\"Europe\",0]]],[\"bottom\",{\"type\":\"ndarray\",\"array\":{\"type\":\"bytes\",\"data\":\"AAAAAAAAAAAAAAAAAAAAAAAAAAAAAAAA\"},\"shape\":[3],\"dtype\":\"float64\",\"order\":\"little\"}],[\"top\",{\"type\":\"ndarray\",\"array\":{\"type\":\"bytes\",\"data\":\"AAAAAAAARUAAAAAAAABAQAAAAAAAAEBA\"},\"shape\":[3],\"dtype\":\"float64\",\"order\":\"little\"}]]}}},\"view\":{\"type\":\"object\",\"name\":\"CDSView\",\"id\":\"fc5e258c-88f8-4948-b394-83029771d340\",\"attributes\":{\"filter\":{\"type\":\"object\",\"name\":\"AllIndices\",\"id\":\"af474867-9476-4761-9581-a2a32439b369\"}}},\"glyph\":{\"type\":\"object\",\"name\":\"VBar\",\"id\":\"749c6ccb-db11-4c90-add7-df9792a79cb8\",\"attributes\":{\"x\":{\"type\":\"field\",\"field\":\"x\"},\"width\":{\"type\":\"value\",\"value\":0.1},\"bottom\":{\"type\":\"field\",\"field\":\"bottom\"},\"top\":{\"type\":\"field\",\"field\":\"top\"},\"fill_color\":{\"type\":\"value\",\"value\":\"black\"}}},\"selection_glyph\":{\"type\":\"object\",\"name\":\"VBar\",\"id\":\"b9844d19-c113-4c35-b8cd-d221a4576841\",\"attributes\":{\"x\":{\"type\":\"field\",\"field\":\"x\"},\"width\":{\"type\":\"value\",\"value\":0.1},\"bottom\":{\"type\":\"field\",\"field\":\"bottom\"},\"top\":{\"type\":\"field\",\"field\":\"top\"},\"line_color\":{\"type\":\"value\",\"value\":\"black\"},\"line_alpha\":{\"type\":\"value\",\"value\":1.0},\"line_width\":{\"type\":\"value\",\"value\":1},\"line_join\":{\"type\":\"value\",\"value\":\"bevel\"},\"line_cap\":{\"type\":\"value\",\"value\":\"butt\"},\"line_dash\":{\"type\":\"value\",\"value\":[]},\"line_dash_offset\":{\"type\":\"value\",\"value\":0},\"fill_color\":{\"type\":\"value\",\"value\":\"black\"},\"fill_alpha\":{\"type\":\"value\",\"value\":1.0},\"hatch_color\":{\"type\":\"value\",\"value\":\"black\"},\"hatch_alpha\":{\"type\":\"value\",\"value\":1.0},\"hatch_scale\":{\"type\":\"value\",\"value\":12.0},\"hatch_pattern\":{\"type\":\"value\",\"value\":null},\"hatch_weight\":{\"type\":\"value\",\"value\":1.0}}},\"nonselection_glyph\":{\"type\":\"object\",\"name\":\"VBar\",\"id\":\"1feaef1a-b09f-46e5-bd90-b23879ba9121\",\"attributes\":{\"x\":{\"type\":\"field\",\"field\":\"x\"},\"width\":{\"type\":\"value\",\"value\":0.1},\"bottom\":{\"type\":\"field\",\"field\":\"bottom\"},\"top\":{\"type\":\"field\",\"field\":\"top\"},\"line_alpha\":{\"type\":\"value\",\"value\":0.1},\"fill_color\":{\"type\":\"value\",\"value\":\"black\"},\"fill_alpha\":{\"type\":\"value\",\"value\":0.1},\"hatch_alpha\":{\"type\":\"value\",\"value\":0.1}}},\"muted_glyph\":{\"type\":\"object\",\"name\":\"VBar\",\"id\":\"11b4aa26-f65e-443d-a0fe-24f183ff769d\",\"attributes\":{\"x\":{\"type\":\"field\",\"field\":\"x\"},\"width\":{\"type\":\"value\",\"value\":0.1},\"bottom\":{\"type\":\"field\",\"field\":\"bottom\"},\"top\":{\"type\":\"field\",\"field\":\"top\"},\"line_alpha\":{\"type\":\"value\",\"value\":0.2},\"fill_color\":{\"type\":\"value\",\"value\":\"black\"},\"fill_alpha\":{\"type\":\"value\",\"value\":0.2},\"hatch_alpha\":{\"type\":\"value\",\"value\":0.2}}}}},{\"type\":\"object\",\"name\":\"GlyphRenderer\",\"id\":\"a29b24b4-a173-4172-972b-c29e287d8cea\",\"attributes\":{\"data_source\":{\"type\":\"object\",\"name\":\"ColumnDataSource\",\"id\":\"9c8d50de-43b5-4e63-8fa2-bd05a7ce034d\",\"attributes\":{\"selected\":{\"type\":\"object\",\"name\":\"Selection\",\"id\":\"dc46b52e-535a-44d9-9182-f8abf133b985\",\"attributes\":{\"indices\":[],\"line_indices\":[]}},\"selection_policy\":{\"type\":\"object\",\"name\":\"UnionRenderers\",\"id\":\"bdda5ee0-dd98-4d09-a687-1e6b93501774\"},\"data\":{\"type\":\"map\",\"entries\":[[\"x\",[[\"Asia\",0],[\"North America\",0],[\"Europe\",0]]],[\"y\",{\"type\":\"ndarray\",\"array\":{\"type\":\"bytes\",\"data\":\"AAAAAAAAOUAAAAAAAAAAAAAAAAAAAChA\"},\"shape\":[3],\"dtype\":\"float64\",\"order\":\"little\"}]]}}},\"view\":{\"type\":\"object\",\"name\":\"CDSView\",\"id\":\"0a58446e-e3e9-43b7-b9cf-8513171d2a2d\",\"attributes\":{\"filter\":{\"type\":\"object\",\"name\":\"AllIndices\",\"id\":\"7890f9e8-8fb7-462e-bd72-14598ddaad39\"}}},\"glyph\":{\"type\":\"object\",\"name\":\"Scatter\",\"id\":\"c4674a3e-dedb-41cf-a203-93c376a7ae44\",\"attributes\":{\"x\":{\"type\":\"field\",\"field\":\"x\"},\"y\":{\"type\":\"field\",\"field\":\"y\"},\"line_color\":{\"type\":\"value\",\"value\":\"white\"},\"fill_color\":{\"type\":\"value\",\"value\":\"white\"},\"hatch_color\":{\"type\":\"value\",\"value\":\"white\"}}},\"selection_glyph\":{\"type\":\"object\",\"name\":\"Scatter\",\"id\":\"938c5d52-dfd5-4553-b662-ce812eada8d5\",\"attributes\":{\"x\":{\"type\":\"field\",\"field\":\"x\"},\"y\":{\"type\":\"field\",\"field\":\"y\"},\"size\":{\"type\":\"value\",\"value\":4},\"angle\":{\"type\":\"value\",\"value\":0.0},\"line_color\":{\"type\":\"value\",\"value\":\"white\"},\"line_alpha\":{\"type\":\"value\",\"value\":1.0},\"line_width\":{\"type\":\"value\",\"value\":1},\"line_join\":{\"type\":\"value\",\"value\":\"bevel\"},\"line_cap\":{\"type\":\"value\",\"value\":\"butt\"},\"line_dash\":{\"type\":\"value\",\"value\":[]},\"line_dash_offset\":{\"type\":\"value\",\"value\":0},\"fill_color\":{\"type\":\"value\",\"value\":\"white\"},\"fill_alpha\":{\"type\":\"value\",\"value\":1.0},\"hatch_color\":{\"type\":\"value\",\"value\":\"white\"},\"hatch_alpha\":{\"type\":\"value\",\"value\":1.0},\"hatch_scale\":{\"type\":\"value\",\"value\":12.0},\"hatch_pattern\":{\"type\":\"value\",\"value\":null},\"hatch_weight\":{\"type\":\"value\",\"value\":1.0},\"marker\":{\"type\":\"value\",\"value\":\"circle\"}}},\"nonselection_glyph\":{\"type\":\"object\",\"name\":\"Scatter\",\"id\":\"530d440f-eac9-4cef-ad23-b358b7da77b2\",\"attributes\":{\"x\":{\"type\":\"field\",\"field\":\"x\"},\"y\":{\"type\":\"field\",\"field\":\"y\"},\"line_color\":{\"type\":\"value\",\"value\":\"white\"},\"line_alpha\":{\"type\":\"value\",\"value\":0.1},\"fill_color\":{\"type\":\"value\",\"value\":\"white\"},\"fill_alpha\":{\"type\":\"value\",\"value\":0.1},\"hatch_color\":{\"type\":\"value\",\"value\":\"white\"},\"hatch_alpha\":{\"type\":\"value\",\"value\":0.1}}},\"muted_glyph\":{\"type\":\"object\",\"name\":\"Scatter\",\"id\":\"316eea58-ed75-47ba-93af-4739d5aa0e15\",\"attributes\":{\"x\":{\"type\":\"field\",\"field\":\"x\"},\"y\":{\"type\":\"field\",\"field\":\"y\"},\"line_color\":{\"type\":\"value\",\"value\":\"white\"},\"line_alpha\":{\"type\":\"value\",\"value\":0.2},\"fill_color\":{\"type\":\"value\",\"value\":\"white\"},\"fill_alpha\":{\"type\":\"value\",\"value\":0.2},\"hatch_color\":{\"type\":\"value\",\"value\":\"white\"},\"hatch_alpha\":{\"type\":\"value\",\"value\":0.2}}}}}],\"toolbar\":{\"type\":\"object\",\"name\":\"Toolbar\",\"id\":\"d45f2262-e6e4-4ced-919a-5157d0648491\",\"attributes\":{\"tools\":[{\"type\":\"object\",\"name\":\"WheelZoomTool\",\"id\":\"dd49066c-f1a4-4ced-8922-69b9f261d437\",\"attributes\":{\"tags\":[\"hv_created\"],\"renderers\":\"auto\",\"zoom_together\":\"none\"}},{\"type\":\"object\",\"name\":\"SaveTool\",\"id\":\"fd2cd62e-52a6-41c4-8dd3-4c47335f54e0\"},{\"type\":\"object\",\"name\":\"PanTool\",\"id\":\"4df84d00-db67-4a0b-8571-10c092155836\"},{\"type\":\"object\",\"name\":\"BoxZoomTool\",\"id\":\"c27a1121-304d-4d6a-877d-a5e5aceb0ad1\",\"attributes\":{\"overlay\":{\"type\":\"object\",\"name\":\"BoxAnnotation\",\"id\":\"86fb5787-b349-4589-979c-c353269b5bdf\",\"attributes\":{\"syncable\":false,\"level\":\"overlay\",\"visible\":false,\"left\":{\"type\":\"number\",\"value\":\"nan\"},\"right\":{\"type\":\"number\",\"value\":\"nan\"},\"top\":{\"type\":\"number\",\"value\":\"nan\"},\"bottom\":{\"type\":\"number\",\"value\":\"nan\"},\"left_units\":\"canvas\",\"right_units\":\"canvas\",\"top_units\":\"canvas\",\"bottom_units\":\"canvas\",\"line_color\":\"black\",\"line_alpha\":1.0,\"line_width\":2,\"line_dash\":[4,4],\"fill_color\":\"lightgrey\",\"fill_alpha\":0.5}}}},{\"type\":\"object\",\"name\":\"ResetTool\",\"id\":\"d8780504-34f2-412f-aa0c-c16cdf0e90c3\"}],\"active_drag\":{\"id\":\"4df84d00-db67-4a0b-8571-10c092155836\"},\"active_scroll\":{\"id\":\"dd49066c-f1a4-4ced-8922-69b9f261d437\"}}},\"left\":[{\"type\":\"object\",\"name\":\"LinearAxis\",\"id\":\"f007986f-cc8f-40ff-aa64-bbcfce907077\",\"attributes\":{\"ticker\":{\"type\":\"object\",\"name\":\"BasicTicker\",\"id\":\"e7b22f2b-ca1d-4d2a-9274-c8f821c9d9ca\",\"attributes\":{\"mantissas\":[1,2,5]}},\"formatter\":{\"type\":\"object\",\"name\":\"BasicTickFormatter\",\"id\":\"88c0ac9a-b5be-4446-b478-3fb123e597e9\"},\"axis_label\":\"EV Range\",\"major_label_policy\":{\"type\":\"object\",\"name\":\"AllLabels\",\"id\":\"c9c52ea5-4bbc-4843-9ed0-8419a786cf02\"}}}],\"below\":[{\"type\":\"object\",\"name\":\"CategoricalAxis\",\"id\":\"05a4f81b-8b4d-41f9-ae61-71920d68d4e1\",\"attributes\":{\"ticker\":{\"type\":\"object\",\"name\":\"CategoricalTicker\",\"id\":\"d264aaef-a922-4c4d-a644-57d07764c16b\"},\"formatter\":{\"type\":\"object\",\"name\":\"CategoricalTickFormatter\",\"id\":\"3df7093b-5039-4a71-b3f4-413725f782b2\"},\"axis_label\":\"EV Regional Origin\",\"major_label_policy\":{\"type\":\"object\",\"name\":\"AllLabels\",\"id\":\"bb82f7b5-5e54-4187-bc17-00394be047a5\"}}}],\"center\":[{\"type\":\"object\",\"name\":\"Grid\",\"id\":\"29736c07-989a-4773-bcbb-1798ac8151a8\",\"attributes\":{\"axis\":{\"id\":\"05a4f81b-8b4d-41f9-ae61-71920d68d4e1\"},\"grid_line_color\":null}},{\"type\":\"object\",\"name\":\"Grid\",\"id\":\"4f877caa-7673-4ae0-ae77-ea519c688ef6\",\"attributes\":{\"dimension\":1,\"axis\":{\"id\":\"f007986f-cc8f-40ff-aa64-bbcfce907077\"},\"grid_line_color\":null}}],\"min_border_top\":10,\"min_border_bottom\":10,\"min_border_left\":10,\"min_border_right\":10,\"output_backend\":\"webgl\"}},{\"type\":\"object\",\"name\":\"Spacer\",\"id\":\"4e6f4349-3370-4223-861f-6b3a18de43b9\",\"attributes\":{\"name\":\"HSpacer00867\",\"stylesheets\":[\"\\n:host(.pn-loading):before, .pn-loading:before {\\n  background-color: #c3c3c3;\\n  mask-size: auto calc(min(50%, 400px));\\n  -webkit-mask-size: auto calc(min(50%, 400px));\\n}\",{\"id\":\"c31ac84c-5186-4196-8a32-1014c9f82697\"},{\"id\":\"62cfb005-36ca-4dc0-acac-509b0b44f5bf\"},{\"id\":\"6625cf90-6c5d-44b4-9990-75edf47eedf5\"}],\"margin\":0,\"sizing_mode\":\"stretch_width\",\"align\":\"start\"}}]}}],\"defs\":[{\"type\":\"model\",\"name\":\"ReactiveHTML1\"},{\"type\":\"model\",\"name\":\"FlexBox1\",\"properties\":[{\"name\":\"align_content\",\"kind\":\"Any\",\"default\":\"flex-start\"},{\"name\":\"align_items\",\"kind\":\"Any\",\"default\":\"flex-start\"},{\"name\":\"flex_direction\",\"kind\":\"Any\",\"default\":\"row\"},{\"name\":\"flex_wrap\",\"kind\":\"Any\",\"default\":\"wrap\"},{\"name\":\"gap\",\"kind\":\"Any\",\"default\":\"\"},{\"name\":\"justify_content\",\"kind\":\"Any\",\"default\":\"flex-start\"}]},{\"type\":\"model\",\"name\":\"FloatPanel1\",\"properties\":[{\"name\":\"config\",\"kind\":\"Any\",\"default\":{\"type\":\"map\"}},{\"name\":\"contained\",\"kind\":\"Any\",\"default\":true},{\"name\":\"position\",\"kind\":\"Any\",\"default\":\"right-top\"},{\"name\":\"offsetx\",\"kind\":\"Any\",\"default\":null},{\"name\":\"offsety\",\"kind\":\"Any\",\"default\":null},{\"name\":\"theme\",\"kind\":\"Any\",\"default\":\"primary\"},{\"name\":\"status\",\"kind\":\"Any\",\"default\":\"normalized\"}]},{\"type\":\"model\",\"name\":\"GridStack1\",\"properties\":[{\"name\":\"mode\",\"kind\":\"Any\",\"default\":\"warn\"},{\"name\":\"ncols\",\"kind\":\"Any\",\"default\":null},{\"name\":\"nrows\",\"kind\":\"Any\",\"default\":null},{\"name\":\"allow_resize\",\"kind\":\"Any\",\"default\":true},{\"name\":\"allow_drag\",\"kind\":\"Any\",\"default\":true},{\"name\":\"state\",\"kind\":\"Any\",\"default\":[]}]},{\"type\":\"model\",\"name\":\"drag1\",\"properties\":[{\"name\":\"slider_width\",\"kind\":\"Any\",\"default\":5},{\"name\":\"slider_color\",\"kind\":\"Any\",\"default\":\"black\"},{\"name\":\"value\",\"kind\":\"Any\",\"default\":50}]},{\"type\":\"model\",\"name\":\"click1\",\"properties\":[{\"name\":\"terminal_output\",\"kind\":\"Any\",\"default\":\"\"},{\"name\":\"debug_name\",\"kind\":\"Any\",\"default\":\"\"},{\"name\":\"clears\",\"kind\":\"Any\",\"default\":0}]},{\"type\":\"model\",\"name\":\"FastWrapper1\",\"properties\":[{\"name\":\"object\",\"kind\":\"Any\",\"default\":null},{\"name\":\"style\",\"kind\":\"Any\",\"default\":null}]},{\"type\":\"model\",\"name\":\"NotificationAreaBase1\",\"properties\":[{\"name\":\"js_events\",\"kind\":\"Any\",\"default\":{\"type\":\"map\"}},{\"name\":\"position\",\"kind\":\"Any\",\"default\":\"bottom-right\"},{\"name\":\"_clear\",\"kind\":\"Any\",\"default\":0}]},{\"type\":\"model\",\"name\":\"NotificationArea1\",\"properties\":[{\"name\":\"js_events\",\"kind\":\"Any\",\"default\":{\"type\":\"map\"}},{\"name\":\"notifications\",\"kind\":\"Any\",\"default\":[]},{\"name\":\"position\",\"kind\":\"Any\",\"default\":\"bottom-right\"},{\"name\":\"_clear\",\"kind\":\"Any\",\"default\":0},{\"name\":\"types\",\"kind\":\"Any\",\"default\":[{\"type\":\"map\",\"entries\":[[\"type\",\"warning\"],[\"background\",\"#ffc107\"],[\"icon\",{\"type\":\"map\",\"entries\":[[\"className\",\"fas fa-exclamation-triangle\"],[\"tagName\",\"i\"],[\"color\",\"white\"]]}]]},{\"type\":\"map\",\"entries\":[[\"type\",\"info\"],[\"background\",\"#007bff\"],[\"icon\",{\"type\":\"map\",\"entries\":[[\"className\",\"fas fa-info-circle\"],[\"tagName\",\"i\"],[\"color\",\"white\"]]}]]}]}]},{\"type\":\"model\",\"name\":\"Notification\",\"properties\":[{\"name\":\"background\",\"kind\":\"Any\",\"default\":null},{\"name\":\"duration\",\"kind\":\"Any\",\"default\":3000},{\"name\":\"icon\",\"kind\":\"Any\",\"default\":null},{\"name\":\"message\",\"kind\":\"Any\",\"default\":\"\"},{\"name\":\"notification_type\",\"kind\":\"Any\",\"default\":null},{\"name\":\"_destroyed\",\"kind\":\"Any\",\"default\":false}]},{\"type\":\"model\",\"name\":\"TemplateActions1\",\"properties\":[{\"name\":\"open_modal\",\"kind\":\"Any\",\"default\":0},{\"name\":\"close_modal\",\"kind\":\"Any\",\"default\":0}]},{\"type\":\"model\",\"name\":\"BootstrapTemplateActions1\",\"properties\":[{\"name\":\"open_modal\",\"kind\":\"Any\",\"default\":0},{\"name\":\"close_modal\",\"kind\":\"Any\",\"default\":0}]},{\"type\":\"model\",\"name\":\"TemplateEditor1\",\"properties\":[{\"name\":\"layout\",\"kind\":\"Any\",\"default\":[]}]},{\"type\":\"model\",\"name\":\"MaterialTemplateActions1\",\"properties\":[{\"name\":\"open_modal\",\"kind\":\"Any\",\"default\":0},{\"name\":\"close_modal\",\"kind\":\"Any\",\"default\":0}]},{\"type\":\"model\",\"name\":\"copy_to_clipboard1\",\"properties\":[{\"name\":\"fill\",\"kind\":\"Any\",\"default\":\"none\"},{\"name\":\"value\",\"kind\":\"Any\",\"default\":null}]}]}};\n",
       "  var render_items = [{\"docid\":\"e8001db5-4803-4f90-943e-d6efb611c35a\",\"roots\":{\"5d0fe09b-230d-472a-88e9-f9ab994da5f1\":\"cbbd799d-2c5a-45bc-b833-8031d017c084\"},\"root_ids\":[\"5d0fe09b-230d-472a-88e9-f9ab994da5f1\"]}];\n",
       "  var docs = Object.values(docs_json)\n",
       "  if (!docs) {\n",
       "    return\n",
       "  }\n",
       "  const py_version = docs[0].version.replace('rc', '-rc.').replace('.dev', '-dev.')\n",
       "  async function embed_document(root) {\n",
       "    var Bokeh = get_bokeh(root)\n",
       "    await Bokeh.embed.embed_items_notebook(docs_json, render_items);\n",
       "    for (const render_item of render_items) {\n",
       "      for (const root_id of render_item.root_ids) {\n",
       "\tconst id_el = document.getElementById(root_id)\n",
       "\tif (id_el.children.length && id_el.children[0].hasAttribute('data-root-id')) {\n",
       "\t  const root_el = id_el.children[0]\n",
       "\t  root_el.id = root_el.id + '-rendered'\n",
       "\t  for (const child of root_el.children) {\n",
       "            // Ensure JupyterLab does not capture keyboard shortcuts\n",
       "            // see: https://jupyterlab.readthedocs.io/en/4.1.x/extension/notebook.html#keyboard-interaction-model\n",
       "\t    child.setAttribute('data-lm-suppress-shortcuts', 'true')\n",
       "\t  }\n",
       "\t}\n",
       "      }\n",
       "    }\n",
       "  }\n",
       "  function get_bokeh(root) {\n",
       "    if (root.Bokeh === undefined) {\n",
       "      return null\n",
       "    } else if (root.Bokeh.version !== py_version) {\n",
       "      if (root.Bokeh.versions === undefined || !root.Bokeh.versions.has(py_version)) {\n",
       "\treturn null\n",
       "      }\n",
       "      return root.Bokeh.versions.get(py_version);\n",
       "    } else if (root.Bokeh.version === py_version) {\n",
       "      return root.Bokeh\n",
       "    }\n",
       "    return null\n",
       "  }\n",
       "  function is_loaded(root) {\n",
       "    var Bokeh = get_bokeh(root)\n",
       "    return (Bokeh != null && Bokeh.Panel !== undefined)\n",
       "  }\n",
       "  if (is_loaded(root)) {\n",
       "    embed_document(root);\n",
       "  } else {\n",
       "    var attempts = 0;\n",
       "    var timer = setInterval(function(root) {\n",
       "      if (is_loaded(root)) {\n",
       "        clearInterval(timer);\n",
       "        embed_document(root);\n",
       "      } else if (document.readyState == \"complete\") {\n",
       "        attempts++;\n",
       "        if (attempts > 200) {\n",
       "          clearInterval(timer);\n",
       "\t  var Bokeh = get_bokeh(root)\n",
       "\t  if (Bokeh == null || Bokeh.Panel == null) {\n",
       "            console.warn(\"Panel: ERROR: Unable to run Panel code because Bokeh or Panel library is missing\");\n",
       "\t  } else {\n",
       "\t    console.warn(\"Panel: WARNING: Attempting to render but not all required libraries could be resolved.\")\n",
       "\t    embed_document(root)\n",
       "\t  }\n",
       "        }\n",
       "      }\n",
       "    }, 25, root)\n",
       "  }\n",
       "})(window);</script>"
      ],
      "text/plain": [
       ":Violin   [EV Regional Origin]   (Electric Range)"
      ]
     },
     "execution_count": 19,
     "metadata": {
      "application/vnd.holoviews_exec.v0+json": {
       "id": "5d0fe09b-230d-472a-88e9-f9ab994da5f1"
      }
     },
     "output_type": "execute_result"
    }
   ],
   "source": [
    "violin = df.hvplot.violin(y='Electric Range', by='EV Regional Origin', c='VIN (1-10)', ylabel='EV Range',\n",
    "                 cmap=['red', 'silver', 'blue'], legend=True, \n",
    "                 width=500, height=500, padding=0.4)\n",
    "violin"
   ]
  }
 ],
 "metadata": {
  "kernelspec": {
   "display_name": "env",
   "language": "python",
   "name": "python3"
  },
  "language_info": {
   "codemirror_mode": {
    "name": "ipython",
    "version": 3
   },
   "file_extension": ".py",
   "mimetype": "text/x-python",
   "name": "python",
   "nbconvert_exporter": "python",
   "pygments_lexer": "ipython3",
   "version": "3.9.6"
  }
 },
 "nbformat": 4,
 "nbformat_minor": 2
}
