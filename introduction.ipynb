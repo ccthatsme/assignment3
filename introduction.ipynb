{
 "cells": [
  {
   "cell_type": "markdown",
   "metadata": {},
   "source": [
    "# Electric Vehicle Population Data for Washington State\n",
    "\n",
    "### Current registered EVs in the State of Washington according to Washington State Department of Licensing (DOL)\n"
   ]
  },
  {
   "cell_type": "markdown",
   "metadata": {},
   "source": [
    "## <ins>Introduction: Cleaning and exploring the dataset</ins>"
   ]
  },
  {
   "cell_type": "code",
   "execution_count": 210,
   "metadata": {},
   "outputs": [
    {
     "data": {
      "application/javascript": "(function(root) {\n  function now() {\n    return new Date();\n  }\n\n  var force = true;\n  var py_version = '3.4.3'.replace('rc', '-rc.').replace('.dev', '-dev.');\n  var reloading = false;\n  var Bokeh = root.Bokeh;\n\n  if (typeof (root._bokeh_timeout) === \"undefined\" || force) {\n    root._bokeh_timeout = Date.now() + 5000;\n    root._bokeh_failed_load = false;\n  }\n\n  function run_callbacks() {\n    try {\n      root._bokeh_onload_callbacks.forEach(function(callback) {\n        if (callback != null)\n          callback();\n      });\n    } finally {\n      delete root._bokeh_onload_callbacks;\n    }\n    console.debug(\"Bokeh: all callbacks have finished\");\n  }\n\n  function load_libs(css_urls, js_urls, js_modules, js_exports, callback) {\n    if (css_urls == null) css_urls = [];\n    if (js_urls == null) js_urls = [];\n    if (js_modules == null) js_modules = [];\n    if (js_exports == null) js_exports = {};\n\n    root._bokeh_onload_callbacks.push(callback);\n\n    if (root._bokeh_is_loading > 0) {\n      console.debug(\"Bokeh: BokehJS is being loaded, scheduling callback at\", now());\n      return null;\n    }\n    if (js_urls.length === 0 && js_modules.length === 0 && Object.keys(js_exports).length === 0) {\n      run_callbacks();\n      return null;\n    }\n    if (!reloading) {\n      console.debug(\"Bokeh: BokehJS not loaded, scheduling load and callback at\", now());\n    }\n\n    function on_load() {\n      root._bokeh_is_loading--;\n      if (root._bokeh_is_loading === 0) {\n        console.debug(\"Bokeh: all BokehJS libraries/stylesheets loaded\");\n        run_callbacks()\n      }\n    }\n    window._bokeh_on_load = on_load\n\n    function on_error() {\n      console.error(\"failed to load \" + url);\n    }\n\n    var skip = [];\n    if (window.requirejs) {\n      window.requirejs.config({'packages': {}, 'paths': {}, 'shim': {}});\n      root._bokeh_is_loading = css_urls.length + 0;\n    } else {\n      root._bokeh_is_loading = css_urls.length + js_urls.length + js_modules.length + Object.keys(js_exports).length;\n    }\n\n    var existing_stylesheets = []\n    var links = document.getElementsByTagName('link')\n    for (var i = 0; i < links.length; i++) {\n      var link = links[i]\n      if (link.href != null) {\n\texisting_stylesheets.push(link.href)\n      }\n    }\n    for (var i = 0; i < css_urls.length; i++) {\n      var url = css_urls[i];\n      if (existing_stylesheets.indexOf(url) !== -1) {\n\ton_load()\n\tcontinue;\n      }\n      const element = document.createElement(\"link\");\n      element.onload = on_load;\n      element.onerror = on_error;\n      element.rel = \"stylesheet\";\n      element.type = \"text/css\";\n      element.href = url;\n      console.debug(\"Bokeh: injecting link tag for BokehJS stylesheet: \", url);\n      document.body.appendChild(element);\n    }    var existing_scripts = []\n    var scripts = document.getElementsByTagName('script')\n    for (var i = 0; i < scripts.length; i++) {\n      var script = scripts[i]\n      if (script.src != null) {\n\texisting_scripts.push(script.src)\n      }\n    }\n    for (var i = 0; i < js_urls.length; i++) {\n      var url = js_urls[i];\n      if (skip.indexOf(url) !== -1 || existing_scripts.indexOf(url) !== -1) {\n\tif (!window.requirejs) {\n\t  on_load();\n\t}\n\tcontinue;\n      }\n      var element = document.createElement('script');\n      element.onload = on_load;\n      element.onerror = on_error;\n      element.async = false;\n      element.src = url;\n      console.debug(\"Bokeh: injecting script tag for BokehJS library: \", url);\n      document.head.appendChild(element);\n    }\n    for (var i = 0; i < js_modules.length; i++) {\n      var url = js_modules[i];\n      if (skip.indexOf(url) !== -1 || existing_scripts.indexOf(url) !== -1) {\n\tif (!window.requirejs) {\n\t  on_load();\n\t}\n\tcontinue;\n      }\n      var element = document.createElement('script');\n      element.onload = on_load;\n      element.onerror = on_error;\n      element.async = false;\n      element.src = url;\n      element.type = \"module\";\n      console.debug(\"Bokeh: injecting script tag for BokehJS library: \", url);\n      document.head.appendChild(element);\n    }\n    for (const name in js_exports) {\n      var url = js_exports[name];\n      if (skip.indexOf(url) >= 0 || root[name] != null) {\n\tif (!window.requirejs) {\n\t  on_load();\n\t}\n\tcontinue;\n      }\n      var element = document.createElement('script');\n      element.onerror = on_error;\n      element.async = false;\n      element.type = \"module\";\n      console.debug(\"Bokeh: injecting script tag for BokehJS library: \", url);\n      element.textContent = `\n      import ${name} from \"${url}\"\n      window.${name} = ${name}\n      window._bokeh_on_load()\n      `\n      document.head.appendChild(element);\n    }\n    if (!js_urls.length && !js_modules.length) {\n      on_load()\n    }\n  };\n\n  function inject_raw_css(css) {\n    const element = document.createElement(\"style\");\n    element.appendChild(document.createTextNode(css));\n    document.body.appendChild(element);\n  }\n\n  var js_urls = [\"https://cdn.bokeh.org/bokeh/release/bokeh-3.4.3.min.js\", \"https://cdn.bokeh.org/bokeh/release/bokeh-gl-3.4.3.min.js\", \"https://cdn.bokeh.org/bokeh/release/bokeh-widgets-3.4.3.min.js\", \"https://cdn.bokeh.org/bokeh/release/bokeh-tables-3.4.3.min.js\", \"https://cdn.holoviz.org/panel/1.4.5/dist/panel.min.js\"];\n  var js_modules = [];\n  var js_exports = {};\n  var css_urls = [];\n  var inline_js = [    function(Bokeh) {\n      Bokeh.set_log_level(\"info\");\n    },\nfunction(Bokeh) {} // ensure no trailing comma for IE\n  ];\n\n  function run_inline_js() {\n    if ((root.Bokeh !== undefined) || (force === true)) {\n      for (var i = 0; i < inline_js.length; i++) {\n\ttry {\n          inline_js[i].call(root, root.Bokeh);\n\t} catch(e) {\n\t  if (!reloading) {\n\t    throw e;\n\t  }\n\t}\n      }\n      // Cache old bokeh versions\n      if (Bokeh != undefined && !reloading) {\n\tvar NewBokeh = root.Bokeh;\n\tif (Bokeh.versions === undefined) {\n\t  Bokeh.versions = new Map();\n\t}\n\tif (NewBokeh.version !== Bokeh.version) {\n\t  Bokeh.versions.set(NewBokeh.version, NewBokeh)\n\t}\n\troot.Bokeh = Bokeh;\n      }} else if (Date.now() < root._bokeh_timeout) {\n      setTimeout(run_inline_js, 100);\n    } else if (!root._bokeh_failed_load) {\n      console.log(\"Bokeh: BokehJS failed to load within specified timeout.\");\n      root._bokeh_failed_load = true;\n    }\n    root._bokeh_is_initializing = false\n  }\n\n  function load_or_wait() {\n    // Implement a backoff loop that tries to ensure we do not load multiple\n    // versions of Bokeh and its dependencies at the same time.\n    // In recent versions we use the root._bokeh_is_initializing flag\n    // to determine whether there is an ongoing attempt to initialize\n    // bokeh, however for backward compatibility we also try to ensure\n    // that we do not start loading a newer (Panel>=1.0 and Bokeh>3) version\n    // before older versions are fully initialized.\n    if (root._bokeh_is_initializing && Date.now() > root._bokeh_timeout) {\n      root._bokeh_is_initializing = false;\n      root._bokeh_onload_callbacks = undefined;\n      console.log(\"Bokeh: BokehJS was loaded multiple times but one version failed to initialize.\");\n      load_or_wait();\n    } else if (root._bokeh_is_initializing || (typeof root._bokeh_is_initializing === \"undefined\" && root._bokeh_onload_callbacks !== undefined)) {\n      setTimeout(load_or_wait, 100);\n    } else {\n      root._bokeh_is_initializing = true\n      root._bokeh_onload_callbacks = []\n      var bokeh_loaded = Bokeh != null && (Bokeh.version === py_version || (Bokeh.versions !== undefined && Bokeh.versions.has(py_version)));\n      if (!reloading && !bokeh_loaded) {\n\troot.Bokeh = undefined;\n      }\n      load_libs(css_urls, js_urls, js_modules, js_exports, function() {\n\tconsole.debug(\"Bokeh: BokehJS plotting callback run at\", now());\n\trun_inline_js();\n      });\n    }\n  }\n  // Give older versions of the autoload script a head-start to ensure\n  // they initialize before we start loading newer version.\n  setTimeout(load_or_wait, 100)\n}(window));",
      "application/vnd.holoviews_load.v0+json": ""
     },
     "metadata": {},
     "output_type": "display_data"
    },
    {
     "data": {
      "application/javascript": "\nif ((window.PyViz === undefined) || (window.PyViz instanceof HTMLElement)) {\n  window.PyViz = {comms: {}, comm_status:{}, kernels:{}, receivers: {}, plot_index: []}\n}\n\n\n    function JupyterCommManager() {\n    }\n\n    JupyterCommManager.prototype.register_target = function(plot_id, comm_id, msg_handler) {\n      if (window.comm_manager || ((window.Jupyter !== undefined) && (Jupyter.notebook.kernel != null))) {\n        var comm_manager = window.comm_manager || Jupyter.notebook.kernel.comm_manager;\n        comm_manager.register_target(comm_id, function(comm) {\n          comm.on_msg(msg_handler);\n        });\n      } else if ((plot_id in window.PyViz.kernels) && (window.PyViz.kernels[plot_id])) {\n        window.PyViz.kernels[plot_id].registerCommTarget(comm_id, function(comm) {\n          comm.onMsg = msg_handler;\n        });\n      } else if (typeof google != 'undefined' && google.colab.kernel != null) {\n        google.colab.kernel.comms.registerTarget(comm_id, (comm) => {\n          var messages = comm.messages[Symbol.asyncIterator]();\n          function processIteratorResult(result) {\n            var message = result.value;\n            var content = {data: message.data, comm_id};\n            var buffers = []\n            for (var buffer of message.buffers || []) {\n              buffers.push(new DataView(buffer))\n            }\n            var metadata = message.metadata || {};\n            var msg = {content, buffers, metadata}\n            msg_handler(msg);\n            return messages.next().then(processIteratorResult);\n          }\n          return messages.next().then(processIteratorResult);\n        })\n      }\n    }\n\n    JupyterCommManager.prototype.get_client_comm = function(plot_id, comm_id, msg_handler) {\n      if (comm_id in window.PyViz.comms) {\n        return window.PyViz.comms[comm_id];\n      } else if (window.comm_manager || ((window.Jupyter !== undefined) && (Jupyter.notebook.kernel != null))) {\n        var comm_manager = window.comm_manager || Jupyter.notebook.kernel.comm_manager;\n        var comm = comm_manager.new_comm(comm_id, {}, {}, {}, comm_id);\n        if (msg_handler) {\n          comm.on_msg(msg_handler);\n        }\n      } else if ((plot_id in window.PyViz.kernels) && (window.PyViz.kernels[plot_id])) {\n        var comm = window.PyViz.kernels[plot_id].connectToComm(comm_id);\n        let retries = 0;\n        const open = () => {\n          if (comm.active) {\n            comm.open();\n          } else if (retries > 3) {\n            console.warn('Comm target never activated')\n          } else {\n            retries += 1\n            setTimeout(open, 500)\n          }\n        }\n        if (comm.active) {\n          comm.open();\n        } else {\n          setTimeout(open, 500)\n        }\n        if (msg_handler) {\n          comm.onMsg = msg_handler;\n        }\n      } else if (typeof google != 'undefined' && google.colab.kernel != null) {\n        var comm_promise = google.colab.kernel.comms.open(comm_id)\n        comm_promise.then((comm) => {\n          window.PyViz.comms[comm_id] = comm;\n          if (msg_handler) {\n            var messages = comm.messages[Symbol.asyncIterator]();\n            function processIteratorResult(result) {\n              var message = result.value;\n              var content = {data: message.data};\n              var metadata = message.metadata || {comm_id};\n              var msg = {content, metadata}\n              msg_handler(msg);\n              return messages.next().then(processIteratorResult);\n            }\n            return messages.next().then(processIteratorResult);\n          }\n        })\n        var sendClosure = (data, metadata, buffers, disposeOnDone) => {\n          return comm_promise.then((comm) => {\n            comm.send(data, metadata, buffers, disposeOnDone);\n          });\n        };\n        var comm = {\n          send: sendClosure\n        };\n      }\n      window.PyViz.comms[comm_id] = comm;\n      return comm;\n    }\n    window.PyViz.comm_manager = new JupyterCommManager();\n    \n\n\nvar JS_MIME_TYPE = 'application/javascript';\nvar HTML_MIME_TYPE = 'text/html';\nvar EXEC_MIME_TYPE = 'application/vnd.holoviews_exec.v0+json';\nvar CLASS_NAME = 'output';\n\n/**\n * Render data to the DOM node\n */\nfunction render(props, node) {\n  var div = document.createElement(\"div\");\n  var script = document.createElement(\"script\");\n  node.appendChild(div);\n  node.appendChild(script);\n}\n\n/**\n * Handle when a new output is added\n */\nfunction handle_add_output(event, handle) {\n  var output_area = handle.output_area;\n  var output = handle.output;\n  if ((output.data == undefined) || (!output.data.hasOwnProperty(EXEC_MIME_TYPE))) {\n    return\n  }\n  var id = output.metadata[EXEC_MIME_TYPE][\"id\"];\n  var toinsert = output_area.element.find(\".\" + CLASS_NAME.split(' ')[0]);\n  if (id !== undefined) {\n    var nchildren = toinsert.length;\n    var html_node = toinsert[nchildren-1].children[0];\n    html_node.innerHTML = output.data[HTML_MIME_TYPE];\n    var scripts = [];\n    var nodelist = html_node.querySelectorAll(\"script\");\n    for (var i in nodelist) {\n      if (nodelist.hasOwnProperty(i)) {\n        scripts.push(nodelist[i])\n      }\n    }\n\n    scripts.forEach( function (oldScript) {\n      var newScript = document.createElement(\"script\");\n      var attrs = [];\n      var nodemap = oldScript.attributes;\n      for (var j in nodemap) {\n        if (nodemap.hasOwnProperty(j)) {\n          attrs.push(nodemap[j])\n        }\n      }\n      attrs.forEach(function(attr) { newScript.setAttribute(attr.name, attr.value) });\n      newScript.appendChild(document.createTextNode(oldScript.innerHTML));\n      oldScript.parentNode.replaceChild(newScript, oldScript);\n    });\n    if (JS_MIME_TYPE in output.data) {\n      toinsert[nchildren-1].children[1].textContent = output.data[JS_MIME_TYPE];\n    }\n    output_area._hv_plot_id = id;\n    if ((window.Bokeh !== undefined) && (id in Bokeh.index)) {\n      window.PyViz.plot_index[id] = Bokeh.index[id];\n    } else {\n      window.PyViz.plot_index[id] = null;\n    }\n  } else if (output.metadata[EXEC_MIME_TYPE][\"server_id\"] !== undefined) {\n    var bk_div = document.createElement(\"div\");\n    bk_div.innerHTML = output.data[HTML_MIME_TYPE];\n    var script_attrs = bk_div.children[0].attributes;\n    for (var i = 0; i < script_attrs.length; i++) {\n      toinsert[toinsert.length - 1].childNodes[1].setAttribute(script_attrs[i].name, script_attrs[i].value);\n    }\n    // store reference to server id on output_area\n    output_area._bokeh_server_id = output.metadata[EXEC_MIME_TYPE][\"server_id\"];\n  }\n}\n\n/**\n * Handle when an output is cleared or removed\n */\nfunction handle_clear_output(event, handle) {\n  var id = handle.cell.output_area._hv_plot_id;\n  var server_id = handle.cell.output_area._bokeh_server_id;\n  if (((id === undefined) || !(id in PyViz.plot_index)) && (server_id !== undefined)) { return; }\n  var comm = window.PyViz.comm_manager.get_client_comm(\"hv-extension-comm\", \"hv-extension-comm\", function () {});\n  if (server_id !== null) {\n    comm.send({event_type: 'server_delete', 'id': server_id});\n    return;\n  } else if (comm !== null) {\n    comm.send({event_type: 'delete', 'id': id});\n  }\n  delete PyViz.plot_index[id];\n  if ((window.Bokeh !== undefined) & (id in window.Bokeh.index)) {\n    var doc = window.Bokeh.index[id].model.document\n    doc.clear();\n    const i = window.Bokeh.documents.indexOf(doc);\n    if (i > -1) {\n      window.Bokeh.documents.splice(i, 1);\n    }\n  }\n}\n\n/**\n * Handle kernel restart event\n */\nfunction handle_kernel_cleanup(event, handle) {\n  delete PyViz.comms[\"hv-extension-comm\"];\n  window.PyViz.plot_index = {}\n}\n\n/**\n * Handle update_display_data messages\n */\nfunction handle_update_output(event, handle) {\n  handle_clear_output(event, {cell: {output_area: handle.output_area}})\n  handle_add_output(event, handle)\n}\n\nfunction register_renderer(events, OutputArea) {\n  function append_mime(data, metadata, element) {\n    // create a DOM node to render to\n    var toinsert = this.create_output_subarea(\n    metadata,\n    CLASS_NAME,\n    EXEC_MIME_TYPE\n    );\n    this.keyboard_manager.register_events(toinsert);\n    // Render to node\n    var props = {data: data, metadata: metadata[EXEC_MIME_TYPE]};\n    render(props, toinsert[0]);\n    element.append(toinsert);\n    return toinsert\n  }\n\n  events.on('output_added.OutputArea', handle_add_output);\n  events.on('output_updated.OutputArea', handle_update_output);\n  events.on('clear_output.CodeCell', handle_clear_output);\n  events.on('delete.Cell', handle_clear_output);\n  events.on('kernel_ready.Kernel', handle_kernel_cleanup);\n\n  OutputArea.prototype.register_mime_type(EXEC_MIME_TYPE, append_mime, {\n    safe: true,\n    index: 0\n  });\n}\n\nif (window.Jupyter !== undefined) {\n  try {\n    var events = require('base/js/events');\n    var OutputArea = require('notebook/js/outputarea').OutputArea;\n    if (OutputArea.prototype.mime_types().indexOf(EXEC_MIME_TYPE) == -1) {\n      register_renderer(events, OutputArea);\n    }\n  } catch(err) {\n  }\n}\n",
      "application/vnd.holoviews_load.v0+json": ""
     },
     "metadata": {},
     "output_type": "display_data"
    },
    {
     "data": {
      "text/html": [
       "<style>*[data-root-id],\n",
       "*[data-root-id] > * {\n",
       "  box-sizing: border-box;\n",
       "  font-family: var(--jp-ui-font-family);\n",
       "  font-size: var(--jp-ui-font-size1);\n",
       "  color: var(--vscode-editor-foreground, var(--jp-ui-font-color1));\n",
       "}\n",
       "\n",
       "/* Override VSCode background color */\n",
       ".cell-output-ipywidget-background:has(\n",
       "    > .cell-output-ipywidget-background > .lm-Widget > *[data-root-id]\n",
       "  ),\n",
       ".cell-output-ipywidget-background:has(> .lm-Widget > *[data-root-id]) {\n",
       "  background-color: transparent !important;\n",
       "}\n",
       "</style>"
      ]
     },
     "metadata": {},
     "output_type": "display_data"
    },
    {
     "data": {
      "application/vnd.holoviews_exec.v0+json": "",
      "text/html": [
       "<div id='3f1b8a4b-18c4-4eab-a418-c54e23c07e21'>\n",
       "  <div id=\"a6414b1a-486e-4b7a-b82a-572a476fc02a\" data-root-id=\"3f1b8a4b-18c4-4eab-a418-c54e23c07e21\" style=\"display: contents;\"></div>\n",
       "</div>\n",
       "<script type=\"application/javascript\">(function(root) {\n",
       "  var docs_json = {\"9840a2b2-8725-4e63-a447-ad201e83a37a\":{\"version\":\"3.4.3\",\"title\":\"Bokeh Application\",\"roots\":[{\"type\":\"object\",\"name\":\"panel.models.browser.BrowserInfo\",\"id\":\"3f1b8a4b-18c4-4eab-a418-c54e23c07e21\"},{\"type\":\"object\",\"name\":\"panel.models.comm_manager.CommManager\",\"id\":\"db670248-86e7-4df4-b1b8-068c4342118f\",\"attributes\":{\"plot_id\":\"3f1b8a4b-18c4-4eab-a418-c54e23c07e21\",\"comm_id\":\"88af7b2f00584b43819a7728dcdbffba\",\"client_comm_id\":\"d3cb71f7f48e4fe39b506e054ec5c7a0\"}}],\"defs\":[{\"type\":\"model\",\"name\":\"ReactiveHTML1\"},{\"type\":\"model\",\"name\":\"FlexBox1\",\"properties\":[{\"name\":\"align_content\",\"kind\":\"Any\",\"default\":\"flex-start\"},{\"name\":\"align_items\",\"kind\":\"Any\",\"default\":\"flex-start\"},{\"name\":\"flex_direction\",\"kind\":\"Any\",\"default\":\"row\"},{\"name\":\"flex_wrap\",\"kind\":\"Any\",\"default\":\"wrap\"},{\"name\":\"gap\",\"kind\":\"Any\",\"default\":\"\"},{\"name\":\"justify_content\",\"kind\":\"Any\",\"default\":\"flex-start\"}]},{\"type\":\"model\",\"name\":\"FloatPanel1\",\"properties\":[{\"name\":\"config\",\"kind\":\"Any\",\"default\":{\"type\":\"map\"}},{\"name\":\"contained\",\"kind\":\"Any\",\"default\":true},{\"name\":\"position\",\"kind\":\"Any\",\"default\":\"right-top\"},{\"name\":\"offsetx\",\"kind\":\"Any\",\"default\":null},{\"name\":\"offsety\",\"kind\":\"Any\",\"default\":null},{\"name\":\"theme\",\"kind\":\"Any\",\"default\":\"primary\"},{\"name\":\"status\",\"kind\":\"Any\",\"default\":\"normalized\"}]},{\"type\":\"model\",\"name\":\"GridStack1\",\"properties\":[{\"name\":\"mode\",\"kind\":\"Any\",\"default\":\"warn\"},{\"name\":\"ncols\",\"kind\":\"Any\",\"default\":null},{\"name\":\"nrows\",\"kind\":\"Any\",\"default\":null},{\"name\":\"allow_resize\",\"kind\":\"Any\",\"default\":true},{\"name\":\"allow_drag\",\"kind\":\"Any\",\"default\":true},{\"name\":\"state\",\"kind\":\"Any\",\"default\":[]}]},{\"type\":\"model\",\"name\":\"drag1\",\"properties\":[{\"name\":\"slider_width\",\"kind\":\"Any\",\"default\":5},{\"name\":\"slider_color\",\"kind\":\"Any\",\"default\":\"black\"},{\"name\":\"value\",\"kind\":\"Any\",\"default\":50}]},{\"type\":\"model\",\"name\":\"click1\",\"properties\":[{\"name\":\"terminal_output\",\"kind\":\"Any\",\"default\":\"\"},{\"name\":\"debug_name\",\"kind\":\"Any\",\"default\":\"\"},{\"name\":\"clears\",\"kind\":\"Any\",\"default\":0}]},{\"type\":\"model\",\"name\":\"FastWrapper1\",\"properties\":[{\"name\":\"object\",\"kind\":\"Any\",\"default\":null},{\"name\":\"style\",\"kind\":\"Any\",\"default\":null}]},{\"type\":\"model\",\"name\":\"NotificationAreaBase1\",\"properties\":[{\"name\":\"js_events\",\"kind\":\"Any\",\"default\":{\"type\":\"map\"}},{\"name\":\"position\",\"kind\":\"Any\",\"default\":\"bottom-right\"},{\"name\":\"_clear\",\"kind\":\"Any\",\"default\":0}]},{\"type\":\"model\",\"name\":\"NotificationArea1\",\"properties\":[{\"name\":\"js_events\",\"kind\":\"Any\",\"default\":{\"type\":\"map\"}},{\"name\":\"notifications\",\"kind\":\"Any\",\"default\":[]},{\"name\":\"position\",\"kind\":\"Any\",\"default\":\"bottom-right\"},{\"name\":\"_clear\",\"kind\":\"Any\",\"default\":0},{\"name\":\"types\",\"kind\":\"Any\",\"default\":[{\"type\":\"map\",\"entries\":[[\"type\",\"warning\"],[\"background\",\"#ffc107\"],[\"icon\",{\"type\":\"map\",\"entries\":[[\"className\",\"fas fa-exclamation-triangle\"],[\"tagName\",\"i\"],[\"color\",\"white\"]]}]]},{\"type\":\"map\",\"entries\":[[\"type\",\"info\"],[\"background\",\"#007bff\"],[\"icon\",{\"type\":\"map\",\"entries\":[[\"className\",\"fas fa-info-circle\"],[\"tagName\",\"i\"],[\"color\",\"white\"]]}]]}]}]},{\"type\":\"model\",\"name\":\"Notification\",\"properties\":[{\"name\":\"background\",\"kind\":\"Any\",\"default\":null},{\"name\":\"duration\",\"kind\":\"Any\",\"default\":3000},{\"name\":\"icon\",\"kind\":\"Any\",\"default\":null},{\"name\":\"message\",\"kind\":\"Any\",\"default\":\"\"},{\"name\":\"notification_type\",\"kind\":\"Any\",\"default\":null},{\"name\":\"_destroyed\",\"kind\":\"Any\",\"default\":false}]},{\"type\":\"model\",\"name\":\"TemplateActions1\",\"properties\":[{\"name\":\"open_modal\",\"kind\":\"Any\",\"default\":0},{\"name\":\"close_modal\",\"kind\":\"Any\",\"default\":0}]},{\"type\":\"model\",\"name\":\"BootstrapTemplateActions1\",\"properties\":[{\"name\":\"open_modal\",\"kind\":\"Any\",\"default\":0},{\"name\":\"close_modal\",\"kind\":\"Any\",\"default\":0}]},{\"type\":\"model\",\"name\":\"TemplateEditor1\",\"properties\":[{\"name\":\"layout\",\"kind\":\"Any\",\"default\":[]}]},{\"type\":\"model\",\"name\":\"MaterialTemplateActions1\",\"properties\":[{\"name\":\"open_modal\",\"kind\":\"Any\",\"default\":0},{\"name\":\"close_modal\",\"kind\":\"Any\",\"default\":0}]},{\"type\":\"model\",\"name\":\"copy_to_clipboard1\",\"properties\":[{\"name\":\"fill\",\"kind\":\"Any\",\"default\":\"none\"},{\"name\":\"value\",\"kind\":\"Any\",\"default\":null}]}]}};\n",
       "  var render_items = [{\"docid\":\"9840a2b2-8725-4e63-a447-ad201e83a37a\",\"roots\":{\"3f1b8a4b-18c4-4eab-a418-c54e23c07e21\":\"a6414b1a-486e-4b7a-b82a-572a476fc02a\"},\"root_ids\":[\"3f1b8a4b-18c4-4eab-a418-c54e23c07e21\"]}];\n",
       "  var docs = Object.values(docs_json)\n",
       "  if (!docs) {\n",
       "    return\n",
       "  }\n",
       "  const py_version = docs[0].version.replace('rc', '-rc.').replace('.dev', '-dev.')\n",
       "  async function embed_document(root) {\n",
       "    var Bokeh = get_bokeh(root)\n",
       "    await Bokeh.embed.embed_items_notebook(docs_json, render_items);\n",
       "    for (const render_item of render_items) {\n",
       "      for (const root_id of render_item.root_ids) {\n",
       "\tconst id_el = document.getElementById(root_id)\n",
       "\tif (id_el.children.length && id_el.children[0].hasAttribute('data-root-id')) {\n",
       "\t  const root_el = id_el.children[0]\n",
       "\t  root_el.id = root_el.id + '-rendered'\n",
       "\t  for (const child of root_el.children) {\n",
       "            // Ensure JupyterLab does not capture keyboard shortcuts\n",
       "            // see: https://jupyterlab.readthedocs.io/en/4.1.x/extension/notebook.html#keyboard-interaction-model\n",
       "\t    child.setAttribute('data-lm-suppress-shortcuts', 'true')\n",
       "\t  }\n",
       "\t}\n",
       "      }\n",
       "    }\n",
       "  }\n",
       "  function get_bokeh(root) {\n",
       "    if (root.Bokeh === undefined) {\n",
       "      return null\n",
       "    } else if (root.Bokeh.version !== py_version) {\n",
       "      if (root.Bokeh.versions === undefined || !root.Bokeh.versions.has(py_version)) {\n",
       "\treturn null\n",
       "      }\n",
       "      return root.Bokeh.versions.get(py_version);\n",
       "    } else if (root.Bokeh.version === py_version) {\n",
       "      return root.Bokeh\n",
       "    }\n",
       "    return null\n",
       "  }\n",
       "  function is_loaded(root) {\n",
       "    var Bokeh = get_bokeh(root)\n",
       "    return (Bokeh != null && Bokeh.Panel !== undefined)\n",
       "  }\n",
       "  if (is_loaded(root)) {\n",
       "    embed_document(root);\n",
       "  } else {\n",
       "    var attempts = 0;\n",
       "    var timer = setInterval(function(root) {\n",
       "      if (is_loaded(root)) {\n",
       "        clearInterval(timer);\n",
       "        embed_document(root);\n",
       "      } else if (document.readyState == \"complete\") {\n",
       "        attempts++;\n",
       "        if (attempts > 200) {\n",
       "          clearInterval(timer);\n",
       "\t  var Bokeh = get_bokeh(root)\n",
       "\t  if (Bokeh == null || Bokeh.Panel == null) {\n",
       "            console.warn(\"Panel: ERROR: Unable to run Panel code because Bokeh or Panel library is missing\");\n",
       "\t  } else {\n",
       "\t    console.warn(\"Panel: WARNING: Attempting to render but not all required libraries could be resolved.\")\n",
       "\t    embed_document(root)\n",
       "\t  }\n",
       "        }\n",
       "      }\n",
       "    }, 25, root)\n",
       "  }\n",
       "})(window);</script>"
      ]
     },
     "metadata": {
      "application/vnd.holoviews_exec.v0+json": {
       "id": "3f1b8a4b-18c4-4eab-a418-c54e23c07e21"
      }
     },
     "output_type": "display_data"
    }
   ],
   "source": [
    "import pandas as pd\n",
    "import seaborn as sns\n",
    "import numpy as np\n",
    "import matplotlib.pyplot as plt\n",
    "from scipy.stats import zscore\n",
    "import hvplot.pandas \n",
    "import holoviews as hv\n",
    "from bokeh.models import LogTicker, FuncTickFormatter, FixedTicker"
   ]
  },
  {
   "cell_type": "code",
   "execution_count": 2,
   "metadata": {},
   "outputs": [
    {
     "name": "stdout",
     "output_type": "stream",
     "text": [
      "17\n",
      "<class 'pandas.core.frame.DataFrame'>\n",
      "RangeIndex: 247344 entries, 0 to 247343\n",
      "Data columns (total 17 columns):\n",
      " #   Column                                             Non-Null Count   Dtype  \n",
      "---  ------                                             --------------   -----  \n",
      " 0   VIN (1-10)                                         247344 non-null  object \n",
      " 1   County                                             247340 non-null  object \n",
      " 2   City                                               247340 non-null  object \n",
      " 3   State                                              247344 non-null  object \n",
      " 4   Postal Code                                        247340 non-null  float64\n",
      " 5   Model Year                                         247344 non-null  int64  \n",
      " 6   Make                                               247344 non-null  object \n",
      " 7   Model                                              247344 non-null  object \n",
      " 8   Electric Vehicle Type                              247344 non-null  object \n",
      " 9   Clean Alternative Fuel Vehicle (CAFV) Eligibility  247344 non-null  object \n",
      " 10  Electric Range                                     247324 non-null  float64\n",
      " 11  Base MSRP                                          247324 non-null  float64\n",
      " 12  Legislative District                               246791 non-null  float64\n",
      " 13  DOL Vehicle ID                                     247344 non-null  int64  \n",
      " 14  Vehicle Location                                   247333 non-null  object \n",
      " 15  Electric Utility                                   247340 non-null  object \n",
      " 16  2020 Census Tract                                  247340 non-null  float64\n",
      "dtypes: float64(5), int64(2), object(10)\n",
      "memory usage: 32.1+ MB\n",
      "None\n"
     ]
    },
    {
     "data": {
      "text/html": [
       "<div>\n",
       "<style scoped>\n",
       "    .dataframe tbody tr th:only-of-type {\n",
       "        vertical-align: middle;\n",
       "    }\n",
       "\n",
       "    .dataframe tbody tr th {\n",
       "        vertical-align: top;\n",
       "    }\n",
       "\n",
       "    .dataframe thead th {\n",
       "        text-align: right;\n",
       "    }\n",
       "</style>\n",
       "<table border=\"1\" class=\"dataframe\">\n",
       "  <thead>\n",
       "    <tr style=\"text-align: right;\">\n",
       "      <th></th>\n",
       "      <th>VIN (1-10)</th>\n",
       "      <th>County</th>\n",
       "      <th>City</th>\n",
       "      <th>State</th>\n",
       "      <th>Postal Code</th>\n",
       "      <th>Model Year</th>\n",
       "      <th>Make</th>\n",
       "      <th>Model</th>\n",
       "      <th>Electric Vehicle Type</th>\n",
       "      <th>Clean Alternative Fuel Vehicle (CAFV) Eligibility</th>\n",
       "      <th>Electric Range</th>\n",
       "      <th>Base MSRP</th>\n",
       "      <th>Legislative District</th>\n",
       "      <th>DOL Vehicle ID</th>\n",
       "      <th>Vehicle Location</th>\n",
       "      <th>Electric Utility</th>\n",
       "      <th>2020 Census Tract</th>\n",
       "    </tr>\n",
       "  </thead>\n",
       "  <tbody>\n",
       "    <tr>\n",
       "      <th>0</th>\n",
       "      <td>1N4BZ0CP5G</td>\n",
       "      <td>King</td>\n",
       "      <td>Seattle</td>\n",
       "      <td>WA</td>\n",
       "      <td>98125.0</td>\n",
       "      <td>2016</td>\n",
       "      <td>NISSAN</td>\n",
       "      <td>LEAF</td>\n",
       "      <td>Battery Electric Vehicle (BEV)</td>\n",
       "      <td>Clean Alternative Fuel Vehicle Eligible</td>\n",
       "      <td>84.0</td>\n",
       "      <td>0.0</td>\n",
       "      <td>46.0</td>\n",
       "      <td>349455557</td>\n",
       "      <td>POINT (-122.30253 47.72656)</td>\n",
       "      <td>CITY OF SEATTLE - (WA)|CITY OF TACOMA - (WA)</td>\n",
       "      <td>5.303300e+10</td>\n",
       "    </tr>\n",
       "  </tbody>\n",
       "</table>\n",
       "</div>"
      ],
      "text/plain": [
       "   VIN (1-10) County     City State  Postal Code  Model Year    Make Model  \\\n",
       "0  1N4BZ0CP5G   King  Seattle    WA      98125.0        2016  NISSAN  LEAF   \n",
       "\n",
       "            Electric Vehicle Type  \\\n",
       "0  Battery Electric Vehicle (BEV)   \n",
       "\n",
       "  Clean Alternative Fuel Vehicle (CAFV) Eligibility  Electric Range  \\\n",
       "0           Clean Alternative Fuel Vehicle Eligible            84.0   \n",
       "\n",
       "   Base MSRP  Legislative District  DOL Vehicle ID  \\\n",
       "0        0.0                  46.0       349455557   \n",
       "\n",
       "              Vehicle Location                              Electric Utility  \\\n",
       "0  POINT (-122.30253 47.72656)  CITY OF SEATTLE - (WA)|CITY OF TACOMA - (WA)   \n",
       "\n",
       "   2020 Census Tract  \n",
       "0       5.303300e+10  "
      ]
     },
     "execution_count": 2,
     "metadata": {},
     "output_type": "execute_result"
    }
   ],
   "source": [
    "df = pd.read_csv('./csv/Electric_Vehicle_Population_Data.csv')\n",
    "\n",
    "print(len(df.columns))\n",
    "print(df.info())\n",
    "df.head(1)"
   ]
  },
  {
   "cell_type": "markdown",
   "metadata": {},
   "source": [
    "### Checking various columns to see how many unique values there are\n",
    "some of these columns Ill probably be able to convert to categories instead of strings/objects for better performance\n",
    "Also based on the info method call above, and looking at column types, I might convert other column types where it makes sense\n",
    "\n",
    "As an example, some of the float columns would make more sense if they are ints, i.e. postal code"
   ]
  },
  {
   "cell_type": "code",
   "execution_count": 3,
   "metadata": {},
   "outputs": [
    {
     "data": {
      "text/plain": [
       "array(['Clean Alternative Fuel Vehicle Eligible',\n",
       "       'Not eligible due to low battery range',\n",
       "       'Eligibility unknown as battery range has not been researched'],\n",
       "      dtype=object)"
      ]
     },
     "execution_count": 3,
     "metadata": {},
     "output_type": "execute_result"
    }
   ],
   "source": [
    "df['Clean Alternative Fuel Vehicle (CAFV) Eligibility'].unique()\n"
   ]
  },
  {
   "cell_type": "code",
   "execution_count": 4,
   "metadata": {},
   "outputs": [
    {
     "data": {
      "text/plain": [
       "array(['Battery Electric Vehicle (BEV)',\n",
       "       'Plug-in Hybrid Electric Vehicle (PHEV)'], dtype=object)"
      ]
     },
     "execution_count": 4,
     "metadata": {},
     "output_type": "execute_result"
    }
   ],
   "source": [
    "df['Electric Vehicle Type'].unique()"
   ]
  },
  {
   "cell_type": "code",
   "execution_count": 77,
   "metadata": {},
   "outputs": [
    {
     "data": {
      "text/plain": [
       "array(['NISSAN', 'KIA', 'TESLA', 'JEEP', 'FORD', 'FIAT', 'AUDI',\n",
       "       'CHEVROLET', 'PORSCHE', 'HYUNDAI', 'BMW', 'RIVIAN', 'MAZDA',\n",
       "       'POLESTAR', 'TOYOTA', 'VOLVO', 'SUBARU', 'LEXUS', 'MINI', 'HONDA',\n",
       "       'MERCEDES-BENZ', 'CHRYSLER', 'VOLKSWAGEN', 'ALFA ROMEO', 'SMART',\n",
       "       'JAGUAR', 'CADILLAC', 'LINCOLN', 'MITSUBISHI', 'DODGE',\n",
       "       'LAND ROVER', 'ACURA', 'GMC', 'GENESIS', 'LUCID', 'FISKER',\n",
       "       'VINFAST', 'LAMBORGHINI', 'TH!NK', 'MULLEN AUTOMOTIVE INC.',\n",
       "       'ROLLS-ROYCE', 'BENTLEY', 'BRIGHTDROP', 'AZURE DYNAMICS', 'RAM',\n",
       "       'WHEEGO ELECTRIC CARS'], dtype=object)"
      ]
     },
     "execution_count": 77,
     "metadata": {},
     "output_type": "execute_result"
    }
   ],
   "source": [
    "df['Make'].unique()"
   ]
  },
  {
   "cell_type": "code",
   "execution_count": 6,
   "metadata": {},
   "outputs": [
    {
     "data": {
      "text/plain": [
       "array(['WA', 'BC', 'CA', 'NY', 'OR', 'WY', 'CO', 'MD', 'FL', 'NC', 'MN',\n",
       "       'VA', 'AZ', 'IL', 'NJ', 'GU', 'TX', 'NE', 'MO', 'IN', 'MA', 'AP',\n",
       "       'MI', 'GA', 'ID', 'UT', 'DC', 'SC', 'CT', 'AR', 'RI', 'NV', 'PA',\n",
       "       'KS', 'LA', 'OK', 'AL', 'HI', 'KY', 'NH', 'OH', 'NM', 'TN', 'ME',\n",
       "       'WI', 'DE', 'NS', 'MS', 'AK'], dtype=object)"
      ]
     },
     "execution_count": 6,
     "metadata": {},
     "output_type": "execute_result"
    }
   ],
   "source": [
    "df['State'].unique()"
   ]
  },
  {
   "cell_type": "code",
   "execution_count": 7,
   "metadata": {},
   "outputs": [
    {
     "data": {
      "text/plain": [
       "array(['Clean Alternative Fuel Vehicle Eligible',\n",
       "       'Not eligible due to low battery range',\n",
       "       'Eligibility unknown as battery range has not been researched'],\n",
       "      dtype=object)"
      ]
     },
     "execution_count": 7,
     "metadata": {},
     "output_type": "execute_result"
    }
   ],
   "source": [
    "df['Clean Alternative Fuel Vehicle (CAFV) Eligibility'].unique()"
   ]
  },
  {
   "cell_type": "markdown",
   "metadata": {},
   "source": [
    "Converting columns"
   ]
  },
  {
   "cell_type": "code",
   "execution_count": 78,
   "metadata": {},
   "outputs": [],
   "source": [
    "df['State'] = df['State'].astype('category')\n",
    "df['Electric Vehicle Type'] = df['Electric Vehicle Type'].astype('category')\n",
    "df['Clean Alternative Fuel Vehicle (CAFV) Eligibility'] = df['Clean Alternative Fuel Vehicle (CAFV) Eligibility'].astype('category')\n",
    "df['Postal Code'] = df['Postal Code'].astype('Int64')\n",
    "df['Electric Range'] = df['Electric Range'].astype('Int64')\n",
    "df['Legislative District'] = df['Legislative District'].astype('Int64')\n",
    "\n"
   ]
  },
  {
   "cell_type": "markdown",
   "metadata": {},
   "source": [
    "Adding extra region column for comparison later"
   ]
  },
  {
   "cell_type": "code",
   "execution_count": 179,
   "metadata": {},
   "outputs": [
    {
     "data": {
      "text/html": [
       "<div>\n",
       "<style scoped>\n",
       "    .dataframe tbody tr th:only-of-type {\n",
       "        vertical-align: middle;\n",
       "    }\n",
       "\n",
       "    .dataframe tbody tr th {\n",
       "        vertical-align: top;\n",
       "    }\n",
       "\n",
       "    .dataframe thead th {\n",
       "        text-align: right;\n",
       "    }\n",
       "</style>\n",
       "<table border=\"1\" class=\"dataframe\">\n",
       "  <thead>\n",
       "    <tr style=\"text-align: right;\">\n",
       "      <th></th>\n",
       "      <th>VIN (1-10)</th>\n",
       "      <th>County</th>\n",
       "      <th>City</th>\n",
       "      <th>State</th>\n",
       "      <th>Postal Code</th>\n",
       "      <th>Model Year</th>\n",
       "      <th>Make</th>\n",
       "      <th>Model</th>\n",
       "      <th>Electric Vehicle Type</th>\n",
       "      <th>Clean Alternative Fuel Vehicle (CAFV) Eligibility</th>\n",
       "      <th>Electric Range</th>\n",
       "      <th>Base MSRP</th>\n",
       "      <th>Legislative District</th>\n",
       "      <th>DOL Vehicle ID</th>\n",
       "      <th>Vehicle Location</th>\n",
       "      <th>Electric Utility</th>\n",
       "      <th>2020 Census Tract</th>\n",
       "      <th>Region</th>\n",
       "      <th>EV Regional Origin</th>\n",
       "    </tr>\n",
       "  </thead>\n",
       "  <tbody>\n",
       "    <tr>\n",
       "      <th>0</th>\n",
       "      <td>1N4BZ0CP5G</td>\n",
       "      <td>King</td>\n",
       "      <td>Seattle</td>\n",
       "      <td>WA</td>\n",
       "      <td>98125</td>\n",
       "      <td>2016</td>\n",
       "      <td>NISSAN</td>\n",
       "      <td>LEAF</td>\n",
       "      <td>Battery Electric Vehicle (BEV)</td>\n",
       "      <td>Clean Alternative Fuel Vehicle Eligible</td>\n",
       "      <td>84</td>\n",
       "      <td>0.0</td>\n",
       "      <td>46</td>\n",
       "      <td>349455557</td>\n",
       "      <td>POINT (-122.30253 47.72656)</td>\n",
       "      <td>CITY OF SEATTLE - (WA)|CITY OF TACOMA - (WA)</td>\n",
       "      <td>5.303300e+10</td>\n",
       "      <td>Asia</td>\n",
       "      <td>Asia</td>\n",
       "    </tr>\n",
       "    <tr>\n",
       "      <th>1</th>\n",
       "      <td>KNDJX3AEXG</td>\n",
       "      <td>King</td>\n",
       "      <td>Renton</td>\n",
       "      <td>WA</td>\n",
       "      <td>98058</td>\n",
       "      <td>2016</td>\n",
       "      <td>KIA</td>\n",
       "      <td>SOUL</td>\n",
       "      <td>Battery Electric Vehicle (BEV)</td>\n",
       "      <td>Clean Alternative Fuel Vehicle Eligible</td>\n",
       "      <td>93</td>\n",
       "      <td>31950.0</td>\n",
       "      <td>11</td>\n",
       "      <td>210641315</td>\n",
       "      <td>POINT (-122.08747 47.4466)</td>\n",
       "      <td>PUGET SOUND ENERGY INC||CITY OF TACOMA - (WA)</td>\n",
       "      <td>5.303303e+10</td>\n",
       "      <td>Asia</td>\n",
       "      <td>Asia</td>\n",
       "    </tr>\n",
       "    <tr>\n",
       "      <th>2</th>\n",
       "      <td>5YJ3E1EB2J</td>\n",
       "      <td>King</td>\n",
       "      <td>Seattle</td>\n",
       "      <td>WA</td>\n",
       "      <td>98115</td>\n",
       "      <td>2018</td>\n",
       "      <td>TESLA</td>\n",
       "      <td>MODEL 3</td>\n",
       "      <td>Battery Electric Vehicle (BEV)</td>\n",
       "      <td>Clean Alternative Fuel Vehicle Eligible</td>\n",
       "      <td>215</td>\n",
       "      <td>0.0</td>\n",
       "      <td>43</td>\n",
       "      <td>171417494</td>\n",
       "      <td>POINT (-122.31676 47.68156)</td>\n",
       "      <td>CITY OF SEATTLE - (WA)|CITY OF TACOMA - (WA)</td>\n",
       "      <td>5.303300e+10</td>\n",
       "      <td>North America</td>\n",
       "      <td>North America</td>\n",
       "    </tr>\n",
       "    <tr>\n",
       "      <th>3</th>\n",
       "      <td>1C4RJXN64R</td>\n",
       "      <td>Kitsap</td>\n",
       "      <td>Bremerton</td>\n",
       "      <td>WA</td>\n",
       "      <td>98312</td>\n",
       "      <td>2024</td>\n",
       "      <td>JEEP</td>\n",
       "      <td>WRANGLER</td>\n",
       "      <td>Plug-in Hybrid Electric Vehicle (PHEV)</td>\n",
       "      <td>Not eligible due to low battery range</td>\n",
       "      <td>21</td>\n",
       "      <td>0.0</td>\n",
       "      <td>26</td>\n",
       "      <td>262542927</td>\n",
       "      <td>POINT (-122.65223 47.57192)</td>\n",
       "      <td>PUGET SOUND ENERGY INC</td>\n",
       "      <td>5.303508e+10</td>\n",
       "      <td>North America</td>\n",
       "      <td>North America</td>\n",
       "    </tr>\n",
       "    <tr>\n",
       "      <th>4</th>\n",
       "      <td>5YJ3E1EB1J</td>\n",
       "      <td>Thurston</td>\n",
       "      <td>Olympia</td>\n",
       "      <td>WA</td>\n",
       "      <td>98512</td>\n",
       "      <td>2018</td>\n",
       "      <td>TESLA</td>\n",
       "      <td>MODEL 3</td>\n",
       "      <td>Battery Electric Vehicle (BEV)</td>\n",
       "      <td>Clean Alternative Fuel Vehicle Eligible</td>\n",
       "      <td>215</td>\n",
       "      <td>0.0</td>\n",
       "      <td>35</td>\n",
       "      <td>110432815</td>\n",
       "      <td>POINT (-122.9131 47.01359)</td>\n",
       "      <td>PUGET SOUND ENERGY INC</td>\n",
       "      <td>5.306701e+10</td>\n",
       "      <td>North America</td>\n",
       "      <td>North America</td>\n",
       "    </tr>\n",
       "  </tbody>\n",
       "</table>\n",
       "</div>"
      ],
      "text/plain": [
       "   VIN (1-10)    County       City State  Postal Code  Model Year    Make  \\\n",
       "0  1N4BZ0CP5G      King    Seattle    WA        98125        2016  NISSAN   \n",
       "1  KNDJX3AEXG      King     Renton    WA        98058        2016     KIA   \n",
       "2  5YJ3E1EB2J      King    Seattle    WA        98115        2018   TESLA   \n",
       "3  1C4RJXN64R    Kitsap  Bremerton    WA        98312        2024    JEEP   \n",
       "4  5YJ3E1EB1J  Thurston    Olympia    WA        98512        2018   TESLA   \n",
       "\n",
       "      Model                   Electric Vehicle Type  \\\n",
       "0      LEAF          Battery Electric Vehicle (BEV)   \n",
       "1      SOUL          Battery Electric Vehicle (BEV)   \n",
       "2   MODEL 3          Battery Electric Vehicle (BEV)   \n",
       "3  WRANGLER  Plug-in Hybrid Electric Vehicle (PHEV)   \n",
       "4   MODEL 3          Battery Electric Vehicle (BEV)   \n",
       "\n",
       "  Clean Alternative Fuel Vehicle (CAFV) Eligibility  Electric Range  \\\n",
       "0           Clean Alternative Fuel Vehicle Eligible              84   \n",
       "1           Clean Alternative Fuel Vehicle Eligible              93   \n",
       "2           Clean Alternative Fuel Vehicle Eligible             215   \n",
       "3             Not eligible due to low battery range              21   \n",
       "4           Clean Alternative Fuel Vehicle Eligible             215   \n",
       "\n",
       "   Base MSRP  Legislative District  DOL Vehicle ID  \\\n",
       "0        0.0                    46       349455557   \n",
       "1    31950.0                    11       210641315   \n",
       "2        0.0                    43       171417494   \n",
       "3        0.0                    26       262542927   \n",
       "4        0.0                    35       110432815   \n",
       "\n",
       "              Vehicle Location                               Electric Utility  \\\n",
       "0  POINT (-122.30253 47.72656)   CITY OF SEATTLE - (WA)|CITY OF TACOMA - (WA)   \n",
       "1   POINT (-122.08747 47.4466)  PUGET SOUND ENERGY INC||CITY OF TACOMA - (WA)   \n",
       "2  POINT (-122.31676 47.68156)   CITY OF SEATTLE - (WA)|CITY OF TACOMA - (WA)   \n",
       "3  POINT (-122.65223 47.57192)                         PUGET SOUND ENERGY INC   \n",
       "4   POINT (-122.9131 47.01359)                         PUGET SOUND ENERGY INC   \n",
       "\n",
       "   2020 Census Tract         Region EV Regional Origin  \n",
       "0       5.303300e+10           Asia               Asia  \n",
       "1       5.303303e+10           Asia               Asia  \n",
       "2       5.303300e+10  North America      North America  \n",
       "3       5.303508e+10  North America      North America  \n",
       "4       5.306701e+10  North America      North America  "
      ]
     },
     "execution_count": 179,
     "metadata": {},
     "output_type": "execute_result"
    }
   ],
   "source": [
    "north_america = ['TESLA', 'JEEP', 'FORD', 'CHEVROLET', 'RIVIAN', 'CHRYSLER', 'CADILLAC', 'LINCOLN', 'DODGE', 'GMC', 'LUCID', 'FISKER', 'MULLEN AUTOMOTIVE INC.', 'BRIGHTDROP', 'RAM', 'AZURE DYNAMICS', 'WHEEGO ELECTRIC CARS']\n",
    "asia = ['NISSAN', 'KIA', 'HYUNDAI', 'MAZDA', 'TOYOTA', 'SUBARU', 'LEXUS', 'HONDA', 'MITSUBISHI', 'ACURA', 'GENESIS', 'VINFAST']\n",
    "europe = ['FIAT', 'AUDI', 'PORSCHE', 'BMW', 'POLESTAR', 'VOLVO', 'MINI', 'MERCEDES-BENZ', 'VOLKSWAGEN', 'ALFA ROMEO', 'SMART', 'JAGUAR', 'LAND ROVER', 'LAMBORGHINI', 'TH!NK', 'ROLLS-ROYCE', 'BENTLEY']\n",
    "def region_check(car_make):\n",
    "    if car_make in north_america:\n",
    "        return 'North America'\n",
    "    elif car_make in asia:\n",
    "        return 'Asia'\n",
    "    else:\n",
    "        return 'Europe'\n",
    "\n",
    "\n",
    "df['EV Regional Origin'] = df['Make'].apply(region_check)\n",
    "\n",
    "df.head()"
   ]
  },
  {
   "cell_type": "markdown",
   "metadata": {},
   "source": [
    "## Doing some exploration\n"
   ]
  },
  {
   "cell_type": "markdown",
   "metadata": {},
   "source": [
    "### Bar Plot of number of EVs for Each Model Year"
   ]
  },
  {
   "cell_type": "code",
   "execution_count": 181,
   "metadata": {},
   "outputs": [
    {
     "name": "stderr",
     "output_type": "stream",
     "text": [
      "WARNING:param.main: C option not found for bar plot with bokeh; similar options include: []\n",
      "WARNING:param.OverlayPlot02745: Logarithmic axis range encountered value less than or equal to zero, please supply explicit lower bound to override default of 0.010.\n"
     ]
    },
    {
     "name": "stdout",
     "output_type": "stream",
     "text": [
      "46\n",
      "[2016 2018 2024 2015 2019 2020 2012 2013 2022 2023 2017 2014 2021 2000\n",
      " 2025 2011 2026 2010 2008 2002 2003]\n"
     ]
    },
    {
     "data": {},
     "metadata": {},
     "output_type": "display_data"
    },
    {
     "data": {
      "application/vnd.holoviews_exec.v0+json": "",
      "text/html": [
       "<div id='f15cc4f3-a800-4adf-bba1-9abe3b5d663f'>\n",
       "  <div id=\"fb046cc5-dbac-424c-b707-b34148bf9bd9\" data-root-id=\"f15cc4f3-a800-4adf-bba1-9abe3b5d663f\" style=\"display: contents;\"></div>\n",
       "</div>\n",
       "<script type=\"application/javascript\">(function(root) {\n",
       "  var docs_json = {\"b9f3c1a8-7ab3-4e3a-b52c-efe11c8d2197\":{\"version\":\"3.4.3\",\"title\":\"Bokeh Application\",\"roots\":[{\"type\":\"object\",\"name\":\"Row\",\"id\":\"f15cc4f3-a800-4adf-bba1-9abe3b5d663f\",\"attributes\":{\"name\":\"Row02735\",\"tags\":[\"embedded\"],\"stylesheets\":[\"\\n:host(.pn-loading):before, .pn-loading:before {\\n  background-color: #c3c3c3;\\n  mask-size: auto calc(min(50%, 400px));\\n  -webkit-mask-size: auto calc(min(50%, 400px));\\n}\",{\"type\":\"object\",\"name\":\"ImportedStyleSheet\",\"id\":\"ce1b05e9-bf5c-4e0d-81f5-7bc3568ddccc\",\"attributes\":{\"url\":\"https://cdn.holoviz.org/panel/1.4.5/dist/css/loading.css\"}},{\"type\":\"object\",\"name\":\"ImportedStyleSheet\",\"id\":\"d8de0c6d-428e-405e-b1d7-999ed7eecd32\",\"attributes\":{\"url\":\"https://cdn.holoviz.org/panel/1.4.5/dist/css/listpanel.css\"}},{\"type\":\"object\",\"name\":\"ImportedStyleSheet\",\"id\":\"d90ff278-d096-443b-92b3-118043a895a8\",\"attributes\":{\"url\":\"https://cdn.holoviz.org/panel/1.4.5/dist/bundled/theme/default.css\"}},{\"type\":\"object\",\"name\":\"ImportedStyleSheet\",\"id\":\"eeaa6b5a-25c6-4081-ab83-b6667c59c8f6\",\"attributes\":{\"url\":\"https://cdn.holoviz.org/panel/1.4.5/dist/bundled/theme/native.css\"}}],\"min_width\":700,\"margin\":0,\"sizing_mode\":\"stretch_width\",\"align\":\"start\",\"children\":[{\"type\":\"object\",\"name\":\"Spacer\",\"id\":\"2ea7268a-7a90-49fa-90c8-c0be039a0b55\",\"attributes\":{\"name\":\"HSpacer02739\",\"stylesheets\":[\"\\n:host(.pn-loading):before, .pn-loading:before {\\n  background-color: #c3c3c3;\\n  mask-size: auto calc(min(50%, 400px));\\n  -webkit-mask-size: auto calc(min(50%, 400px));\\n}\",{\"id\":\"ce1b05e9-bf5c-4e0d-81f5-7bc3568ddccc\"},{\"id\":\"d90ff278-d096-443b-92b3-118043a895a8\"},{\"id\":\"eeaa6b5a-25c6-4081-ab83-b6667c59c8f6\"}],\"margin\":0,\"sizing_mode\":\"stretch_width\",\"align\":\"start\"}},{\"type\":\"object\",\"name\":\"Figure\",\"id\":\"af30be87-597c-4823-85b9-f1a936216522\",\"attributes\":{\"width\":700,\"height\":300,\"margin\":[5,10],\"sizing_mode\":\"fixed\",\"align\":\"start\",\"x_range\":{\"type\":\"object\",\"name\":\"Range1d\",\"id\":\"5061327f-a009-4485-a365-aa756828ddb0\",\"attributes\":{\"name\":\"Model Year\",\"tags\":[[[\"Model Year\",null]],[]],\"start\":1998.8857142857144,\"end\":2027.1142857142856,\"reset_start\":1998.8857142857144,\"reset_end\":2027.1142857142856}},\"y_range\":{\"type\":\"object\",\"name\":\"Range1d\",\"id\":\"24465ce9-a9a6-44e7-8b20-0f265dd1b657\",\"attributes\":{\"name\":\"Number of EVs\",\"tags\":[[[\"Number of EVs\",null]],{\"type\":\"map\",\"entries\":[[\"invert_yaxis\",false],[\"autorange\",false]]}],\"start\":0.01,\"end\":177275.7042492717,\"reset_start\":0.01,\"reset_end\":177275.7042492717}},\"x_scale\":{\"type\":\"object\",\"name\":\"LinearScale\",\"id\":\"1eb99a10-9061-4ed2-af4d-f96be3a50374\"},\"y_scale\":{\"type\":\"object\",\"name\":\"LogScale\",\"id\":\"15f813d9-ba6b-4289-8024-1d2d4975ee1e\"},\"title\":{\"type\":\"object\",\"name\":\"Title\",\"id\":\"b2a96c09-7327-4164-92f1-355d42740c5a\",\"attributes\":{\"text\":\"Number of Registered EVs in WA Per Model Year\",\"text_color\":\"black\",\"text_font_size\":\"12pt\"}},\"renderers\":[{\"type\":\"object\",\"name\":\"GlyphRenderer\",\"id\":\"c3a714f5-87e9-462f-b42d-0c86f6ac75a1\",\"attributes\":{\"data_source\":{\"type\":\"object\",\"name\":\"ColumnDataSource\",\"id\":\"b0341d7b-bc7d-4a8f-ad48-cfc8faccce64\",\"attributes\":{\"selected\":{\"type\":\"object\",\"name\":\"Selection\",\"id\":\"6d13b8c9-b9e7-4eb3-b25a-91bb1939c54b\",\"attributes\":{\"indices\":[],\"line_indices\":[]}},\"selection_policy\":{\"type\":\"object\",\"name\":\"UnionRenderers\",\"id\":\"18c67297-4091-464b-b691-73a1f22165db\"},\"data\":{\"type\":\"map\",\"entries\":[[\"Model_Year\",{\"type\":\"ndarray\",\"array\":{\"type\":\"bytes\",\"data\":\"0AcAANIHAADTBwAA2AcAANoHAADbBwAA3AcAAN0HAADeBwAA3wcAAOAHAADhBwAA4gcAAOMHAADkBwAA5QcAAOYHAADnBwAA6AcAAOkHAADqBwAA\"},\"shape\":[21],\"dtype\":\"int32\",\"order\":\"little\"}],[\"Number_of_EVs\",{\"type\":\"ndarray\",\"array\":{\"type\":\"bytes\",\"data\":\"CAAAAAIAAAABAAAAEQAAABcAAACQAgAAtgUAAEgQAAAkDQAABRIAALYUAAAzIgAAqDgAAC8rAABmMAAAOlEAAJlyAADQ5gAAh8IAAFRRAACiBAAA\"},\"shape\":[21],\"dtype\":\"int32\",\"order\":\"little\"}]]}}},\"view\":{\"type\":\"object\",\"name\":\"CDSView\",\"id\":\"00db87a2-4e69-48ed-83e1-83b3b9ea4a75\",\"attributes\":{\"filter\":{\"type\":\"object\",\"name\":\"AllIndices\",\"id\":\"268cd810-e739-45fa-8d47-3783ba621079\"}}},\"glyph\":{\"type\":\"object\",\"name\":\"VBar\",\"id\":\"6504d052-dae7-478d-98dc-b1641089b252\",\"attributes\":{\"tags\":[\"apply_ranges\"],\"x\":{\"type\":\"field\",\"field\":\"Model_Year\"},\"width\":{\"type\":\"value\",\"value\":0.16},\"bottom\":{\"type\":\"value\",\"value\":0.01},\"top\":{\"type\":\"field\",\"field\":\"Number_of_EVs\"},\"fill_color\":{\"type\":\"value\",\"value\":\"#30a2da\"},\"hatch_color\":{\"type\":\"value\",\"value\":\"#30a2da\"}}},\"selection_glyph\":{\"type\":\"object\",\"name\":\"VBar\",\"id\":\"782787f7-7b55-4212-806b-85b3622de189\",\"attributes\":{\"tags\":[\"apply_ranges\"],\"x\":{\"type\":\"field\",\"field\":\"Model_Year\"},\"width\":{\"type\":\"value\",\"value\":0.16},\"bottom\":{\"type\":\"value\",\"value\":0.01},\"top\":{\"type\":\"field\",\"field\":\"Number_of_EVs\"},\"line_color\":{\"type\":\"value\",\"value\":\"black\"},\"line_alpha\":{\"type\":\"value\",\"value\":1.0},\"line_width\":{\"type\":\"value\",\"value\":1},\"line_join\":{\"type\":\"value\",\"value\":\"bevel\"},\"line_cap\":{\"type\":\"value\",\"value\":\"butt\"},\"line_dash\":{\"type\":\"value\",\"value\":[]},\"line_dash_offset\":{\"type\":\"value\",\"value\":0},\"fill_color\":{\"type\":\"value\",\"value\":\"#30a2da\"},\"fill_alpha\":{\"type\":\"value\",\"value\":1.0},\"hatch_color\":{\"type\":\"value\",\"value\":\"#30a2da\"},\"hatch_alpha\":{\"type\":\"value\",\"value\":1.0},\"hatch_scale\":{\"type\":\"value\",\"value\":12.0},\"hatch_pattern\":{\"type\":\"value\",\"value\":null},\"hatch_weight\":{\"type\":\"value\",\"value\":1.0}}},\"nonselection_glyph\":{\"type\":\"object\",\"name\":\"VBar\",\"id\":\"f4e72d65-d9d3-49b0-811d-6f96c4da3c94\",\"attributes\":{\"tags\":[\"apply_ranges\"],\"x\":{\"type\":\"field\",\"field\":\"Model_Year\"},\"width\":{\"type\":\"value\",\"value\":0.16},\"bottom\":{\"type\":\"value\",\"value\":0.01},\"top\":{\"type\":\"field\",\"field\":\"Number_of_EVs\"},\"line_alpha\":{\"type\":\"value\",\"value\":0.1},\"fill_color\":{\"type\":\"value\",\"value\":\"#30a2da\"},\"fill_alpha\":{\"type\":\"value\",\"value\":0.1},\"hatch_color\":{\"type\":\"value\",\"value\":\"#30a2da\"},\"hatch_alpha\":{\"type\":\"value\",\"value\":0.1}}},\"muted_glyph\":{\"type\":\"object\",\"name\":\"VBar\",\"id\":\"4b62106a-5be0-4286-afd4-7fceed081ed9\",\"attributes\":{\"tags\":[\"apply_ranges\"],\"x\":{\"type\":\"field\",\"field\":\"Model_Year\"},\"width\":{\"type\":\"value\",\"value\":0.16},\"bottom\":{\"type\":\"value\",\"value\":0.01},\"top\":{\"type\":\"field\",\"field\":\"Number_of_EVs\"},\"line_alpha\":{\"type\":\"value\",\"value\":0.2},\"fill_color\":{\"type\":\"value\",\"value\":\"#30a2da\"},\"fill_alpha\":{\"type\":\"value\",\"value\":0.2},\"hatch_color\":{\"type\":\"value\",\"value\":\"#30a2da\"},\"hatch_alpha\":{\"type\":\"value\",\"value\":0.2}}}}},{\"type\":\"object\",\"name\":\"GlyphRenderer\",\"id\":\"e94d4be8-433b-48a7-9d8b-65903c2a3dc2\",\"attributes\":{\"data_source\":{\"type\":\"object\",\"name\":\"ColumnDataSource\",\"id\":\"b9e7e8b6-905f-4b3d-ab55-187ed6be1e82\",\"attributes\":{\"selected\":{\"type\":\"object\",\"name\":\"Selection\",\"id\":\"b04a4726-ad48-46a3-91b4-863f08515ba9\",\"attributes\":{\"indices\":[],\"line_indices\":[]}},\"selection_policy\":{\"type\":\"object\",\"name\":\"UnionRenderers\",\"id\":\"03bba7ee-dbd6-4f89-99b2-9cd8fd10441f\"},\"data\":{\"type\":\"map\",\"entries\":[[\"x\",[2001]],[\"y\",[120]],[\"text\",[\"*Unit increase in Y = 10\\u00d7 more EVs\"]]]}}},\"view\":{\"type\":\"object\",\"name\":\"CDSView\",\"id\":\"aa44cb0f-af33-48b7-83f4-51cceb3451bb\",\"attributes\":{\"filter\":{\"type\":\"object\",\"name\":\"AllIndices\",\"id\":\"604a0fde-3a63-4f34-a6d1-0673211a5a6f\"}}},\"glyph\":{\"type\":\"object\",\"name\":\"Text\",\"id\":\"514911d9-7969-4974-a0d3-04a7259f0012\",\"attributes\":{\"tags\":[\"apply_ranges\"],\"x\":{\"type\":\"field\",\"field\":\"x\"},\"y\":{\"type\":\"field\",\"field\":\"y\"},\"text\":{\"type\":\"field\",\"field\":\"text\"},\"text_color\":{\"type\":\"value\",\"value\":\"black\"},\"text_font_size\":{\"type\":\"value\",\"value\":\"10pt\"},\"text_baseline\":{\"type\":\"value\",\"value\":\"middle\"}}},\"selection_glyph\":{\"type\":\"object\",\"name\":\"Text\",\"id\":\"baf59713-ca2e-4e0e-a5ce-24fa5897090b\",\"attributes\":{\"tags\":[\"apply_ranges\"],\"x\":{\"type\":\"field\",\"field\":\"x\"},\"y\":{\"type\":\"field\",\"field\":\"y\"},\"text\":{\"type\":\"field\",\"field\":\"text\"},\"angle\":{\"type\":\"value\",\"value\":0.0},\"x_offset\":{\"type\":\"value\",\"value\":0},\"y_offset\":{\"type\":\"value\",\"value\":0},\"text_color\":{\"type\":\"value\",\"value\":\"black\"},\"text_outline_color\":{\"type\":\"value\",\"value\":null},\"text_alpha\":{\"type\":\"value\",\"value\":1.0},\"text_font_size\":{\"type\":\"value\",\"value\":\"10pt\"},\"text_font_style\":{\"type\":\"value\",\"value\":\"normal\"},\"text_align\":{\"type\":\"value\",\"value\":\"left\"},\"text_baseline\":{\"type\":\"value\",\"value\":\"middle\"},\"text_line_height\":{\"type\":\"value\",\"value\":1.2},\"background_fill_color\":{\"type\":\"value\",\"value\":null},\"background_fill_alpha\":{\"type\":\"value\",\"value\":1.0},\"background_hatch_color\":{\"type\":\"value\",\"value\":null},\"background_hatch_alpha\":{\"type\":\"value\",\"value\":1.0},\"background_hatch_scale\":{\"type\":\"value\",\"value\":12.0},\"background_hatch_pattern\":{\"type\":\"value\",\"value\":null},\"background_hatch_weight\":{\"type\":\"value\",\"value\":1.0},\"border_line_color\":{\"type\":\"value\",\"value\":null},\"border_line_alpha\":{\"type\":\"value\",\"value\":1.0},\"border_line_width\":{\"type\":\"value\",\"value\":1},\"border_line_join\":{\"type\":\"value\",\"value\":\"bevel\"},\"border_line_cap\":{\"type\":\"value\",\"value\":\"butt\"},\"border_line_dash\":{\"type\":\"value\",\"value\":[]},\"border_line_dash_offset\":{\"type\":\"value\",\"value\":0}}},\"nonselection_glyph\":{\"type\":\"object\",\"name\":\"Text\",\"id\":\"86e45721-ced8-4c47-aa30-41bd8bc7d161\",\"attributes\":{\"tags\":[\"apply_ranges\"],\"x\":{\"type\":\"field\",\"field\":\"x\"},\"y\":{\"type\":\"field\",\"field\":\"y\"},\"text\":{\"type\":\"field\",\"field\":\"text\"},\"text_color\":{\"type\":\"value\",\"value\":\"black\"},\"text_alpha\":{\"type\":\"value\",\"value\":0.1},\"text_font_size\":{\"type\":\"value\",\"value\":\"10pt\"},\"text_baseline\":{\"type\":\"value\",\"value\":\"middle\"}}},\"muted_glyph\":{\"type\":\"object\",\"name\":\"Text\",\"id\":\"0cbe5970-7589-478e-b8f0-0de4d4157811\",\"attributes\":{\"tags\":[\"apply_ranges\"],\"x\":{\"type\":\"field\",\"field\":\"x\"},\"y\":{\"type\":\"field\",\"field\":\"y\"},\"text\":{\"type\":\"field\",\"field\":\"text\"},\"text_color\":{\"type\":\"value\",\"value\":\"black\"},\"text_alpha\":{\"type\":\"value\",\"value\":0.2},\"text_font_size\":{\"type\":\"value\",\"value\":\"10pt\"},\"text_baseline\":{\"type\":\"value\",\"value\":\"middle\"}}}}}],\"toolbar\":{\"type\":\"object\",\"name\":\"Toolbar\",\"id\":\"b9c637d3-3779-4b6b-8020-bb36d5a36f37\",\"attributes\":{\"tools\":[{\"type\":\"object\",\"name\":\"WheelZoomTool\",\"id\":\"d536e0cc-05c2-499e-a591-37d90047811e\",\"attributes\":{\"tags\":[\"hv_created\"],\"renderers\":\"auto\",\"zoom_together\":\"none\"}},{\"type\":\"object\",\"name\":\"HoverTool\",\"id\":\"d177782b-5464-432a-9323-ba25f2c55e33\",\"attributes\":{\"tags\":[\"hv_created\"],\"renderers\":[{\"id\":\"c3a714f5-87e9-462f-b42d-0c86f6ac75a1\"}],\"tooltips\":[[\"Model Year\",\"@{Model_Year}\"],[\"Number of EVs\",\"@{Number_of_EVs}\"]]}},{\"type\":\"object\",\"name\":\"SaveTool\",\"id\":\"09882b81-8340-4d21-a29a-fe9482c68db0\"},{\"type\":\"object\",\"name\":\"PanTool\",\"id\":\"d2cb2b05-5326-4082-9b95-eeb08ff96e64\"},{\"type\":\"object\",\"name\":\"BoxZoomTool\",\"id\":\"718d267b-7067-41fe-b9d0-61bbd0241780\",\"attributes\":{\"overlay\":{\"type\":\"object\",\"name\":\"BoxAnnotation\",\"id\":\"194095cf-d788-46e6-a6c8-4a1dc5c313a5\",\"attributes\":{\"syncable\":false,\"level\":\"overlay\",\"visible\":false,\"left\":{\"type\":\"number\",\"value\":\"nan\"},\"right\":{\"type\":\"number\",\"value\":\"nan\"},\"top\":{\"type\":\"number\",\"value\":\"nan\"},\"bottom\":{\"type\":\"number\",\"value\":\"nan\"},\"left_units\":\"canvas\",\"right_units\":\"canvas\",\"top_units\":\"canvas\",\"bottom_units\":\"canvas\",\"line_color\":\"black\",\"line_alpha\":1.0,\"line_width\":2,\"line_dash\":[4,4],\"fill_color\":\"lightgrey\",\"fill_alpha\":0.5}}}},{\"type\":\"object\",\"name\":\"ResetTool\",\"id\":\"5e03ca13-723e-4c10-8967-53187f369446\"}],\"active_drag\":{\"id\":\"d2cb2b05-5326-4082-9b95-eeb08ff96e64\"},\"active_scroll\":{\"id\":\"d536e0cc-05c2-499e-a591-37d90047811e\"}}},\"left\":[{\"type\":\"object\",\"name\":\"LogAxis\",\"id\":\"ce11715b-4b28-40ca-8ef4-40290513a863\",\"attributes\":{\"ticker\":{\"type\":\"object\",\"name\":\"LogTicker\",\"id\":\"f9578aeb-f410-439d-ac4f-d1aa1a204f6e\",\"attributes\":{\"num_minor_ticks\":10,\"mantissas\":[1,5]}},\"formatter\":{\"type\":\"object\",\"name\":\"LogTickFormatter\",\"id\":\"48b35b4e-d689-4295-8545-3872d4805097\"},\"axis_label\":\"Number of Registered EVs (Log Scale)\",\"major_label_policy\":{\"type\":\"object\",\"name\":\"AllLabels\",\"id\":\"6be95e44-a216-4aed-8bfc-4bbd11ac8ec7\"}}}],\"below\":[{\"type\":\"object\",\"name\":\"LinearAxis\",\"id\":\"7e622b67-5e8e-4784-a289-946b6c15f315\",\"attributes\":{\"ticker\":{\"type\":\"object\",\"name\":\"BasicTicker\",\"id\":\"a67c0132-8863-43d2-8257-305d01f000cb\",\"attributes\":{\"mantissas\":[1,2,5]}},\"formatter\":{\"type\":\"object\",\"name\":\"BasicTickFormatter\",\"id\":\"63fcb12d-0f72-4edb-9208-28cd55510044\"},\"axis_label\":\"Model Year\",\"major_label_policy\":{\"type\":\"object\",\"name\":\"AllLabels\",\"id\":\"db5fbbcb-1094-4b01-89bc-435d1dd3972a\"}}}],\"center\":[{\"type\":\"object\",\"name\":\"Grid\",\"id\":\"8225a057-7c3c-4267-bb76-05f0d00a215a\",\"attributes\":{\"axis\":{\"id\":\"7e622b67-5e8e-4784-a289-946b6c15f315\"},\"ticker\":{\"id\":\"a67c0132-8863-43d2-8257-305d01f000cb\"}}},{\"type\":\"object\",\"name\":\"Grid\",\"id\":\"adfbe630-1c75-4f47-9f8e-903be5355334\",\"attributes\":{\"dimension\":1,\"axis\":{\"id\":\"ce11715b-4b28-40ca-8ef4-40290513a863\"},\"ticker\":{\"id\":\"f9578aeb-f410-439d-ac4f-d1aa1a204f6e\"}}}],\"background_fill_color\":\"white\",\"min_border_top\":10,\"min_border_bottom\":10,\"min_border_left\":10,\"min_border_right\":10,\"output_backend\":\"webgl\"}},{\"type\":\"object\",\"name\":\"Spacer\",\"id\":\"74db586b-bc7d-464e-aa1e-f4b0874da662\",\"attributes\":{\"name\":\"HSpacer02740\",\"stylesheets\":[\"\\n:host(.pn-loading):before, .pn-loading:before {\\n  background-color: #c3c3c3;\\n  mask-size: auto calc(min(50%, 400px));\\n  -webkit-mask-size: auto calc(min(50%, 400px));\\n}\",{\"id\":\"ce1b05e9-bf5c-4e0d-81f5-7bc3568ddccc\"},{\"id\":\"d90ff278-d096-443b-92b3-118043a895a8\"},{\"id\":\"eeaa6b5a-25c6-4081-ab83-b6667c59c8f6\"}],\"margin\":0,\"sizing_mode\":\"stretch_width\",\"align\":\"start\"}}]}}],\"defs\":[{\"type\":\"model\",\"name\":\"ReactiveHTML1\"},{\"type\":\"model\",\"name\":\"FlexBox1\",\"properties\":[{\"name\":\"align_content\",\"kind\":\"Any\",\"default\":\"flex-start\"},{\"name\":\"align_items\",\"kind\":\"Any\",\"default\":\"flex-start\"},{\"name\":\"flex_direction\",\"kind\":\"Any\",\"default\":\"row\"},{\"name\":\"flex_wrap\",\"kind\":\"Any\",\"default\":\"wrap\"},{\"name\":\"gap\",\"kind\":\"Any\",\"default\":\"\"},{\"name\":\"justify_content\",\"kind\":\"Any\",\"default\":\"flex-start\"}]},{\"type\":\"model\",\"name\":\"FloatPanel1\",\"properties\":[{\"name\":\"config\",\"kind\":\"Any\",\"default\":{\"type\":\"map\"}},{\"name\":\"contained\",\"kind\":\"Any\",\"default\":true},{\"name\":\"position\",\"kind\":\"Any\",\"default\":\"right-top\"},{\"name\":\"offsetx\",\"kind\":\"Any\",\"default\":null},{\"name\":\"offsety\",\"kind\":\"Any\",\"default\":null},{\"name\":\"theme\",\"kind\":\"Any\",\"default\":\"primary\"},{\"name\":\"status\",\"kind\":\"Any\",\"default\":\"normalized\"}]},{\"type\":\"model\",\"name\":\"GridStack1\",\"properties\":[{\"name\":\"mode\",\"kind\":\"Any\",\"default\":\"warn\"},{\"name\":\"ncols\",\"kind\":\"Any\",\"default\":null},{\"name\":\"nrows\",\"kind\":\"Any\",\"default\":null},{\"name\":\"allow_resize\",\"kind\":\"Any\",\"default\":true},{\"name\":\"allow_drag\",\"kind\":\"Any\",\"default\":true},{\"name\":\"state\",\"kind\":\"Any\",\"default\":[]}]},{\"type\":\"model\",\"name\":\"drag1\",\"properties\":[{\"name\":\"slider_width\",\"kind\":\"Any\",\"default\":5},{\"name\":\"slider_color\",\"kind\":\"Any\",\"default\":\"black\"},{\"name\":\"value\",\"kind\":\"Any\",\"default\":50}]},{\"type\":\"model\",\"name\":\"click1\",\"properties\":[{\"name\":\"terminal_output\",\"kind\":\"Any\",\"default\":\"\"},{\"name\":\"debug_name\",\"kind\":\"Any\",\"default\":\"\"},{\"name\":\"clears\",\"kind\":\"Any\",\"default\":0}]},{\"type\":\"model\",\"name\":\"FastWrapper1\",\"properties\":[{\"name\":\"object\",\"kind\":\"Any\",\"default\":null},{\"name\":\"style\",\"kind\":\"Any\",\"default\":null}]},{\"type\":\"model\",\"name\":\"NotificationAreaBase1\",\"properties\":[{\"name\":\"js_events\",\"kind\":\"Any\",\"default\":{\"type\":\"map\"}},{\"name\":\"position\",\"kind\":\"Any\",\"default\":\"bottom-right\"},{\"name\":\"_clear\",\"kind\":\"Any\",\"default\":0}]},{\"type\":\"model\",\"name\":\"NotificationArea1\",\"properties\":[{\"name\":\"js_events\",\"kind\":\"Any\",\"default\":{\"type\":\"map\"}},{\"name\":\"notifications\",\"kind\":\"Any\",\"default\":[]},{\"name\":\"position\",\"kind\":\"Any\",\"default\":\"bottom-right\"},{\"name\":\"_clear\",\"kind\":\"Any\",\"default\":0},{\"name\":\"types\",\"kind\":\"Any\",\"default\":[{\"type\":\"map\",\"entries\":[[\"type\",\"warning\"],[\"background\",\"#ffc107\"],[\"icon\",{\"type\":\"map\",\"entries\":[[\"className\",\"fas fa-exclamation-triangle\"],[\"tagName\",\"i\"],[\"color\",\"white\"]]}]]},{\"type\":\"map\",\"entries\":[[\"type\",\"info\"],[\"background\",\"#007bff\"],[\"icon\",{\"type\":\"map\",\"entries\":[[\"className\",\"fas fa-info-circle\"],[\"tagName\",\"i\"],[\"color\",\"white\"]]}]]}]}]},{\"type\":\"model\",\"name\":\"Notification\",\"properties\":[{\"name\":\"background\",\"kind\":\"Any\",\"default\":null},{\"name\":\"duration\",\"kind\":\"Any\",\"default\":3000},{\"name\":\"icon\",\"kind\":\"Any\",\"default\":null},{\"name\":\"message\",\"kind\":\"Any\",\"default\":\"\"},{\"name\":\"notification_type\",\"kind\":\"Any\",\"default\":null},{\"name\":\"_destroyed\",\"kind\":\"Any\",\"default\":false}]},{\"type\":\"model\",\"name\":\"TemplateActions1\",\"properties\":[{\"name\":\"open_modal\",\"kind\":\"Any\",\"default\":0},{\"name\":\"close_modal\",\"kind\":\"Any\",\"default\":0}]},{\"type\":\"model\",\"name\":\"BootstrapTemplateActions1\",\"properties\":[{\"name\":\"open_modal\",\"kind\":\"Any\",\"default\":0},{\"name\":\"close_modal\",\"kind\":\"Any\",\"default\":0}]},{\"type\":\"model\",\"name\":\"TemplateEditor1\",\"properties\":[{\"name\":\"layout\",\"kind\":\"Any\",\"default\":[]}]},{\"type\":\"model\",\"name\":\"MaterialTemplateActions1\",\"properties\":[{\"name\":\"open_modal\",\"kind\":\"Any\",\"default\":0},{\"name\":\"close_modal\",\"kind\":\"Any\",\"default\":0}]},{\"type\":\"model\",\"name\":\"copy_to_clipboard1\",\"properties\":[{\"name\":\"fill\",\"kind\":\"Any\",\"default\":\"none\"},{\"name\":\"value\",\"kind\":\"Any\",\"default\":null}]}]}};\n",
       "  var render_items = [{\"docid\":\"b9f3c1a8-7ab3-4e3a-b52c-efe11c8d2197\",\"roots\":{\"f15cc4f3-a800-4adf-bba1-9abe3b5d663f\":\"fb046cc5-dbac-424c-b707-b34148bf9bd9\"},\"root_ids\":[\"f15cc4f3-a800-4adf-bba1-9abe3b5d663f\"]}];\n",
       "  var docs = Object.values(docs_json)\n",
       "  if (!docs) {\n",
       "    return\n",
       "  }\n",
       "  const py_version = docs[0].version.replace('rc', '-rc.').replace('.dev', '-dev.')\n",
       "  async function embed_document(root) {\n",
       "    var Bokeh = get_bokeh(root)\n",
       "    await Bokeh.embed.embed_items_notebook(docs_json, render_items);\n",
       "    for (const render_item of render_items) {\n",
       "      for (const root_id of render_item.root_ids) {\n",
       "\tconst id_el = document.getElementById(root_id)\n",
       "\tif (id_el.children.length && id_el.children[0].hasAttribute('data-root-id')) {\n",
       "\t  const root_el = id_el.children[0]\n",
       "\t  root_el.id = root_el.id + '-rendered'\n",
       "\t  for (const child of root_el.children) {\n",
       "            // Ensure JupyterLab does not capture keyboard shortcuts\n",
       "            // see: https://jupyterlab.readthedocs.io/en/4.1.x/extension/notebook.html#keyboard-interaction-model\n",
       "\t    child.setAttribute('data-lm-suppress-shortcuts', 'true')\n",
       "\t  }\n",
       "\t}\n",
       "      }\n",
       "    }\n",
       "  }\n",
       "  function get_bokeh(root) {\n",
       "    if (root.Bokeh === undefined) {\n",
       "      return null\n",
       "    } else if (root.Bokeh.version !== py_version) {\n",
       "      if (root.Bokeh.versions === undefined || !root.Bokeh.versions.has(py_version)) {\n",
       "\treturn null\n",
       "      }\n",
       "      return root.Bokeh.versions.get(py_version);\n",
       "    } else if (root.Bokeh.version === py_version) {\n",
       "      return root.Bokeh\n",
       "    }\n",
       "    return null\n",
       "  }\n",
       "  function is_loaded(root) {\n",
       "    var Bokeh = get_bokeh(root)\n",
       "    return (Bokeh != null && Bokeh.Panel !== undefined)\n",
       "  }\n",
       "  if (is_loaded(root)) {\n",
       "    embed_document(root);\n",
       "  } else {\n",
       "    var attempts = 0;\n",
       "    var timer = setInterval(function(root) {\n",
       "      if (is_loaded(root)) {\n",
       "        clearInterval(timer);\n",
       "        embed_document(root);\n",
       "      } else if (document.readyState == \"complete\") {\n",
       "        attempts++;\n",
       "        if (attempts > 200) {\n",
       "          clearInterval(timer);\n",
       "\t  var Bokeh = get_bokeh(root)\n",
       "\t  if (Bokeh == null || Bokeh.Panel == null) {\n",
       "            console.warn(\"Panel: ERROR: Unable to run Panel code because Bokeh or Panel library is missing\");\n",
       "\t  } else {\n",
       "\t    console.warn(\"Panel: WARNING: Attempting to render but not all required libraries could be resolved.\")\n",
       "\t    embed_document(root)\n",
       "\t  }\n",
       "        }\n",
       "      }\n",
       "    }, 25, root)\n",
       "  }\n",
       "})(window);</script>"
      ],
      "text/plain": [
       ":Overlay\n",
       "   .Bars.I :Bars   [Model Year]   (Number of EVs)\n",
       "   .Text.I :Text   [x,y]"
      ]
     },
     "execution_count": 181,
     "metadata": {
      "application/vnd.holoviews_exec.v0+json": {
       "id": "f15cc4f3-a800-4adf-bba1-9abe3b5d663f"
      }
     },
     "output_type": "execute_result"
    }
   ],
   "source": [
    "print(df['Make'].nunique())\n",
    "print(df['Model Year'].unique())\n",
    "\n",
    "filtered_df = df.groupby('Model Year').agg({'VIN (1-10)':'count'})\n",
    "filtered_df.reset_index(inplace=True)\n",
    "filtered_df.rename(columns={'VIN (1-10)': 'Number of EVs'}, inplace=True)\n",
    "filtered_df.head()\n",
    "hv_bar_plot = filtered_df.hvplot.bar(x='Model Year', \n",
    "                                    y='Number of EVs', \n",
    "                                    C='Count', \n",
    "                                    cmap='BuPu', \n",
    "                                    xlabel='Model Year', \n",
    "                                    ylabel='Number of Registered EVs (Log Scale)', \n",
    "                                    title='Number of Registered EVs in WA Per Model Year',\n",
    "                                    logy=True).opts(\n",
    "                                        show_grid=True\n",
    "                                    )\n",
    "\n",
    "textbox = hv.Text(\n",
    "    x=2001, y=120,\n",
    "    text='*Unit increase in Y = 10× more EVs'\n",
    ").opts(\n",
    "    text_align='left',\n",
    "    text_font_size='10pt',\n",
    "    bgcolor='white'\n",
    ")\n",
    "\n",
    "(hv_bar_plot * textbox)\n"
   ]
  },
  {
   "cell_type": "markdown",
   "metadata": {},
   "source": [
    "## HeatMap of EVs in Washington State Counties"
   ]
  },
  {
   "cell_type": "code",
   "execution_count": 191,
   "metadata": {},
   "outputs": [
    {
     "name": "stdout",
     "output_type": "stream",
     "text": [
      "39\n"
     ]
    },
    {
     "data": {
      "text/html": [
       "<div>\n",
       "<style scoped>\n",
       "    .dataframe tbody tr th:only-of-type {\n",
       "        vertical-align: middle;\n",
       "    }\n",
       "\n",
       "    .dataframe tbody tr th {\n",
       "        vertical-align: top;\n",
       "    }\n",
       "\n",
       "    .dataframe thead th {\n",
       "        text-align: right;\n",
       "    }\n",
       "</style>\n",
       "<table border=\"1\" class=\"dataframe\">\n",
       "  <thead>\n",
       "    <tr style=\"text-align: right;\">\n",
       "      <th>EV Regional Origin</th>\n",
       "      <th>Asia</th>\n",
       "      <th>North America</th>\n",
       "      <th>Europe</th>\n",
       "    </tr>\n",
       "    <tr>\n",
       "      <th>County</th>\n",
       "      <th></th>\n",
       "      <th></th>\n",
       "      <th></th>\n",
       "    </tr>\n",
       "  </thead>\n",
       "  <tbody>\n",
       "    <tr>\n",
       "      <th>King</th>\n",
       "      <td>24183</td>\n",
       "      <td>77790</td>\n",
       "      <td>20846</td>\n",
       "    </tr>\n",
       "    <tr>\n",
       "      <th>Kitsap</th>\n",
       "      <td>2295</td>\n",
       "      <td>4759</td>\n",
       "      <td>1321</td>\n",
       "    </tr>\n",
       "    <tr>\n",
       "      <th>Thurston</th>\n",
       "      <td>2455</td>\n",
       "      <td>5560</td>\n",
       "      <td>1066</td>\n",
       "    </tr>\n",
       "    <tr>\n",
       "      <th>Snohomish</th>\n",
       "      <td>6356</td>\n",
       "      <td>20595</td>\n",
       "      <td>3636</td>\n",
       "    </tr>\n",
       "    <tr>\n",
       "      <th>Skagit</th>\n",
       "      <td>717</td>\n",
       "      <td>1789</td>\n",
       "      <td>337</td>\n",
       "    </tr>\n",
       "    <tr>\n",
       "      <th>Spokane</th>\n",
       "      <td>1769</td>\n",
       "      <td>4319</td>\n",
       "      <td>883</td>\n",
       "    </tr>\n",
       "    <tr>\n",
       "      <th>Clark</th>\n",
       "      <td>3906</td>\n",
       "      <td>9216</td>\n",
       "      <td>1926</td>\n",
       "    </tr>\n",
       "    <tr>\n",
       "      <th>Pierce</th>\n",
       "      <td>4834</td>\n",
       "      <td>13118</td>\n",
       "      <td>2582</td>\n",
       "    </tr>\n",
       "    <tr>\n",
       "      <th>Whatcom</th>\n",
       "      <td>1923</td>\n",
       "      <td>3200</td>\n",
       "      <td>907</td>\n",
       "    </tr>\n",
       "    <tr>\n",
       "      <th>Benton</th>\n",
       "      <td>755</td>\n",
       "      <td>2193</td>\n",
       "      <td>372</td>\n",
       "    </tr>\n",
       "  </tbody>\n",
       "</table>\n",
       "</div>"
      ],
      "text/plain": [
       "EV Regional Origin   Asia  North America  Europe\n",
       "County                                          \n",
       "King                24183          77790   20846\n",
       "Kitsap               2295           4759    1321\n",
       "Thurston             2455           5560    1066\n",
       "Snohomish            6356          20595    3636\n",
       "Skagit                717           1789     337\n",
       "Spokane              1769           4319     883\n",
       "Clark                3906           9216    1926\n",
       "Pierce               4834          13118    2582\n",
       "Whatcom              1923           3200     907\n",
       "Benton                755           2193     372"
      ]
     },
     "execution_count": 191,
     "metadata": {},
     "output_type": "execute_result"
    }
   ],
   "source": [
    "print(df[df['State'] == 'WA']['County'].nunique())\n",
    "\n",
    "df_wa_counties = df[df['State'] == 'WA']\n",
    "\n",
    "df_top_10_counties_ev_wa = df_wa_counties.groupby('County').agg({'VIN (1-10)':'count'}).nlargest(10, 'VIN (1-10)')\n",
    "df_top_10_counties_ev_wa.reset_index(inplace=True)\n",
    "# print(df_top_10_counties_ev_wa)\n",
    "\n",
    "# print(df_wa_counties['Make'].nunique())\n",
    "\n",
    "df_wa_counties = df_wa_counties[df_wa_counties['County'].isin(df_top_10_counties_ev_wa['County'])]\n",
    "\n",
    "heat_map_data = df_wa_counties.pivot_table(index=\"County\", columns=\"EV Regional Origin\", values='VIN (1-10)', aggfunc='count', fill_value=0, sort=False)\n",
    "# heat_map_data_norm = heat_map_data.apply(lambda x: x**2)\n",
    "heat_map_data.head(20)\n",
    "\n",
    "\n",
    "# heat_map_data.fillna(0)\n",
    "\n",
    "# fig = plt.figure(figsize=(10,5))\n",
    "# ax = fig.gca()\n",
    "# sns.heatmap(heat_map_data, ax=ax, cmap='BuPu')"
   ]
  },
  {
   "cell_type": "code",
   "execution_count": 215,
   "metadata": {},
   "outputs": [
    {
     "name": "stdout",
     "output_type": "stream",
     "text": [
      "      County EV Regional Origin  Number of EVs Registered\n",
      "0       King               Asia                     24183\n",
      "1     Kitsap               Asia                      2295\n",
      "2   Thurston               Asia                      2455\n",
      "3  Snohomish               Asia                      6356\n",
      "4     Skagit               Asia                       717\n"
     ]
    },
    {
     "name": "stderr",
     "output_type": "stream",
     "text": [
      "BokehDeprecationWarning: 'FuncTickFormatter' was deprecated in Bokeh 3.0.0 and will be removed, use 'CustomJSTickFormatter' instead.\n"
     ]
    },
    {
     "data": {},
     "metadata": {},
     "output_type": "display_data"
    },
    {
     "data": {
      "application/vnd.holoviews_exec.v0+json": "",
      "text/html": [
       "<div id='56468294-4fe7-420a-9df5-3610918ac753'>\n",
       "  <div id=\"e950c055-67b5-4c0f-b68c-f7b0d56f526e\" data-root-id=\"56468294-4fe7-420a-9df5-3610918ac753\" style=\"display: contents;\"></div>\n",
       "</div>\n",
       "<script type=\"application/javascript\">(function(root) {\n",
       "  var docs_json = {\"a6c9fd19-d739-4a52-894d-c6f8b80bf8bf\":{\"version\":\"3.4.3\",\"title\":\"Bokeh Application\",\"roots\":[{\"type\":\"object\",\"name\":\"Row\",\"id\":\"56468294-4fe7-420a-9df5-3610918ac753\",\"attributes\":{\"name\":\"Row04529\",\"tags\":[\"embedded\"],\"stylesheets\":[\"\\n:host(.pn-loading):before, .pn-loading:before {\\n  background-color: #c3c3c3;\\n  mask-size: auto calc(min(50%, 400px));\\n  -webkit-mask-size: auto calc(min(50%, 400px));\\n}\",{\"type\":\"object\",\"name\":\"ImportedStyleSheet\",\"id\":\"35002f74-8236-4e7a-8120-f700832c32d6\",\"attributes\":{\"url\":\"https://cdn.holoviz.org/panel/1.4.5/dist/css/loading.css\"}},{\"type\":\"object\",\"name\":\"ImportedStyleSheet\",\"id\":\"d52aea19-ffdb-496a-ad23-140f173de8a5\",\"attributes\":{\"url\":\"https://cdn.holoviz.org/panel/1.4.5/dist/css/listpanel.css\"}},{\"type\":\"object\",\"name\":\"ImportedStyleSheet\",\"id\":\"67d5116a-5a7e-490f-ae02-90ea256f9221\",\"attributes\":{\"url\":\"https://cdn.holoviz.org/panel/1.4.5/dist/bundled/theme/default.css\"}},{\"type\":\"object\",\"name\":\"ImportedStyleSheet\",\"id\":\"1ec4b951-ae62-4182-86ed-f8f07262f5df\",\"attributes\":{\"url\":\"https://cdn.holoviz.org/panel/1.4.5/dist/bundled/theme/native.css\"}}],\"min_width\":700,\"margin\":0,\"sizing_mode\":\"stretch_width\",\"align\":\"start\",\"children\":[{\"type\":\"object\",\"name\":\"Spacer\",\"id\":\"5ae889f4-9e31-48cc-9143-e8ae772452d0\",\"attributes\":{\"name\":\"HSpacer04533\",\"stylesheets\":[\"\\n:host(.pn-loading):before, .pn-loading:before {\\n  background-color: #c3c3c3;\\n  mask-size: auto calc(min(50%, 400px));\\n  -webkit-mask-size: auto calc(min(50%, 400px));\\n}\",{\"id\":\"35002f74-8236-4e7a-8120-f700832c32d6\"},{\"id\":\"67d5116a-5a7e-490f-ae02-90ea256f9221\"},{\"id\":\"1ec4b951-ae62-4182-86ed-f8f07262f5df\"}],\"margin\":0,\"sizing_mode\":\"stretch_width\",\"align\":\"start\"}},{\"type\":\"object\",\"name\":\"Figure\",\"id\":\"8ee8add9-2c70-4d6d-9889-7a11ae3eac97\",\"attributes\":{\"width\":700,\"height\":300,\"margin\":[5,10],\"sizing_mode\":\"fixed\",\"align\":\"start\",\"x_range\":{\"type\":\"object\",\"name\":\"FactorRange\",\"id\":\"92b18234-3976-46a3-a53e-5b0951340c40\",\"attributes\":{\"name\":\"EV Regional Origin\",\"tags\":[[[\"EV Regional Origin\",null]],[]],\"factors\":[\"Asia\",\"North America\",\"Europe\"]}},\"y_range\":{\"type\":\"object\",\"name\":\"FactorRange\",\"id\":\"f257d95a-9b01-4535-8f91-cebd59b7fb38\",\"attributes\":{\"name\":\"County\",\"tags\":[[[\"County\",null]],{\"type\":\"map\",\"entries\":[[\"invert_yaxis\",false],[\"autorange\",false]]}],\"factors\":[\"King\",\"Kitsap\",\"Thurston\",\"Snohomish\",\"Skagit\",\"Spokane\",\"Clark\",\"Pierce\",\"Whatcom\",\"Benton\"]}},\"x_scale\":{\"type\":\"object\",\"name\":\"CategoricalScale\",\"id\":\"b1473f50-cbeb-45f3-bd6c-ba12c7eb22a1\"},\"y_scale\":{\"type\":\"object\",\"name\":\"CategoricalScale\",\"id\":\"9c7f76fe-7d99-43dc-98ba-25483440f43e\"},\"title\":{\"type\":\"object\",\"name\":\"Title\",\"id\":\"fbe6b522-4eac-437b-bb8b-98f7c7c8cbae\",\"attributes\":{\"text\":\"Top 10 WA Counties: EVs Registered by Car Origin (Log Scale)\",\"text_color\":\"black\",\"text_font_size\":\"12pt\"}},\"renderers\":[{\"type\":\"object\",\"name\":\"GlyphRenderer\",\"id\":\"fb8a5e76-2ed9-4cb5-906d-bade71c1918c\",\"attributes\":{\"data_source\":{\"type\":\"object\",\"name\":\"ColumnDataSource\",\"id\":\"8e39a342-1947-4f09-9fdf-bc0c114779eb\",\"attributes\":{\"selected\":{\"type\":\"object\",\"name\":\"Selection\",\"id\":\"26f69a1a-8e7b-4883-956e-ebcbe181c176\",\"attributes\":{\"indices\":[],\"line_indices\":[]}},\"selection_policy\":{\"type\":\"object\",\"name\":\"UnionRenderers\",\"id\":\"7f0023be-c395-4228-bd93-cc88e35aaf35\"},\"data\":{\"type\":\"map\",\"entries\":[[\"EV_Regional_Origin\",[\"Asia\",\"Asia\",\"Asia\",\"Asia\",\"Asia\",\"Asia\",\"Asia\",\"Asia\",\"Asia\",\"Asia\",\"North America\",\"North America\",\"North America\",\"North America\",\"North America\",\"North America\",\"North America\",\"North America\",\"North America\",\"North America\",\"Europe\",\"Europe\",\"Europe\",\"Europe\",\"Europe\",\"Europe\",\"Europe\",\"Europe\",\"Europe\",\"Europe\"]],[\"County\",[\"Benton\",\"Whatcom\",\"Pierce\",\"Clark\",\"Spokane\",\"Skagit\",\"Snohomish\",\"Thurston\",\"Kitsap\",\"King\",\"Benton\",\"Whatcom\",\"Pierce\",\"Clark\",\"Spokane\",\"Skagit\",\"Snohomish\",\"Thurston\",\"Kitsap\",\"King\",\"Benton\",\"Whatcom\",\"Pierce\",\"Clark\",\"Spokane\",\"Skagit\",\"Snohomish\",\"Thurston\",\"Kitsap\",\"King\"]],[\"zvalues\",{\"type\":\"ndarray\",\"array\":{\"type\":\"bytes\",\"data\":\"8wIAAIMHAADiEgAAQg8AAOkGAADNAgAA1BgAAJcJAAD3CAAAd14AAJEIAACADAAAPjMAAAAkAADfEAAA/QYAAHNQAAC4FQAAlxIAAN4vAQB0AQAAiwMAABYKAACGBwAAcwMAAFEBAAA0DgAAKgQAACkFAABuUQAA\"},\"shape\":[30],\"dtype\":\"int32\",\"order\":\"little\"}],[\"Number_of_EVs_Registered\",[\"755\",\"1923\",\"4834\",\"3906\",\"1769\",\"717\",\"6356\",\"2455\",\"2295\",\"24183\",\"2193\",\"3200\",\"13118\",\"9216\",\"4319\",\"1789\",\"20595\",\"5560\",\"4759\",\"77790\",\"372\",\"907\",\"2582\",\"1926\",\"883\",\"337\",\"3636\",\"1066\",\"1321\",\"20846\"]]]}}},\"view\":{\"type\":\"object\",\"name\":\"CDSView\",\"id\":\"8bb63b71-6e3a-473e-af0f-d3a74a03156a\",\"attributes\":{\"filter\":{\"type\":\"object\",\"name\":\"AllIndices\",\"id\":\"ba241c44-90d9-4644-9f43-d66503dbb04c\"}}},\"glyph\":{\"type\":\"object\",\"name\":\"Rect\",\"id\":\"a0d0f932-bb60-4329-98e8-df6bcaec2061\",\"attributes\":{\"tags\":[\"apply_ranges\"],\"x\":{\"type\":\"field\",\"field\":\"EV_Regional_Origin\"},\"y\":{\"type\":\"field\",\"field\":\"County\"},\"width\":{\"type\":\"value\",\"value\":1},\"height\":{\"type\":\"value\",\"value\":1},\"line_color\":{\"type\":\"value\",\"value\":\"#1f77b4\"},\"line_alpha\":{\"type\":\"value\",\"value\":0},\"fill_color\":{\"type\":\"field\",\"field\":\"zvalues\",\"transform\":{\"type\":\"object\",\"name\":\"LogColorMapper\",\"id\":\"c63c20b0-918b-4834-a456-f4a9b55159e0\",\"attributes\":{\"palette\":[\"#f7fcfd\",\"#f6fbfc\",\"#f5fafc\",\"#f4fafc\",\"#f4f9fb\",\"#f3f9fb\",\"#f2f8fb\",\"#f1f8fb\",\"#f1f7fa\",\"#f0f7fa\",\"#eff6fa\",\"#eff6f9\",\"#eef5f9\",\"#edf5f9\",\"#ecf4f9\",\"#ecf4f8\",\"#ebf3f8\",\"#eaf3f8\",\"#eaf2f7\",\"#e9f2f7\",\"#e8f1f7\",\"#e7f1f7\",\"#e7f0f6\",\"#e6f0f6\",\"#e5eff6\",\"#e4eff5\",\"#e4eef5\",\"#e3eef5\",\"#e2edf5\",\"#e2edf4\",\"#e1ecf4\",\"#e0ecf4\",\"#dfebf3\",\"#deebf3\",\"#ddeaf3\",\"#dce9f2\",\"#dbe8f2\",\"#dae7f1\",\"#d9e7f1\",\"#d8e6f0\",\"#d7e5f0\",\"#d6e4ef\",\"#d5e4ef\",\"#d4e3ef\",\"#d3e2ee\",\"#d2e1ee\",\"#d1e0ed\",\"#d0e0ed\",\"#cfdfec\",\"#cedeec\",\"#cdddec\",\"#ccddeb\",\"#cbdceb\",\"#cadbea\",\"#c9daea\",\"#c8d9e9\",\"#c7d9e9\",\"#c5d8e8\",\"#c4d7e8\",\"#c3d6e8\",\"#c2d5e7\",\"#c1d5e7\",\"#c0d4e6\",\"#bfd3e6\",\"#bed2e5\",\"#bdd2e5\",\"#bcd1e5\",\"#bbd0e4\",\"#bacfe4\",\"#b9cfe4\",\"#b8cee3\",\"#b7cde3\",\"#b6cde2\",\"#b5cce2\",\"#b4cbe2\",\"#b3cae1\",\"#b2cae1\",\"#b1c9e1\",\"#b0c8e0\",\"#afc7e0\",\"#aec7df\",\"#adc6df\",\"#acc5df\",\"#abc5de\",\"#aac4de\",\"#a9c3de\",\"#a7c2dd\",\"#a6c2dd\",\"#a5c1dc\",\"#a4c0dc\",\"#a3c0dc\",\"#a2bfdb\",\"#a1bedb\",\"#a0bdda\",\"#9fbdda\",\"#9ebcda\",\"#9dbbd9\",\"#9dbad9\",\"#9cb9d8\",\"#9cb7d7\",\"#9bb6d7\",\"#9ab5d6\",\"#9ab4d6\",\"#99b3d5\",\"#99b2d4\",\"#98b0d4\",\"#98afd3\",\"#97aed2\",\"#97add2\",\"#96acd1\",\"#95aad0\",\"#95a9d0\",\"#94a8cf\",\"#94a7cf\",\"#93a6ce\",\"#93a4cd\",\"#92a3cd\",\"#91a2cc\",\"#91a1cb\",\"#90a0cb\",\"#909eca\",\"#8f9dca\",\"#8f9cc9\",\"#8e9bc8\",\"#8d9ac8\",\"#8d98c7\",\"#8c97c6\",\"#8c96c6\",\"#8c95c5\",\"#8c93c5\",\"#8c92c4\",\"#8c91c3\",\"#8c8fc3\",\"#8c8ec2\",\"#8c8dc1\",\"#8c8bc1\",\"#8c8ac0\",\"#8c89bf\",\"#8c87bf\",\"#8c86be\",\"#8c85bd\",\"#8c83bd\",\"#8c82bc\",\"#8c81bb\",\"#8c7fbb\",\"#8c7eba\",\"#8c7db9\",\"#8c7bb9\",\"#8c7ab8\",\"#8c78b7\",\"#8c77b7\",\"#8c76b6\",\"#8c74b5\",\"#8c73b5\",\"#8c72b4\",\"#8c70b3\",\"#8c6fb3\",\"#8c6eb2\",\"#8c6cb1\",\"#8c6bb1\",\"#8b6ab0\",\"#8b68af\",\"#8b67af\",\"#8b66ae\",\"#8b64ae\",\"#8b63ad\",\"#8b62ac\",\"#8b60ac\",\"#8a5fab\",\"#8a5eaa\",\"#8a5daa\",\"#8a5ba9\",\"#8a5aa9\",\"#8a59a8\",\"#8a57a7\",\"#8a56a7\",\"#8955a6\",\"#8953a5\",\"#8952a5\",\"#8951a4\",\"#894fa4\",\"#894ea3\",\"#894da2\",\"#894ba2\",\"#884aa1\",\"#8849a0\",\"#8847a0\",\"#88469f\",\"#88459f\",\"#88439e\",\"#88429d\",\"#88419d\",\"#873f9c\",\"#873e9b\",\"#873c9a\",\"#873b99\",\"#863998\",\"#863797\",\"#863696\",\"#863494\",\"#863393\",\"#853192\",\"#853091\",\"#852e90\",\"#852c8f\",\"#842b8e\",\"#84298d\",\"#84288c\",\"#84268b\",\"#84258a\",\"#832389\",\"#832288\",\"#832087\",\"#831e86\",\"#831d85\",\"#821b84\",\"#821a83\",\"#821882\",\"#821781\",\"#811580\",\"#81137f\",\"#81127e\",\"#81107d\",\"#810f7c\",\"#7f0e7a\",\"#7d0e79\",\"#7c0d77\",\"#7a0d76\",\"#790c74\",\"#770c72\",\"#750b71\",\"#740b6f\",\"#720a6e\",\"#700a6c\",\"#6f096b\",\"#6d0969\",\"#6b0868\",\"#6a0866\",\"#680865\",\"#670763\",\"#650762\",\"#630660\",\"#62065e\",\"#60055d\",\"#5e055b\",\"#5d045a\",\"#5b0458\",\"#5a0357\",\"#580355\",\"#560254\",\"#550252\",\"#530151\",\"#51014f\",\"#50004e\",\"#4e004c\",\"#4d004b\"],\"nan_color\":\"white\",\"low\":337,\"high\":77790}}}}},\"selection_glyph\":{\"type\":\"object\",\"name\":\"Rect\",\"id\":\"f7f2ace3-2565-4506-9a65-b248a07f7f60\",\"attributes\":{\"tags\":[\"apply_ranges\"],\"x\":{\"type\":\"field\",\"field\":\"EV_Regional_Origin\"},\"y\":{\"type\":\"field\",\"field\":\"County\"},\"width\":{\"type\":\"value\",\"value\":1},\"height\":{\"type\":\"value\",\"value\":1},\"line_color\":{\"type\":\"value\",\"value\":\"#1f77b4\"},\"line_alpha\":{\"type\":\"value\",\"value\":0},\"fill_color\":{\"type\":\"field\",\"field\":\"zvalues\",\"transform\":{\"id\":\"c63c20b0-918b-4834-a456-f4a9b55159e0\"}}}},\"nonselection_glyph\":{\"type\":\"object\",\"name\":\"Rect\",\"id\":\"60c5b36a-d175-4c26-8fdb-40dff9fea17a\",\"attributes\":{\"tags\":[\"apply_ranges\"],\"x\":{\"type\":\"field\",\"field\":\"EV_Regional_Origin\"},\"y\":{\"type\":\"field\",\"field\":\"County\"},\"width\":{\"type\":\"value\",\"value\":1},\"height\":{\"type\":\"value\",\"value\":1},\"line_color\":{\"type\":\"value\",\"value\":\"#1f77b4\"},\"line_alpha\":{\"type\":\"value\",\"value\":0},\"fill_color\":{\"type\":\"field\",\"field\":\"zvalues\",\"transform\":{\"id\":\"c63c20b0-918b-4834-a456-f4a9b55159e0\"}},\"fill_alpha\":{\"type\":\"value\",\"value\":0.1},\"hatch_alpha\":{\"type\":\"value\",\"value\":0.1}}},\"muted_glyph\":{\"type\":\"object\",\"name\":\"Rect\",\"id\":\"205182c4-b6c8-4836-b2d5-c14fa58fa87f\",\"attributes\":{\"tags\":[\"apply_ranges\"],\"x\":{\"type\":\"field\",\"field\":\"EV_Regional_Origin\"},\"y\":{\"type\":\"field\",\"field\":\"County\"},\"width\":{\"type\":\"value\",\"value\":1},\"height\":{\"type\":\"value\",\"value\":1},\"line_color\":{\"type\":\"value\",\"value\":\"#1f77b4\"},\"line_alpha\":{\"type\":\"value\",\"value\":0},\"fill_color\":{\"type\":\"field\",\"field\":\"zvalues\",\"transform\":{\"id\":\"c63c20b0-918b-4834-a456-f4a9b55159e0\"}},\"fill_alpha\":{\"type\":\"value\",\"value\":0.2},\"hatch_alpha\":{\"type\":\"value\",\"value\":0.2}}}}}],\"toolbar\":{\"type\":\"object\",\"name\":\"Toolbar\",\"id\":\"b5d6a4cd-8134-4b88-9d36-dcaac6ea3233\",\"attributes\":{\"tools\":[{\"type\":\"object\",\"name\":\"WheelZoomTool\",\"id\":\"7bc64d1d-3dde-413a-90b8-d1e613c83f54\",\"attributes\":{\"tags\":[\"hv_created\"],\"renderers\":\"auto\",\"zoom_together\":\"none\"}},{\"type\":\"object\",\"name\":\"HoverTool\",\"id\":\"4b51c79f-0af7-4bcb-98a9-46e73b6507d3\",\"attributes\":{\"tags\":[\"hv_created\"],\"renderers\":[{\"id\":\"fb8a5e76-2ed9-4cb5-906d-bade71c1918c\"}],\"tooltips\":[[\"EV Regional Origin\",\"@{EV_Regional_Origin}\"],[\"County\",\"@{County}\"],[\"Number of EVs Registered\",\"@{Number_of_EVs_Registered}\"]]}},{\"type\":\"object\",\"name\":\"SaveTool\",\"id\":\"c2562dbe-7dad-40a3-85c6-fc91a35e2e50\"},{\"type\":\"object\",\"name\":\"PanTool\",\"id\":\"a5bf0cd2-eb2f-4e00-ab26-d2fd5368dab3\"},{\"type\":\"object\",\"name\":\"BoxZoomTool\",\"id\":\"b0d2e4ab-9ad1-4ab6-95cd-723beb3c5eb8\",\"attributes\":{\"overlay\":{\"type\":\"object\",\"name\":\"BoxAnnotation\",\"id\":\"10255f30-c11b-4f8a-b775-bfe95ac21987\",\"attributes\":{\"syncable\":false,\"level\":\"overlay\",\"visible\":false,\"left\":{\"type\":\"number\",\"value\":\"nan\"},\"right\":{\"type\":\"number\",\"value\":\"nan\"},\"top\":{\"type\":\"number\",\"value\":\"nan\"},\"bottom\":{\"type\":\"number\",\"value\":\"nan\"},\"left_units\":\"canvas\",\"right_units\":\"canvas\",\"top_units\":\"canvas\",\"bottom_units\":\"canvas\",\"line_color\":\"black\",\"line_alpha\":1.0,\"line_width\":2,\"line_dash\":[4,4],\"fill_color\":\"lightgrey\",\"fill_alpha\":0.5}}}},{\"type\":\"object\",\"name\":\"ResetTool\",\"id\":\"edfd4799-fb99-4862-9535-7d5e3b5b6954\"}],\"active_drag\":{\"id\":\"a5bf0cd2-eb2f-4e00-ab26-d2fd5368dab3\"},\"active_scroll\":{\"id\":\"7bc64d1d-3dde-413a-90b8-d1e613c83f54\"}}},\"left\":[{\"type\":\"object\",\"name\":\"CategoricalAxis\",\"id\":\"4722ca9f-34df-4549-b49c-a6bb19d356b4\",\"attributes\":{\"ticker\":{\"type\":\"object\",\"name\":\"CategoricalTicker\",\"id\":\"4302acc8-d7f0-42ad-96dd-03875a729cac\"},\"formatter\":{\"type\":\"object\",\"name\":\"CategoricalTickFormatter\",\"id\":\"0ff96615-328b-4ba5-bf8a-5b858525a1e7\"},\"axis_label\":\"Washington State County\",\"major_label_policy\":{\"type\":\"object\",\"name\":\"AllLabels\",\"id\":\"b27bb9b7-b55b-40c4-b804-f867a0583c52\"}}}],\"right\":[{\"type\":\"object\",\"name\":\"ColorBar\",\"id\":\"08b88387-7c28-474c-9903-b2b01bba2a3f\",\"attributes\":{\"location\":[0,0],\"title\":\"Raw Number of EVs (w/ Log Scale)\",\"ticker\":{\"type\":\"object\",\"name\":\"FixedTicker\",\"id\":\"f14e5cc8-2847-474a-9ca5-ce6b1030a697\",\"attributes\":{\"ticks\":[1000,5000,25000,70000],\"minor_ticks\":[]}},\"formatter\":{\"type\":\"object\",\"name\":\"CustomJSTickFormatter\",\"id\":\"9596ce9b-91fd-4ff7-bcb6-c6f7db52cb78\",\"attributes\":{\"code\":\"\\n    var log = Math.log10(tick);\\n    return tick.toLocaleString() + \\\" (log\\u2081\\u2080=\\\" + log.toFixed(1) + \\\")\\\";\\n\"}},\"major_label_policy\":{\"type\":\"object\",\"name\":\"NoOverlap\",\"id\":\"78955ee1-7556-46c5-82e9-7cda7a32eafd\"},\"label_standoff\":8,\"major_tick_line_color\":\"black\",\"bar_line_color\":\"black\",\"color_mapper\":{\"id\":\"c63c20b0-918b-4834-a456-f4a9b55159e0\"}}}],\"below\":[{\"type\":\"object\",\"name\":\"CategoricalAxis\",\"id\":\"30f58ecd-49b2-43a3-88a5-a9109a7ad7c1\",\"attributes\":{\"ticker\":{\"type\":\"object\",\"name\":\"CategoricalTicker\",\"id\":\"0a95ecd1-7718-477a-a95b-0c9cf9b59a04\"},\"formatter\":{\"type\":\"object\",\"name\":\"CategoricalTickFormatter\",\"id\":\"e9f4650a-5c50-434d-82d1-1048bcfb0a0c\"},\"axis_label\":\"EV Car Model Origin\",\"major_label_policy\":{\"type\":\"object\",\"name\":\"AllLabels\",\"id\":\"028173ff-813c-47eb-bdb3-2fcdaa67f72b\"}}}],\"center\":[{\"type\":\"object\",\"name\":\"Grid\",\"id\":\"54f35de8-41e1-42e2-8a98-b5e66b52d6a0\",\"attributes\":{\"axis\":{\"id\":\"30f58ecd-49b2-43a3-88a5-a9109a7ad7c1\"},\"grid_line_color\":null}},{\"type\":\"object\",\"name\":\"Grid\",\"id\":\"83fede0c-40a3-4c05-9095-26bb503f1032\",\"attributes\":{\"dimension\":1,\"axis\":{\"id\":\"4722ca9f-34df-4549-b49c-a6bb19d356b4\"},\"grid_line_color\":null}}],\"min_border_top\":10,\"min_border_bottom\":10,\"min_border_left\":10,\"min_border_right\":10,\"output_backend\":\"webgl\"}},{\"type\":\"object\",\"name\":\"Spacer\",\"id\":\"722ea9f4-abb9-47e3-bdef-16c9175a4244\",\"attributes\":{\"name\":\"HSpacer04534\",\"stylesheets\":[\"\\n:host(.pn-loading):before, .pn-loading:before {\\n  background-color: #c3c3c3;\\n  mask-size: auto calc(min(50%, 400px));\\n  -webkit-mask-size: auto calc(min(50%, 400px));\\n}\",{\"id\":\"35002f74-8236-4e7a-8120-f700832c32d6\"},{\"id\":\"67d5116a-5a7e-490f-ae02-90ea256f9221\"},{\"id\":\"1ec4b951-ae62-4182-86ed-f8f07262f5df\"}],\"margin\":0,\"sizing_mode\":\"stretch_width\",\"align\":\"start\"}}]}}],\"defs\":[{\"type\":\"model\",\"name\":\"ReactiveHTML1\"},{\"type\":\"model\",\"name\":\"FlexBox1\",\"properties\":[{\"name\":\"align_content\",\"kind\":\"Any\",\"default\":\"flex-start\"},{\"name\":\"align_items\",\"kind\":\"Any\",\"default\":\"flex-start\"},{\"name\":\"flex_direction\",\"kind\":\"Any\",\"default\":\"row\"},{\"name\":\"flex_wrap\",\"kind\":\"Any\",\"default\":\"wrap\"},{\"name\":\"gap\",\"kind\":\"Any\",\"default\":\"\"},{\"name\":\"justify_content\",\"kind\":\"Any\",\"default\":\"flex-start\"}]},{\"type\":\"model\",\"name\":\"FloatPanel1\",\"properties\":[{\"name\":\"config\",\"kind\":\"Any\",\"default\":{\"type\":\"map\"}},{\"name\":\"contained\",\"kind\":\"Any\",\"default\":true},{\"name\":\"position\",\"kind\":\"Any\",\"default\":\"right-top\"},{\"name\":\"offsetx\",\"kind\":\"Any\",\"default\":null},{\"name\":\"offsety\",\"kind\":\"Any\",\"default\":null},{\"name\":\"theme\",\"kind\":\"Any\",\"default\":\"primary\"},{\"name\":\"status\",\"kind\":\"Any\",\"default\":\"normalized\"}]},{\"type\":\"model\",\"name\":\"GridStack1\",\"properties\":[{\"name\":\"mode\",\"kind\":\"Any\",\"default\":\"warn\"},{\"name\":\"ncols\",\"kind\":\"Any\",\"default\":null},{\"name\":\"nrows\",\"kind\":\"Any\",\"default\":null},{\"name\":\"allow_resize\",\"kind\":\"Any\",\"default\":true},{\"name\":\"allow_drag\",\"kind\":\"Any\",\"default\":true},{\"name\":\"state\",\"kind\":\"Any\",\"default\":[]}]},{\"type\":\"model\",\"name\":\"drag1\",\"properties\":[{\"name\":\"slider_width\",\"kind\":\"Any\",\"default\":5},{\"name\":\"slider_color\",\"kind\":\"Any\",\"default\":\"black\"},{\"name\":\"value\",\"kind\":\"Any\",\"default\":50}]},{\"type\":\"model\",\"name\":\"click1\",\"properties\":[{\"name\":\"terminal_output\",\"kind\":\"Any\",\"default\":\"\"},{\"name\":\"debug_name\",\"kind\":\"Any\",\"default\":\"\"},{\"name\":\"clears\",\"kind\":\"Any\",\"default\":0}]},{\"type\":\"model\",\"name\":\"FastWrapper1\",\"properties\":[{\"name\":\"object\",\"kind\":\"Any\",\"default\":null},{\"name\":\"style\",\"kind\":\"Any\",\"default\":null}]},{\"type\":\"model\",\"name\":\"NotificationAreaBase1\",\"properties\":[{\"name\":\"js_events\",\"kind\":\"Any\",\"default\":{\"type\":\"map\"}},{\"name\":\"position\",\"kind\":\"Any\",\"default\":\"bottom-right\"},{\"name\":\"_clear\",\"kind\":\"Any\",\"default\":0}]},{\"type\":\"model\",\"name\":\"NotificationArea1\",\"properties\":[{\"name\":\"js_events\",\"kind\":\"Any\",\"default\":{\"type\":\"map\"}},{\"name\":\"notifications\",\"kind\":\"Any\",\"default\":[]},{\"name\":\"position\",\"kind\":\"Any\",\"default\":\"bottom-right\"},{\"name\":\"_clear\",\"kind\":\"Any\",\"default\":0},{\"name\":\"types\",\"kind\":\"Any\",\"default\":[{\"type\":\"map\",\"entries\":[[\"type\",\"warning\"],[\"background\",\"#ffc107\"],[\"icon\",{\"type\":\"map\",\"entries\":[[\"className\",\"fas fa-exclamation-triangle\"],[\"tagName\",\"i\"],[\"color\",\"white\"]]}]]},{\"type\":\"map\",\"entries\":[[\"type\",\"info\"],[\"background\",\"#007bff\"],[\"icon\",{\"type\":\"map\",\"entries\":[[\"className\",\"fas fa-info-circle\"],[\"tagName\",\"i\"],[\"color\",\"white\"]]}]]}]}]},{\"type\":\"model\",\"name\":\"Notification\",\"properties\":[{\"name\":\"background\",\"kind\":\"Any\",\"default\":null},{\"name\":\"duration\",\"kind\":\"Any\",\"default\":3000},{\"name\":\"icon\",\"kind\":\"Any\",\"default\":null},{\"name\":\"message\",\"kind\":\"Any\",\"default\":\"\"},{\"name\":\"notification_type\",\"kind\":\"Any\",\"default\":null},{\"name\":\"_destroyed\",\"kind\":\"Any\",\"default\":false}]},{\"type\":\"model\",\"name\":\"TemplateActions1\",\"properties\":[{\"name\":\"open_modal\",\"kind\":\"Any\",\"default\":0},{\"name\":\"close_modal\",\"kind\":\"Any\",\"default\":0}]},{\"type\":\"model\",\"name\":\"BootstrapTemplateActions1\",\"properties\":[{\"name\":\"open_modal\",\"kind\":\"Any\",\"default\":0},{\"name\":\"close_modal\",\"kind\":\"Any\",\"default\":0}]},{\"type\":\"model\",\"name\":\"TemplateEditor1\",\"properties\":[{\"name\":\"layout\",\"kind\":\"Any\",\"default\":[]}]},{\"type\":\"model\",\"name\":\"MaterialTemplateActions1\",\"properties\":[{\"name\":\"open_modal\",\"kind\":\"Any\",\"default\":0},{\"name\":\"close_modal\",\"kind\":\"Any\",\"default\":0}]},{\"type\":\"model\",\"name\":\"copy_to_clipboard1\",\"properties\":[{\"name\":\"fill\",\"kind\":\"Any\",\"default\":\"none\"},{\"name\":\"value\",\"kind\":\"Any\",\"default\":null}]}]}};\n",
       "  var render_items = [{\"docid\":\"a6c9fd19-d739-4a52-894d-c6f8b80bf8bf\",\"roots\":{\"56468294-4fe7-420a-9df5-3610918ac753\":\"e950c055-67b5-4c0f-b68c-f7b0d56f526e\"},\"root_ids\":[\"56468294-4fe7-420a-9df5-3610918ac753\"]}];\n",
       "  var docs = Object.values(docs_json)\n",
       "  if (!docs) {\n",
       "    return\n",
       "  }\n",
       "  const py_version = docs[0].version.replace('rc', '-rc.').replace('.dev', '-dev.')\n",
       "  async function embed_document(root) {\n",
       "    var Bokeh = get_bokeh(root)\n",
       "    await Bokeh.embed.embed_items_notebook(docs_json, render_items);\n",
       "    for (const render_item of render_items) {\n",
       "      for (const root_id of render_item.root_ids) {\n",
       "\tconst id_el = document.getElementById(root_id)\n",
       "\tif (id_el.children.length && id_el.children[0].hasAttribute('data-root-id')) {\n",
       "\t  const root_el = id_el.children[0]\n",
       "\t  root_el.id = root_el.id + '-rendered'\n",
       "\t  for (const child of root_el.children) {\n",
       "            // Ensure JupyterLab does not capture keyboard shortcuts\n",
       "            // see: https://jupyterlab.readthedocs.io/en/4.1.x/extension/notebook.html#keyboard-interaction-model\n",
       "\t    child.setAttribute('data-lm-suppress-shortcuts', 'true')\n",
       "\t  }\n",
       "\t}\n",
       "      }\n",
       "    }\n",
       "  }\n",
       "  function get_bokeh(root) {\n",
       "    if (root.Bokeh === undefined) {\n",
       "      return null\n",
       "    } else if (root.Bokeh.version !== py_version) {\n",
       "      if (root.Bokeh.versions === undefined || !root.Bokeh.versions.has(py_version)) {\n",
       "\treturn null\n",
       "      }\n",
       "      return root.Bokeh.versions.get(py_version);\n",
       "    } else if (root.Bokeh.version === py_version) {\n",
       "      return root.Bokeh\n",
       "    }\n",
       "    return null\n",
       "  }\n",
       "  function is_loaded(root) {\n",
       "    var Bokeh = get_bokeh(root)\n",
       "    return (Bokeh != null && Bokeh.Panel !== undefined)\n",
       "  }\n",
       "  if (is_loaded(root)) {\n",
       "    embed_document(root);\n",
       "  } else {\n",
       "    var attempts = 0;\n",
       "    var timer = setInterval(function(root) {\n",
       "      if (is_loaded(root)) {\n",
       "        clearInterval(timer);\n",
       "        embed_document(root);\n",
       "      } else if (document.readyState == \"complete\") {\n",
       "        attempts++;\n",
       "        if (attempts > 200) {\n",
       "          clearInterval(timer);\n",
       "\t  var Bokeh = get_bokeh(root)\n",
       "\t  if (Bokeh == null || Bokeh.Panel == null) {\n",
       "            console.warn(\"Panel: ERROR: Unable to run Panel code because Bokeh or Panel library is missing\");\n",
       "\t  } else {\n",
       "\t    console.warn(\"Panel: WARNING: Attempting to render but not all required libraries could be resolved.\")\n",
       "\t    embed_document(root)\n",
       "\t  }\n",
       "        }\n",
       "      }\n",
       "    }, 25, root)\n",
       "  }\n",
       "})(window);</script>"
      ],
      "text/plain": [
       ":HeatMap   [EV Regional Origin,County]   (Number of EVs Registered)"
      ]
     },
     "execution_count": 215,
     "metadata": {
      "application/vnd.holoviews_exec.v0+json": {
       "id": "56468294-4fe7-420a-9df5-3610918ac753"
      }
     },
     "output_type": "execute_result"
    }
   ],
   "source": [
    "# heat_map_data.index.name = 'County'\n",
    "# heat_map_data.columns.name = 'Region'\n",
    "\n",
    "heat_map_long = heat_map_data.reset_index().melt(\n",
    "    id_vars='County',\n",
    "    var_name='EV Regional Origin',\n",
    "    value_name='Number of EVs Registered'\n",
    ")\n",
    "print(heat_map_long.head()) \n",
    "\n",
    "formatter = FuncTickFormatter(code=\"\"\"\n",
    "    var log = Math.log10(tick);\n",
    "    return tick.toLocaleString() + \" (log₁₀=\" + log.toFixed(1) + \")\";\n",
    "\"\"\")\n",
    "\n",
    "custom_ticks = [1000, 5000, 25000, 70000]\n",
    "\n",
    "# Use FixedTicker instead of LogTicker\n",
    "fixed_ticker = FixedTicker(ticks=custom_ticks)\n",
    "\n",
    "hmap = heat_map_long.hvplot.heatmap(x='EV Regional Origin', \n",
    "                                    y='County', \n",
    "                                    C='Number of EVs Registered', \n",
    "                                    cmap='BuPu', \n",
    "                                    xlabel='EV Car Model Origin', \n",
    "                                    ylabel='Washington State County', \n",
    "                                    title='Top 10 WA Counties: EVs Registered by Car Origin (Log Scale)',\n",
    "                                    logz=True,\n",
    "                                    colorbar=True).opts(\n",
    "                                        colorbar_opts={'title': 'Raw Number of EVs (w/ Log Scale)', 'ticker': fixed_ticker, 'formatter': formatter}\n",
    "                                        \n",
    "                                    )\n",
    "hmap"
   ]
  },
  {
   "cell_type": "code",
   "execution_count": 59,
   "metadata": {},
   "outputs": [
    {
     "name": "stdout",
     "output_type": "stream",
     "text": [
      "21\n",
      "21\n"
     ]
    }
   ],
   "source": [
    "print(df[df['State'] == 'WA']['Model Year'].nunique())\n",
    "print(df['Model Year'].nunique())"
   ]
  }
 ],
 "metadata": {
  "kernelspec": {
   "display_name": "env",
   "language": "python",
   "name": "python3"
  },
  "language_info": {
   "codemirror_mode": {
    "name": "ipython",
    "version": 3
   },
   "file_extension": ".py",
   "mimetype": "text/x-python",
   "name": "python",
   "nbconvert_exporter": "python",
   "pygments_lexer": "ipython3",
   "version": "3.9.6"
  }
 },
 "nbformat": 4,
 "nbformat_minor": 2
}
